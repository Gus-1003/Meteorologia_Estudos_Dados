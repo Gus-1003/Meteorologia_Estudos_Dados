{
  "nbformat": 4,
  "nbformat_minor": 0,
  "metadata": {
    "colab": {
      "name": "Analise_INMET_Natal_RN_2021.ipynb",
      "provenance": [],
      "toc_visible": true,
      "include_colab_link": true
    },
    "kernelspec": {
      "name": "python3",
      "display_name": "Python 3"
    },
    "language_info": {
      "name": "python"
    }
  },
  "cells": [
    {
      "cell_type": "markdown",
      "metadata": {
        "id": "view-in-github",
        "colab_type": "text"
      },
      "source": [
        "<a href=\"https://colab.research.google.com/github/Gus-1003/Meteorologia_Estudos_Dados/blob/main/An%C3%A1lise_Dados_Historicos_Anuais_INMET/Analise_INMET_Natal_RN_2021.ipynb\" target=\"_parent\"><img src=\"https://colab.research.google.com/assets/colab-badge.svg\" alt=\"Open In Colab\"/></a>"
      ]
    },
    {
      "cell_type": "markdown",
      "source": [
        "# ***Fonte:***\n",
        "    - https://tempo.inmet.gov.br/TabelaEstacoes/A001"
      ],
      "metadata": {
        "id": "mNewoBoQdTCk"
      }
    },
    {
      "cell_type": "markdown",
      "source": [
        "# ***Referência para Programação:***\n",
        "    - https://insightlab.ufc.br/6-truques-do-pandas-para-impulsionar-sua-analise-de-dados"
      ],
      "metadata": {
        "id": "Af1d3Kqo-uSh"
      }
    },
    {
      "cell_type": "markdown",
      "source": [
        "# Conceito Base:\n",
        "\n",
        "1. O conjuntos de dados está relacionado com o intervalo de 1 ano de fatos capturados pela estação meteorologica do municipio de Natal - RN - Brasil. \n",
        "\n",
        "2. Esses conjuntos de dados podem ser vistos como tarefas de classificação ou regressão. Possui 19 colunas/atributos todas vinculadas com aspectos importantes da climatologia local.\n",
        "\n",
        "Preparação dos Dados:\n",
        "\n",
        "\n",
        "* Data: (Dia / Mês / Ano) -> Dia da captura dos dados;\n",
        "\n",
        "* Hora (UTC): \n",
        "\n",
        "---\n",
        "\n",
        "* Temp. Ins. (C):\n",
        "\n",
        "* Temp. Max. (C):\n",
        "\n",
        "* Temp. Min. (C):\n",
        "\n",
        "---\n",
        "\n",
        "* Umi. Ins. (%): \n",
        "\n",
        "* Umi. Max. (%): \n",
        "\n",
        "* Umi. Min. (%):\n",
        "\n",
        "---\n",
        "\n",
        "* Pto Orvalho Ins. (C): \n",
        "\n",
        "* Pto Orvalho Max. (C): \n",
        "\n",
        "* Pto Orvalho Min. (C):\n",
        "\n",
        "---\n",
        "\n",
        "* Pressao Ins. (hPa):\n",
        "\n",
        "* Pressao Max. (hPa):\n",
        "\n",
        "* Pressao Min. (hPa):\n",
        "\n",
        "---\n",
        "\n",
        "* Vel. Vento (m/s):\n",
        "\n",
        "* Dir. Vento (m/s):\n",
        "\n",
        "* Raj. Vento (m/s):\n",
        "\n",
        "---\n",
        "\n",
        "* Radiacao (KJ/m²):\n",
        "\n",
        "* Chuva (mm):"
      ],
      "metadata": {
        "id": "A3RaGoJZ9Gvb"
      }
    },
    {
      "cell_type": "markdown",
      "source": [
        "# ***Importando Bibliotecas Python:***"
      ],
      "metadata": {
        "id": "KwZtHaJydvzG"
      }
    },
    {
      "cell_type": "code",
      "execution_count": 1,
      "metadata": {
        "id": "NKlbB40BIy7c"
      },
      "outputs": [],
      "source": [
        "#Bibliotecas necessárias\n",
        "import pandas as pd\n",
        "import numpy as np\n",
        "import matplotlib.pyplot as plt\n",
        "import seaborn as sb\n",
        "\n",
        "from sklearn.preprocessing import LabelEncoder"
      ]
    },
    {
      "cell_type": "markdown",
      "source": [
        "# ***Criação do Dataframe:***"
      ],
      "metadata": {
        "id": "OR7N393Ld1zk"
      }
    },
    {
      "cell_type": "code",
      "source": [
        "dados = 'https://raw.githubusercontent.com/Gus-1003/Meteorologia_Estudos_Dados/main/An%C3%A1lise_Dados_Historicos_Anuais_INMET/Ano2021/NATAL%20(A304)_2021-01-01_2021-12-31.csv'\n",
        "dataframe = pd.read_csv(dados, delimiter=\";\", quotechar='\"')"
      ],
      "metadata": {
        "id": "YbqdoO0qKBWN"
      },
      "execution_count": 2,
      "outputs": []
    },
    {
      "cell_type": "markdown",
      "source": [
        "# ***Análise Exploratoria***:\n"
      ],
      "metadata": {
        "id": "CbKA3BwkdkZ0"
      }
    },
    {
      "cell_type": "markdown",
      "source": [
        "\n",
        "***Objetivo:*** Ter o conhecimento sobre a base de dados;\n",
        "\n",
        "***Tipos de tecnicas:***\n",
        "\n",
        "    Quantitaivas:\n",
        "        * Frequência - Atributo assume um mesmo valor; \n",
        "        * Localização - Pontos de referência;\n",
        "        * Atributos Numericos:\n",
        "            Média - posição equidistante dos extremos;\n",
        "            Desvio padrão;\n",
        "        * Atributos Categoricos - Moda - Valor encontrado com maior frequência;\n",
        "        * Dispersão / espalhamento;\n",
        "        * Intervalo;\n",
        "\n",
        "    Visuais:\n",
        "        * Diagrama de Disperção - Relacionar variáveis numéricas;\n",
        "        * Diagrama de Caixa\n",
        "        * Histograma\n",
        "        * Nuvem de Palavras\n",
        "\n",
        "    Aprendizagem de Maquina:\n",
        "        * Supervisionado;\n",
        "        * Não - Supervisionado;"
      ],
      "metadata": {
        "id": "HN4Y7F1kixFh"
      }
    },
    {
      "cell_type": "markdown",
      "source": [
        "## Visualização dos dados:"
      ],
      "metadata": {
        "id": "1K6u1nE5g1A7"
      }
    },
    {
      "cell_type": "code",
      "source": [
        "# Esta função retorna as primeiras n linhas do objeto com base na posição. É útil para testar rapidamente se o seu objeto contém o tipo certo de dados.\n",
        "dataframe.head(25)"
      ],
      "metadata": {
        "colab": {
          "base_uri": "https://localhost:8080/",
          "height": 890
        },
        "id": "GBPCEoaCcNnF",
        "outputId": "9909ae0a-9918-474a-f73a-049d9b5daa27"
      },
      "execution_count": 3,
      "outputs": [
        {
          "output_type": "execute_result",
          "data": {
            "text/plain": [
              "          Data  Hora (UTC) Temp. Ins. (C) Temp. Max. (C) Temp. Min. (C)  \\\n",
              "0   01/01/2021           0            NaN            NaN            NaN   \n",
              "1   01/01/2021         100            NaN            NaN            NaN   \n",
              "2   01/01/2021         200            NaN            NaN            NaN   \n",
              "3   01/01/2021         300            NaN            NaN            NaN   \n",
              "4   01/01/2021         400            NaN            NaN            NaN   \n",
              "5   01/01/2021         500            NaN            NaN            NaN   \n",
              "6   01/01/2021         600            NaN            NaN            NaN   \n",
              "7   01/01/2021         700            NaN            NaN            NaN   \n",
              "8   01/01/2021         800            NaN            NaN            NaN   \n",
              "9   01/01/2021         900            NaN            NaN            NaN   \n",
              "10  01/01/2021        1000           27,6           27,8           26,6   \n",
              "11  01/01/2021        1100           28,2           28,8           27,5   \n",
              "12  01/01/2021        1200           29,2           29,3           28,2   \n",
              "13  01/01/2021        1300           29,9           30,5           28,9   \n",
              "14  01/01/2021        1400           29,5           30,5           28,8   \n",
              "15  01/01/2021        1500           29,7           30,7           29,1   \n",
              "16  01/01/2021        1600           29,1           30,4           28,9   \n",
              "17  01/01/2021        1700           29,3           30,1           28,8   \n",
              "18  01/01/2021        1800           29,5           30,1           28,6   \n",
              "19  01/01/2021        1900           28,1           29,7           27,9   \n",
              "20  01/01/2021        2000           27,9           28,7           27,7   \n",
              "21  01/01/2021        2100           27,1           27,8           27,1   \n",
              "22  01/01/2021        2200           26,8           27,1           26,8   \n",
              "23  01/01/2021        2300            NaN            NaN            NaN   \n",
              "24  02/01/2021           0            NaN            NaN            NaN   \n",
              "\n",
              "   Umi. Ins. (%) Umi. Max. (%) Umi. Min. (%) Pto Orvalho Ins. (C)  \\\n",
              "0            NaN           NaN           NaN                  NaN   \n",
              "1            NaN           NaN           NaN                  NaN   \n",
              "2            NaN           NaN           NaN                  NaN   \n",
              "3            NaN           NaN           NaN                  NaN   \n",
              "4            NaN           NaN           NaN                  NaN   \n",
              "5            NaN           NaN           NaN                  NaN   \n",
              "6            NaN           NaN           NaN                  NaN   \n",
              "7            NaN           NaN           NaN                  NaN   \n",
              "8            NaN           NaN           NaN                  NaN   \n",
              "9            NaN           NaN           NaN                  NaN   \n",
              "10          74,0          77,0          73,0                 22,5   \n",
              "11          71,0          75,0          70,0                 22,5   \n",
              "12          69,0          73,0          68,0                 22,9   \n",
              "13          64,0          69,0          63,0                 22,5   \n",
              "14          67,0          69,0          60,0                 22,7   \n",
              "15          62,0          68,0          61,0                 21,6   \n",
              "16          70,0          70,0          62,0                 23,0   \n",
              "17          68,0          71,0          67,0                 22,8   \n",
              "18          68,0          72,0          65,0                 23,1   \n",
              "19          73,0          74,0          66,0                 22,7   \n",
              "20          72,0          75,0          71,0                 22,4   \n",
              "21          75,0          75,0          72,0                 22,2   \n",
              "22          76,0          76,0          75,0                 22,3   \n",
              "23           NaN           NaN           NaN                  NaN   \n",
              "24           NaN           NaN           NaN                  NaN   \n",
              "\n",
              "   Pto Orvalho Max. (C) Pto Orvalho Min. (C) Pressao Ins. (hPa)  \\\n",
              "0                   NaN                  NaN                NaN   \n",
              "1                   NaN                  NaN                NaN   \n",
              "2                   NaN                  NaN                NaN   \n",
              "3                   NaN                  NaN                NaN   \n",
              "4                   NaN                  NaN                NaN   \n",
              "5                   NaN                  NaN                NaN   \n",
              "6                   NaN                  NaN                NaN   \n",
              "7                   NaN                  NaN                NaN   \n",
              "8                   NaN                  NaN                NaN   \n",
              "9                   NaN                  NaN                NaN   \n",
              "10                 22,8                 22,2             1007,9   \n",
              "11                 23,1                 22,3             1008,5   \n",
              "12                 23,3                 22,3             1008,6   \n",
              "13                 23,2                 21,8             1008,4   \n",
              "14                 23,3                 21,7             1007,9   \n",
              "15                 23,5                 21,5             1007,0   \n",
              "16                 23,4                 22,1             1006,4   \n",
              "17                 23,7                 22,6             1006,1   \n",
              "18                 23,5                 22,2             1005,9   \n",
              "19                 23,0                 22,1             1006,0   \n",
              "20                 23,1                 22,4             1006,2   \n",
              "21                 22,4                 22,1             1006,5   \n",
              "22                 22,4                 22,2             1006,8   \n",
              "23                  NaN                  NaN                NaN   \n",
              "24                  NaN                  NaN                NaN   \n",
              "\n",
              "   Pressao Max. (hPa) Pressao Min. (hPa) Vel. Vento (m/s) Dir. Vento (m/s)  \\\n",
              "0                 NaN                NaN              NaN              NaN   \n",
              "1                 NaN                NaN              NaN              NaN   \n",
              "2                 NaN                NaN              NaN              NaN   \n",
              "3                 NaN                NaN              NaN              NaN   \n",
              "4                 NaN                NaN              NaN              NaN   \n",
              "5                 NaN                NaN              NaN              NaN   \n",
              "6                 NaN                NaN              NaN              NaN   \n",
              "7                 NaN                NaN              NaN              NaN   \n",
              "8                 NaN                NaN              NaN              NaN   \n",
              "9                 NaN                NaN              NaN              NaN   \n",
              "10             1007,9             1007,3              4,9            135,0   \n",
              "11             1008,5             1007,8              4,9            132,0   \n",
              "12             1008,6             1008,4              5,2            139,0   \n",
              "13             1008,6             1008,3              4,5            123,0   \n",
              "14             1008,4             1007,9              4,8            127,0   \n",
              "15             1007,9             1007,0              5,4            134,0   \n",
              "16             1007,0             1006,4              5,4            127,0   \n",
              "17             1006,4             1006,0              5,7            135,0   \n",
              "18             1006,1             1005,9              5,0            127,0   \n",
              "19             1006,1             1005,9              5,5            128,0   \n",
              "20             1006,2             1005,9              4,2            138,0   \n",
              "21             1006,5             1006,2              4,3            137,0   \n",
              "22             1006,9             1006,4              4,6            138,0   \n",
              "23                NaN                NaN              NaN              NaN   \n",
              "24                NaN                NaN              NaN              NaN   \n",
              "\n",
              "   Raj. Vento (m/s) Radiacao (KJ/m²) Chuva (mm)  \n",
              "0               NaN              NaN        NaN  \n",
              "1               NaN              NaN        NaN  \n",
              "2               NaN              NaN        NaN  \n",
              "3               NaN              NaN        NaN  \n",
              "4               NaN              NaN        NaN  \n",
              "5               NaN              NaN        NaN  \n",
              "6               NaN              NaN        NaN  \n",
              "7               NaN              NaN        NaN  \n",
              "8               NaN              NaN        NaN  \n",
              "9               NaN              NaN        NaN  \n",
              "10              9,0           809,40        0,0  \n",
              "11              9,1          1720,30        0,0  \n",
              "12             10,0          2418,40        0,0  \n",
              "13             10,3          3078,80        0,0  \n",
              "14              9,3          3370,50        0,0  \n",
              "15             10,2          3458,80        0,0  \n",
              "16             11,2          3326,60        0,0  \n",
              "17             10,1          2934,80        0,0  \n",
              "18             10,7          2358,20        0,0  \n",
              "19             10,2          1525,30        0,0  \n",
              "20              9,5           676,20        0,0  \n",
              "21              8,6            87,60        0,0  \n",
              "22              8,1              NaN        0,0  \n",
              "23              NaN              NaN        NaN  \n",
              "24              NaN              NaN        NaN  "
            ],
            "text/html": [
              "\n",
              "  <div id=\"df-04fa0fb3-d8c0-40e5-8917-bca439ee6231\">\n",
              "    <div class=\"colab-df-container\">\n",
              "      <div>\n",
              "<style scoped>\n",
              "    .dataframe tbody tr th:only-of-type {\n",
              "        vertical-align: middle;\n",
              "    }\n",
              "\n",
              "    .dataframe tbody tr th {\n",
              "        vertical-align: top;\n",
              "    }\n",
              "\n",
              "    .dataframe thead th {\n",
              "        text-align: right;\n",
              "    }\n",
              "</style>\n",
              "<table border=\"1\" class=\"dataframe\">\n",
              "  <thead>\n",
              "    <tr style=\"text-align: right;\">\n",
              "      <th></th>\n",
              "      <th>Data</th>\n",
              "      <th>Hora (UTC)</th>\n",
              "      <th>Temp. Ins. (C)</th>\n",
              "      <th>Temp. Max. (C)</th>\n",
              "      <th>Temp. Min. (C)</th>\n",
              "      <th>Umi. Ins. (%)</th>\n",
              "      <th>Umi. Max. (%)</th>\n",
              "      <th>Umi. Min. (%)</th>\n",
              "      <th>Pto Orvalho Ins. (C)</th>\n",
              "      <th>Pto Orvalho Max. (C)</th>\n",
              "      <th>Pto Orvalho Min. (C)</th>\n",
              "      <th>Pressao Ins. (hPa)</th>\n",
              "      <th>Pressao Max. (hPa)</th>\n",
              "      <th>Pressao Min. (hPa)</th>\n",
              "      <th>Vel. Vento (m/s)</th>\n",
              "      <th>Dir. Vento (m/s)</th>\n",
              "      <th>Raj. Vento (m/s)</th>\n",
              "      <th>Radiacao (KJ/m²)</th>\n",
              "      <th>Chuva (mm)</th>\n",
              "    </tr>\n",
              "  </thead>\n",
              "  <tbody>\n",
              "    <tr>\n",
              "      <th>0</th>\n",
              "      <td>01/01/2021</td>\n",
              "      <td>0</td>\n",
              "      <td>NaN</td>\n",
              "      <td>NaN</td>\n",
              "      <td>NaN</td>\n",
              "      <td>NaN</td>\n",
              "      <td>NaN</td>\n",
              "      <td>NaN</td>\n",
              "      <td>NaN</td>\n",
              "      <td>NaN</td>\n",
              "      <td>NaN</td>\n",
              "      <td>NaN</td>\n",
              "      <td>NaN</td>\n",
              "      <td>NaN</td>\n",
              "      <td>NaN</td>\n",
              "      <td>NaN</td>\n",
              "      <td>NaN</td>\n",
              "      <td>NaN</td>\n",
              "      <td>NaN</td>\n",
              "    </tr>\n",
              "    <tr>\n",
              "      <th>1</th>\n",
              "      <td>01/01/2021</td>\n",
              "      <td>100</td>\n",
              "      <td>NaN</td>\n",
              "      <td>NaN</td>\n",
              "      <td>NaN</td>\n",
              "      <td>NaN</td>\n",
              "      <td>NaN</td>\n",
              "      <td>NaN</td>\n",
              "      <td>NaN</td>\n",
              "      <td>NaN</td>\n",
              "      <td>NaN</td>\n",
              "      <td>NaN</td>\n",
              "      <td>NaN</td>\n",
              "      <td>NaN</td>\n",
              "      <td>NaN</td>\n",
              "      <td>NaN</td>\n",
              "      <td>NaN</td>\n",
              "      <td>NaN</td>\n",
              "      <td>NaN</td>\n",
              "    </tr>\n",
              "    <tr>\n",
              "      <th>2</th>\n",
              "      <td>01/01/2021</td>\n",
              "      <td>200</td>\n",
              "      <td>NaN</td>\n",
              "      <td>NaN</td>\n",
              "      <td>NaN</td>\n",
              "      <td>NaN</td>\n",
              "      <td>NaN</td>\n",
              "      <td>NaN</td>\n",
              "      <td>NaN</td>\n",
              "      <td>NaN</td>\n",
              "      <td>NaN</td>\n",
              "      <td>NaN</td>\n",
              "      <td>NaN</td>\n",
              "      <td>NaN</td>\n",
              "      <td>NaN</td>\n",
              "      <td>NaN</td>\n",
              "      <td>NaN</td>\n",
              "      <td>NaN</td>\n",
              "      <td>NaN</td>\n",
              "    </tr>\n",
              "    <tr>\n",
              "      <th>3</th>\n",
              "      <td>01/01/2021</td>\n",
              "      <td>300</td>\n",
              "      <td>NaN</td>\n",
              "      <td>NaN</td>\n",
              "      <td>NaN</td>\n",
              "      <td>NaN</td>\n",
              "      <td>NaN</td>\n",
              "      <td>NaN</td>\n",
              "      <td>NaN</td>\n",
              "      <td>NaN</td>\n",
              "      <td>NaN</td>\n",
              "      <td>NaN</td>\n",
              "      <td>NaN</td>\n",
              "      <td>NaN</td>\n",
              "      <td>NaN</td>\n",
              "      <td>NaN</td>\n",
              "      <td>NaN</td>\n",
              "      <td>NaN</td>\n",
              "      <td>NaN</td>\n",
              "    </tr>\n",
              "    <tr>\n",
              "      <th>4</th>\n",
              "      <td>01/01/2021</td>\n",
              "      <td>400</td>\n",
              "      <td>NaN</td>\n",
              "      <td>NaN</td>\n",
              "      <td>NaN</td>\n",
              "      <td>NaN</td>\n",
              "      <td>NaN</td>\n",
              "      <td>NaN</td>\n",
              "      <td>NaN</td>\n",
              "      <td>NaN</td>\n",
              "      <td>NaN</td>\n",
              "      <td>NaN</td>\n",
              "      <td>NaN</td>\n",
              "      <td>NaN</td>\n",
              "      <td>NaN</td>\n",
              "      <td>NaN</td>\n",
              "      <td>NaN</td>\n",
              "      <td>NaN</td>\n",
              "      <td>NaN</td>\n",
              "    </tr>\n",
              "    <tr>\n",
              "      <th>5</th>\n",
              "      <td>01/01/2021</td>\n",
              "      <td>500</td>\n",
              "      <td>NaN</td>\n",
              "      <td>NaN</td>\n",
              "      <td>NaN</td>\n",
              "      <td>NaN</td>\n",
              "      <td>NaN</td>\n",
              "      <td>NaN</td>\n",
              "      <td>NaN</td>\n",
              "      <td>NaN</td>\n",
              "      <td>NaN</td>\n",
              "      <td>NaN</td>\n",
              "      <td>NaN</td>\n",
              "      <td>NaN</td>\n",
              "      <td>NaN</td>\n",
              "      <td>NaN</td>\n",
              "      <td>NaN</td>\n",
              "      <td>NaN</td>\n",
              "      <td>NaN</td>\n",
              "    </tr>\n",
              "    <tr>\n",
              "      <th>6</th>\n",
              "      <td>01/01/2021</td>\n",
              "      <td>600</td>\n",
              "      <td>NaN</td>\n",
              "      <td>NaN</td>\n",
              "      <td>NaN</td>\n",
              "      <td>NaN</td>\n",
              "      <td>NaN</td>\n",
              "      <td>NaN</td>\n",
              "      <td>NaN</td>\n",
              "      <td>NaN</td>\n",
              "      <td>NaN</td>\n",
              "      <td>NaN</td>\n",
              "      <td>NaN</td>\n",
              "      <td>NaN</td>\n",
              "      <td>NaN</td>\n",
              "      <td>NaN</td>\n",
              "      <td>NaN</td>\n",
              "      <td>NaN</td>\n",
              "      <td>NaN</td>\n",
              "    </tr>\n",
              "    <tr>\n",
              "      <th>7</th>\n",
              "      <td>01/01/2021</td>\n",
              "      <td>700</td>\n",
              "      <td>NaN</td>\n",
              "      <td>NaN</td>\n",
              "      <td>NaN</td>\n",
              "      <td>NaN</td>\n",
              "      <td>NaN</td>\n",
              "      <td>NaN</td>\n",
              "      <td>NaN</td>\n",
              "      <td>NaN</td>\n",
              "      <td>NaN</td>\n",
              "      <td>NaN</td>\n",
              "      <td>NaN</td>\n",
              "      <td>NaN</td>\n",
              "      <td>NaN</td>\n",
              "      <td>NaN</td>\n",
              "      <td>NaN</td>\n",
              "      <td>NaN</td>\n",
              "      <td>NaN</td>\n",
              "    </tr>\n",
              "    <tr>\n",
              "      <th>8</th>\n",
              "      <td>01/01/2021</td>\n",
              "      <td>800</td>\n",
              "      <td>NaN</td>\n",
              "      <td>NaN</td>\n",
              "      <td>NaN</td>\n",
              "      <td>NaN</td>\n",
              "      <td>NaN</td>\n",
              "      <td>NaN</td>\n",
              "      <td>NaN</td>\n",
              "      <td>NaN</td>\n",
              "      <td>NaN</td>\n",
              "      <td>NaN</td>\n",
              "      <td>NaN</td>\n",
              "      <td>NaN</td>\n",
              "      <td>NaN</td>\n",
              "      <td>NaN</td>\n",
              "      <td>NaN</td>\n",
              "      <td>NaN</td>\n",
              "      <td>NaN</td>\n",
              "    </tr>\n",
              "    <tr>\n",
              "      <th>9</th>\n",
              "      <td>01/01/2021</td>\n",
              "      <td>900</td>\n",
              "      <td>NaN</td>\n",
              "      <td>NaN</td>\n",
              "      <td>NaN</td>\n",
              "      <td>NaN</td>\n",
              "      <td>NaN</td>\n",
              "      <td>NaN</td>\n",
              "      <td>NaN</td>\n",
              "      <td>NaN</td>\n",
              "      <td>NaN</td>\n",
              "      <td>NaN</td>\n",
              "      <td>NaN</td>\n",
              "      <td>NaN</td>\n",
              "      <td>NaN</td>\n",
              "      <td>NaN</td>\n",
              "      <td>NaN</td>\n",
              "      <td>NaN</td>\n",
              "      <td>NaN</td>\n",
              "    </tr>\n",
              "    <tr>\n",
              "      <th>10</th>\n",
              "      <td>01/01/2021</td>\n",
              "      <td>1000</td>\n",
              "      <td>27,6</td>\n",
              "      <td>27,8</td>\n",
              "      <td>26,6</td>\n",
              "      <td>74,0</td>\n",
              "      <td>77,0</td>\n",
              "      <td>73,0</td>\n",
              "      <td>22,5</td>\n",
              "      <td>22,8</td>\n",
              "      <td>22,2</td>\n",
              "      <td>1007,9</td>\n",
              "      <td>1007,9</td>\n",
              "      <td>1007,3</td>\n",
              "      <td>4,9</td>\n",
              "      <td>135,0</td>\n",
              "      <td>9,0</td>\n",
              "      <td>809,40</td>\n",
              "      <td>0,0</td>\n",
              "    </tr>\n",
              "    <tr>\n",
              "      <th>11</th>\n",
              "      <td>01/01/2021</td>\n",
              "      <td>1100</td>\n",
              "      <td>28,2</td>\n",
              "      <td>28,8</td>\n",
              "      <td>27,5</td>\n",
              "      <td>71,0</td>\n",
              "      <td>75,0</td>\n",
              "      <td>70,0</td>\n",
              "      <td>22,5</td>\n",
              "      <td>23,1</td>\n",
              "      <td>22,3</td>\n",
              "      <td>1008,5</td>\n",
              "      <td>1008,5</td>\n",
              "      <td>1007,8</td>\n",
              "      <td>4,9</td>\n",
              "      <td>132,0</td>\n",
              "      <td>9,1</td>\n",
              "      <td>1720,30</td>\n",
              "      <td>0,0</td>\n",
              "    </tr>\n",
              "    <tr>\n",
              "      <th>12</th>\n",
              "      <td>01/01/2021</td>\n",
              "      <td>1200</td>\n",
              "      <td>29,2</td>\n",
              "      <td>29,3</td>\n",
              "      <td>28,2</td>\n",
              "      <td>69,0</td>\n",
              "      <td>73,0</td>\n",
              "      <td>68,0</td>\n",
              "      <td>22,9</td>\n",
              "      <td>23,3</td>\n",
              "      <td>22,3</td>\n",
              "      <td>1008,6</td>\n",
              "      <td>1008,6</td>\n",
              "      <td>1008,4</td>\n",
              "      <td>5,2</td>\n",
              "      <td>139,0</td>\n",
              "      <td>10,0</td>\n",
              "      <td>2418,40</td>\n",
              "      <td>0,0</td>\n",
              "    </tr>\n",
              "    <tr>\n",
              "      <th>13</th>\n",
              "      <td>01/01/2021</td>\n",
              "      <td>1300</td>\n",
              "      <td>29,9</td>\n",
              "      <td>30,5</td>\n",
              "      <td>28,9</td>\n",
              "      <td>64,0</td>\n",
              "      <td>69,0</td>\n",
              "      <td>63,0</td>\n",
              "      <td>22,5</td>\n",
              "      <td>23,2</td>\n",
              "      <td>21,8</td>\n",
              "      <td>1008,4</td>\n",
              "      <td>1008,6</td>\n",
              "      <td>1008,3</td>\n",
              "      <td>4,5</td>\n",
              "      <td>123,0</td>\n",
              "      <td>10,3</td>\n",
              "      <td>3078,80</td>\n",
              "      <td>0,0</td>\n",
              "    </tr>\n",
              "    <tr>\n",
              "      <th>14</th>\n",
              "      <td>01/01/2021</td>\n",
              "      <td>1400</td>\n",
              "      <td>29,5</td>\n",
              "      <td>30,5</td>\n",
              "      <td>28,8</td>\n",
              "      <td>67,0</td>\n",
              "      <td>69,0</td>\n",
              "      <td>60,0</td>\n",
              "      <td>22,7</td>\n",
              "      <td>23,3</td>\n",
              "      <td>21,7</td>\n",
              "      <td>1007,9</td>\n",
              "      <td>1008,4</td>\n",
              "      <td>1007,9</td>\n",
              "      <td>4,8</td>\n",
              "      <td>127,0</td>\n",
              "      <td>9,3</td>\n",
              "      <td>3370,50</td>\n",
              "      <td>0,0</td>\n",
              "    </tr>\n",
              "    <tr>\n",
              "      <th>15</th>\n",
              "      <td>01/01/2021</td>\n",
              "      <td>1500</td>\n",
              "      <td>29,7</td>\n",
              "      <td>30,7</td>\n",
              "      <td>29,1</td>\n",
              "      <td>62,0</td>\n",
              "      <td>68,0</td>\n",
              "      <td>61,0</td>\n",
              "      <td>21,6</td>\n",
              "      <td>23,5</td>\n",
              "      <td>21,5</td>\n",
              "      <td>1007,0</td>\n",
              "      <td>1007,9</td>\n",
              "      <td>1007,0</td>\n",
              "      <td>5,4</td>\n",
              "      <td>134,0</td>\n",
              "      <td>10,2</td>\n",
              "      <td>3458,80</td>\n",
              "      <td>0,0</td>\n",
              "    </tr>\n",
              "    <tr>\n",
              "      <th>16</th>\n",
              "      <td>01/01/2021</td>\n",
              "      <td>1600</td>\n",
              "      <td>29,1</td>\n",
              "      <td>30,4</td>\n",
              "      <td>28,9</td>\n",
              "      <td>70,0</td>\n",
              "      <td>70,0</td>\n",
              "      <td>62,0</td>\n",
              "      <td>23,0</td>\n",
              "      <td>23,4</td>\n",
              "      <td>22,1</td>\n",
              "      <td>1006,4</td>\n",
              "      <td>1007,0</td>\n",
              "      <td>1006,4</td>\n",
              "      <td>5,4</td>\n",
              "      <td>127,0</td>\n",
              "      <td>11,2</td>\n",
              "      <td>3326,60</td>\n",
              "      <td>0,0</td>\n",
              "    </tr>\n",
              "    <tr>\n",
              "      <th>17</th>\n",
              "      <td>01/01/2021</td>\n",
              "      <td>1700</td>\n",
              "      <td>29,3</td>\n",
              "      <td>30,1</td>\n",
              "      <td>28,8</td>\n",
              "      <td>68,0</td>\n",
              "      <td>71,0</td>\n",
              "      <td>67,0</td>\n",
              "      <td>22,8</td>\n",
              "      <td>23,7</td>\n",
              "      <td>22,6</td>\n",
              "      <td>1006,1</td>\n",
              "      <td>1006,4</td>\n",
              "      <td>1006,0</td>\n",
              "      <td>5,7</td>\n",
              "      <td>135,0</td>\n",
              "      <td>10,1</td>\n",
              "      <td>2934,80</td>\n",
              "      <td>0,0</td>\n",
              "    </tr>\n",
              "    <tr>\n",
              "      <th>18</th>\n",
              "      <td>01/01/2021</td>\n",
              "      <td>1800</td>\n",
              "      <td>29,5</td>\n",
              "      <td>30,1</td>\n",
              "      <td>28,6</td>\n",
              "      <td>68,0</td>\n",
              "      <td>72,0</td>\n",
              "      <td>65,0</td>\n",
              "      <td>23,1</td>\n",
              "      <td>23,5</td>\n",
              "      <td>22,2</td>\n",
              "      <td>1005,9</td>\n",
              "      <td>1006,1</td>\n",
              "      <td>1005,9</td>\n",
              "      <td>5,0</td>\n",
              "      <td>127,0</td>\n",
              "      <td>10,7</td>\n",
              "      <td>2358,20</td>\n",
              "      <td>0,0</td>\n",
              "    </tr>\n",
              "    <tr>\n",
              "      <th>19</th>\n",
              "      <td>01/01/2021</td>\n",
              "      <td>1900</td>\n",
              "      <td>28,1</td>\n",
              "      <td>29,7</td>\n",
              "      <td>27,9</td>\n",
              "      <td>73,0</td>\n",
              "      <td>74,0</td>\n",
              "      <td>66,0</td>\n",
              "      <td>22,7</td>\n",
              "      <td>23,0</td>\n",
              "      <td>22,1</td>\n",
              "      <td>1006,0</td>\n",
              "      <td>1006,1</td>\n",
              "      <td>1005,9</td>\n",
              "      <td>5,5</td>\n",
              "      <td>128,0</td>\n",
              "      <td>10,2</td>\n",
              "      <td>1525,30</td>\n",
              "      <td>0,0</td>\n",
              "    </tr>\n",
              "    <tr>\n",
              "      <th>20</th>\n",
              "      <td>01/01/2021</td>\n",
              "      <td>2000</td>\n",
              "      <td>27,9</td>\n",
              "      <td>28,7</td>\n",
              "      <td>27,7</td>\n",
              "      <td>72,0</td>\n",
              "      <td>75,0</td>\n",
              "      <td>71,0</td>\n",
              "      <td>22,4</td>\n",
              "      <td>23,1</td>\n",
              "      <td>22,4</td>\n",
              "      <td>1006,2</td>\n",
              "      <td>1006,2</td>\n",
              "      <td>1005,9</td>\n",
              "      <td>4,2</td>\n",
              "      <td>138,0</td>\n",
              "      <td>9,5</td>\n",
              "      <td>676,20</td>\n",
              "      <td>0,0</td>\n",
              "    </tr>\n",
              "    <tr>\n",
              "      <th>21</th>\n",
              "      <td>01/01/2021</td>\n",
              "      <td>2100</td>\n",
              "      <td>27,1</td>\n",
              "      <td>27,8</td>\n",
              "      <td>27,1</td>\n",
              "      <td>75,0</td>\n",
              "      <td>75,0</td>\n",
              "      <td>72,0</td>\n",
              "      <td>22,2</td>\n",
              "      <td>22,4</td>\n",
              "      <td>22,1</td>\n",
              "      <td>1006,5</td>\n",
              "      <td>1006,5</td>\n",
              "      <td>1006,2</td>\n",
              "      <td>4,3</td>\n",
              "      <td>137,0</td>\n",
              "      <td>8,6</td>\n",
              "      <td>87,60</td>\n",
              "      <td>0,0</td>\n",
              "    </tr>\n",
              "    <tr>\n",
              "      <th>22</th>\n",
              "      <td>01/01/2021</td>\n",
              "      <td>2200</td>\n",
              "      <td>26,8</td>\n",
              "      <td>27,1</td>\n",
              "      <td>26,8</td>\n",
              "      <td>76,0</td>\n",
              "      <td>76,0</td>\n",
              "      <td>75,0</td>\n",
              "      <td>22,3</td>\n",
              "      <td>22,4</td>\n",
              "      <td>22,2</td>\n",
              "      <td>1006,8</td>\n",
              "      <td>1006,9</td>\n",
              "      <td>1006,4</td>\n",
              "      <td>4,6</td>\n",
              "      <td>138,0</td>\n",
              "      <td>8,1</td>\n",
              "      <td>NaN</td>\n",
              "      <td>0,0</td>\n",
              "    </tr>\n",
              "    <tr>\n",
              "      <th>23</th>\n",
              "      <td>01/01/2021</td>\n",
              "      <td>2300</td>\n",
              "      <td>NaN</td>\n",
              "      <td>NaN</td>\n",
              "      <td>NaN</td>\n",
              "      <td>NaN</td>\n",
              "      <td>NaN</td>\n",
              "      <td>NaN</td>\n",
              "      <td>NaN</td>\n",
              "      <td>NaN</td>\n",
              "      <td>NaN</td>\n",
              "      <td>NaN</td>\n",
              "      <td>NaN</td>\n",
              "      <td>NaN</td>\n",
              "      <td>NaN</td>\n",
              "      <td>NaN</td>\n",
              "      <td>NaN</td>\n",
              "      <td>NaN</td>\n",
              "      <td>NaN</td>\n",
              "    </tr>\n",
              "    <tr>\n",
              "      <th>24</th>\n",
              "      <td>02/01/2021</td>\n",
              "      <td>0</td>\n",
              "      <td>NaN</td>\n",
              "      <td>NaN</td>\n",
              "      <td>NaN</td>\n",
              "      <td>NaN</td>\n",
              "      <td>NaN</td>\n",
              "      <td>NaN</td>\n",
              "      <td>NaN</td>\n",
              "      <td>NaN</td>\n",
              "      <td>NaN</td>\n",
              "      <td>NaN</td>\n",
              "      <td>NaN</td>\n",
              "      <td>NaN</td>\n",
              "      <td>NaN</td>\n",
              "      <td>NaN</td>\n",
              "      <td>NaN</td>\n",
              "      <td>NaN</td>\n",
              "      <td>NaN</td>\n",
              "    </tr>\n",
              "  </tbody>\n",
              "</table>\n",
              "</div>\n",
              "      <button class=\"colab-df-convert\" onclick=\"convertToInteractive('df-04fa0fb3-d8c0-40e5-8917-bca439ee6231')\"\n",
              "              title=\"Convert this dataframe to an interactive table.\"\n",
              "              style=\"display:none;\">\n",
              "        \n",
              "  <svg xmlns=\"http://www.w3.org/2000/svg\" height=\"24px\"viewBox=\"0 0 24 24\"\n",
              "       width=\"24px\">\n",
              "    <path d=\"M0 0h24v24H0V0z\" fill=\"none\"/>\n",
              "    <path d=\"M18.56 5.44l.94 2.06.94-2.06 2.06-.94-2.06-.94-.94-2.06-.94 2.06-2.06.94zm-11 1L8.5 8.5l.94-2.06 2.06-.94-2.06-.94L8.5 2.5l-.94 2.06-2.06.94zm10 10l.94 2.06.94-2.06 2.06-.94-2.06-.94-.94-2.06-.94 2.06-2.06.94z\"/><path d=\"M17.41 7.96l-1.37-1.37c-.4-.4-.92-.59-1.43-.59-.52 0-1.04.2-1.43.59L10.3 9.45l-7.72 7.72c-.78.78-.78 2.05 0 2.83L4 21.41c.39.39.9.59 1.41.59.51 0 1.02-.2 1.41-.59l7.78-7.78 2.81-2.81c.8-.78.8-2.07 0-2.86zM5.41 20L4 18.59l7.72-7.72 1.47 1.35L5.41 20z\"/>\n",
              "  </svg>\n",
              "      </button>\n",
              "      \n",
              "  <style>\n",
              "    .colab-df-container {\n",
              "      display:flex;\n",
              "      flex-wrap:wrap;\n",
              "      gap: 12px;\n",
              "    }\n",
              "\n",
              "    .colab-df-convert {\n",
              "      background-color: #E8F0FE;\n",
              "      border: none;\n",
              "      border-radius: 50%;\n",
              "      cursor: pointer;\n",
              "      display: none;\n",
              "      fill: #1967D2;\n",
              "      height: 32px;\n",
              "      padding: 0 0 0 0;\n",
              "      width: 32px;\n",
              "    }\n",
              "\n",
              "    .colab-df-convert:hover {\n",
              "      background-color: #E2EBFA;\n",
              "      box-shadow: 0px 1px 2px rgba(60, 64, 67, 0.3), 0px 1px 3px 1px rgba(60, 64, 67, 0.15);\n",
              "      fill: #174EA6;\n",
              "    }\n",
              "\n",
              "    [theme=dark] .colab-df-convert {\n",
              "      background-color: #3B4455;\n",
              "      fill: #D2E3FC;\n",
              "    }\n",
              "\n",
              "    [theme=dark] .colab-df-convert:hover {\n",
              "      background-color: #434B5C;\n",
              "      box-shadow: 0px 1px 3px 1px rgba(0, 0, 0, 0.15);\n",
              "      filter: drop-shadow(0px 1px 2px rgba(0, 0, 0, 0.3));\n",
              "      fill: #FFFFFF;\n",
              "    }\n",
              "  </style>\n",
              "\n",
              "      <script>\n",
              "        const buttonEl =\n",
              "          document.querySelector('#df-04fa0fb3-d8c0-40e5-8917-bca439ee6231 button.colab-df-convert');\n",
              "        buttonEl.style.display =\n",
              "          google.colab.kernel.accessAllowed ? 'block' : 'none';\n",
              "\n",
              "        async function convertToInteractive(key) {\n",
              "          const element = document.querySelector('#df-04fa0fb3-d8c0-40e5-8917-bca439ee6231');\n",
              "          const dataTable =\n",
              "            await google.colab.kernel.invokeFunction('convertToInteractive',\n",
              "                                                     [key], {});\n",
              "          if (!dataTable) return;\n",
              "\n",
              "          const docLinkHtml = 'Like what you see? Visit the ' +\n",
              "            '<a target=\"_blank\" href=https://colab.research.google.com/notebooks/data_table.ipynb>data table notebook</a>'\n",
              "            + ' to learn more about interactive tables.';\n",
              "          element.innerHTML = '';\n",
              "          dataTable['output_type'] = 'display_data';\n",
              "          await google.colab.output.renderOutput(dataTable, element);\n",
              "          const docLink = document.createElement('div');\n",
              "          docLink.innerHTML = docLinkHtml;\n",
              "          element.appendChild(docLink);\n",
              "        }\n",
              "      </script>\n",
              "    </div>\n",
              "  </div>\n",
              "  "
            ]
          },
          "metadata": {},
          "execution_count": 3
        }
      ]
    },
    {
      "cell_type": "code",
      "source": [
        "# Retorna uma tupla representando a dimensionalidade do DataFrame.\n",
        "dataframe.shape"
      ],
      "metadata": {
        "id": "4Ya9jMMg3EfI",
        "outputId": "47170a48-a959-4ec3-bf7a-fbb3efea62d9",
        "colab": {
          "base_uri": "https://localhost:8080/"
        }
      },
      "execution_count": 4,
      "outputs": [
        {
          "output_type": "execute_result",
          "data": {
            "text/plain": [
              "(8760, 19)"
            ]
          },
          "metadata": {},
          "execution_count": 4
        }
      ]
    },
    {
      "cell_type": "markdown",
      "source": [
        "***Análise:***\n",
        "\n",
        "*   São contabilizadas no total 8760 registros de medidas(linhas) em 19 features (colunas);\n",
        "*   Os 10 primeiros registros apresentam valores NaN (Not a Number) - Podendo significar alterações não desejadas no dataset que podem si repertir posteriormente;\n",
        "*   Ao avaliar o padrão conseguimos concluir que os valores NaN ocorrem no periodo de 0 até 900 do atributo UTC (Marca as horas do dia). Podendo assim concluir que as Metricas em questão só são efetuadas de 10h até as 22h, a partir desse ponto elas voltam a ser NaN; \n",
        "\n"
      ],
      "metadata": {
        "id": "ymZoAkfGxftm"
      }
    },
    {
      "cell_type": "markdown",
      "source": [
        "## Metricas de cada atributo:"
      ],
      "metadata": {
        "id": "-C4b1QccfVTM"
      }
    },
    {
      "cell_type": "code",
      "source": [
        "# Esse método imprime informações sobre um DataFrame, incluindo o dtype(Tipo do dado) e a quantidade de indices na coluna, valores não nulos e uso de memória.\n",
        "dataframe.info()"
      ],
      "metadata": {
        "colab": {
          "base_uri": "https://localhost:8080/"
        },
        "id": "u0cumctGazLP",
        "outputId": "47fd4665-886f-4c94-d8f3-cab5fa516ac6"
      },
      "execution_count": 5,
      "outputs": [
        {
          "output_type": "stream",
          "name": "stdout",
          "text": [
            "<class 'pandas.core.frame.DataFrame'>\n",
            "RangeIndex: 8760 entries, 0 to 8759\n",
            "Data columns (total 19 columns):\n",
            " #   Column                Non-Null Count  Dtype \n",
            "---  ------                --------------  ----- \n",
            " 0   Data                  8760 non-null   object\n",
            " 1   Hora (UTC)            8760 non-null   int64 \n",
            " 2   Temp. Ins. (C)        4110 non-null   object\n",
            " 3   Temp. Max. (C)        4096 non-null   object\n",
            " 4   Temp. Min. (C)        4096 non-null   object\n",
            " 5   Umi. Ins. (%)         4110 non-null   object\n",
            " 6   Umi. Max. (%)         4096 non-null   object\n",
            " 7   Umi. Min. (%)         4096 non-null   object\n",
            " 8   Pto Orvalho Ins. (C)  4110 non-null   object\n",
            " 9   Pto Orvalho Max. (C)  4096 non-null   object\n",
            " 10  Pto Orvalho Min. (C)  4096 non-null   object\n",
            " 11  Pressao Ins. (hPa)    4110 non-null   object\n",
            " 12  Pressao Max. (hPa)    4096 non-null   object\n",
            " 13  Pressao Min. (hPa)    4096 non-null   object\n",
            " 14  Vel. Vento (m/s)      4110 non-null   object\n",
            " 15  Dir. Vento (m/s)      4110 non-null   object\n",
            " 16  Raj. Vento (m/s)      4043 non-null   object\n",
            " 17  Radiacao (KJ/m²)      4080 non-null   object\n",
            " 18  Chuva (mm)            4110 non-null   object\n",
            "dtypes: int64(1), object(18)\n",
            "memory usage: 1.3+ MB\n"
          ]
        }
      ]
    },
    {
      "cell_type": "markdown",
      "source": [
        "***Análise:***\n",
        "\n",
        "*   As colunas \"Data\" e \"Hora(UTC)\" aprensentam mais que o dobro de amostras que as outras colunas;\n",
        "*   Com exceção da coluna \"Hora\" ,que possui valores numericos e inteiros, todos os outros atributos são do tipo \"Object\";\n",
        "*   A coluna com menos registros é a Raj. Vento com 4043 indices;"
      ],
      "metadata": {
        "id": "-oHbeNVu02Br"
      }
    },
    {
      "cell_type": "code",
      "source": [
        "# O método \"describe\" gera estatísticas descritivas. \n",
        "    # incluem aquelas que resumem a tendência central, dispersão e forma da distribuição de um conjunto de dados, excluindo NaNvalores.\n",
        "dataframe.describe()"
      ],
      "metadata": {
        "colab": {
          "base_uri": "https://localhost:8080/",
          "height": 297
        },
        "id": "joefPDW-LIsc",
        "outputId": "99384ecb-68f2-4516-cb01-851912d49eb3"
      },
      "execution_count": 6,
      "outputs": [
        {
          "output_type": "execute_result",
          "data": {
            "text/plain": [
              "        Hora (UTC)\n",
              "count  8760.000000\n",
              "mean   1150.000000\n",
              "std     692.258169\n",
              "min       0.000000\n",
              "25%     575.000000\n",
              "50%    1150.000000\n",
              "75%    1725.000000\n",
              "max    2300.000000"
            ],
            "text/html": [
              "\n",
              "  <div id=\"df-f72addd8-7ea2-407b-b76f-1035598fa9af\">\n",
              "    <div class=\"colab-df-container\">\n",
              "      <div>\n",
              "<style scoped>\n",
              "    .dataframe tbody tr th:only-of-type {\n",
              "        vertical-align: middle;\n",
              "    }\n",
              "\n",
              "    .dataframe tbody tr th {\n",
              "        vertical-align: top;\n",
              "    }\n",
              "\n",
              "    .dataframe thead th {\n",
              "        text-align: right;\n",
              "    }\n",
              "</style>\n",
              "<table border=\"1\" class=\"dataframe\">\n",
              "  <thead>\n",
              "    <tr style=\"text-align: right;\">\n",
              "      <th></th>\n",
              "      <th>Hora (UTC)</th>\n",
              "    </tr>\n",
              "  </thead>\n",
              "  <tbody>\n",
              "    <tr>\n",
              "      <th>count</th>\n",
              "      <td>8760.000000</td>\n",
              "    </tr>\n",
              "    <tr>\n",
              "      <th>mean</th>\n",
              "      <td>1150.000000</td>\n",
              "    </tr>\n",
              "    <tr>\n",
              "      <th>std</th>\n",
              "      <td>692.258169</td>\n",
              "    </tr>\n",
              "    <tr>\n",
              "      <th>min</th>\n",
              "      <td>0.000000</td>\n",
              "    </tr>\n",
              "    <tr>\n",
              "      <th>25%</th>\n",
              "      <td>575.000000</td>\n",
              "    </tr>\n",
              "    <tr>\n",
              "      <th>50%</th>\n",
              "      <td>1150.000000</td>\n",
              "    </tr>\n",
              "    <tr>\n",
              "      <th>75%</th>\n",
              "      <td>1725.000000</td>\n",
              "    </tr>\n",
              "    <tr>\n",
              "      <th>max</th>\n",
              "      <td>2300.000000</td>\n",
              "    </tr>\n",
              "  </tbody>\n",
              "</table>\n",
              "</div>\n",
              "      <button class=\"colab-df-convert\" onclick=\"convertToInteractive('df-f72addd8-7ea2-407b-b76f-1035598fa9af')\"\n",
              "              title=\"Convert this dataframe to an interactive table.\"\n",
              "              style=\"display:none;\">\n",
              "        \n",
              "  <svg xmlns=\"http://www.w3.org/2000/svg\" height=\"24px\"viewBox=\"0 0 24 24\"\n",
              "       width=\"24px\">\n",
              "    <path d=\"M0 0h24v24H0V0z\" fill=\"none\"/>\n",
              "    <path d=\"M18.56 5.44l.94 2.06.94-2.06 2.06-.94-2.06-.94-.94-2.06-.94 2.06-2.06.94zm-11 1L8.5 8.5l.94-2.06 2.06-.94-2.06-.94L8.5 2.5l-.94 2.06-2.06.94zm10 10l.94 2.06.94-2.06 2.06-.94-2.06-.94-.94-2.06-.94 2.06-2.06.94z\"/><path d=\"M17.41 7.96l-1.37-1.37c-.4-.4-.92-.59-1.43-.59-.52 0-1.04.2-1.43.59L10.3 9.45l-7.72 7.72c-.78.78-.78 2.05 0 2.83L4 21.41c.39.39.9.59 1.41.59.51 0 1.02-.2 1.41-.59l7.78-7.78 2.81-2.81c.8-.78.8-2.07 0-2.86zM5.41 20L4 18.59l7.72-7.72 1.47 1.35L5.41 20z\"/>\n",
              "  </svg>\n",
              "      </button>\n",
              "      \n",
              "  <style>\n",
              "    .colab-df-container {\n",
              "      display:flex;\n",
              "      flex-wrap:wrap;\n",
              "      gap: 12px;\n",
              "    }\n",
              "\n",
              "    .colab-df-convert {\n",
              "      background-color: #E8F0FE;\n",
              "      border: none;\n",
              "      border-radius: 50%;\n",
              "      cursor: pointer;\n",
              "      display: none;\n",
              "      fill: #1967D2;\n",
              "      height: 32px;\n",
              "      padding: 0 0 0 0;\n",
              "      width: 32px;\n",
              "    }\n",
              "\n",
              "    .colab-df-convert:hover {\n",
              "      background-color: #E2EBFA;\n",
              "      box-shadow: 0px 1px 2px rgba(60, 64, 67, 0.3), 0px 1px 3px 1px rgba(60, 64, 67, 0.15);\n",
              "      fill: #174EA6;\n",
              "    }\n",
              "\n",
              "    [theme=dark] .colab-df-convert {\n",
              "      background-color: #3B4455;\n",
              "      fill: #D2E3FC;\n",
              "    }\n",
              "\n",
              "    [theme=dark] .colab-df-convert:hover {\n",
              "      background-color: #434B5C;\n",
              "      box-shadow: 0px 1px 3px 1px rgba(0, 0, 0, 0.15);\n",
              "      filter: drop-shadow(0px 1px 2px rgba(0, 0, 0, 0.3));\n",
              "      fill: #FFFFFF;\n",
              "    }\n",
              "  </style>\n",
              "\n",
              "      <script>\n",
              "        const buttonEl =\n",
              "          document.querySelector('#df-f72addd8-7ea2-407b-b76f-1035598fa9af button.colab-df-convert');\n",
              "        buttonEl.style.display =\n",
              "          google.colab.kernel.accessAllowed ? 'block' : 'none';\n",
              "\n",
              "        async function convertToInteractive(key) {\n",
              "          const element = document.querySelector('#df-f72addd8-7ea2-407b-b76f-1035598fa9af');\n",
              "          const dataTable =\n",
              "            await google.colab.kernel.invokeFunction('convertToInteractive',\n",
              "                                                     [key], {});\n",
              "          if (!dataTable) return;\n",
              "\n",
              "          const docLinkHtml = 'Like what you see? Visit the ' +\n",
              "            '<a target=\"_blank\" href=https://colab.research.google.com/notebooks/data_table.ipynb>data table notebook</a>'\n",
              "            + ' to learn more about interactive tables.';\n",
              "          element.innerHTML = '';\n",
              "          dataTable['output_type'] = 'display_data';\n",
              "          await google.colab.output.renderOutput(dataTable, element);\n",
              "          const docLink = document.createElement('div');\n",
              "          docLink.innerHTML = docLinkHtml;\n",
              "          element.appendChild(docLink);\n",
              "        }\n",
              "      </script>\n",
              "    </div>\n",
              "  </div>\n",
              "  "
            ]
          },
          "metadata": {},
          "execution_count": 6
        }
      ]
    },
    {
      "cell_type": "markdown",
      "source": [
        "***Explicação: Métricas***\n",
        "\n",
        "* **count**: número de observações não nulas\n",
        "\n",
        "* **mean**: média dos valores\n",
        "\n",
        "* **std**: desvio padrão\n",
        "\n",
        "* **max**: valor máximo\n",
        "\n",
        "* **min**: valor mínimo"
      ],
      "metadata": {
        "id": "OdSilqlvdrZI"
      }
    },
    {
      "cell_type": "markdown",
      "source": [
        "***Análise:***\n",
        "\n",
        "*   O método \"descibe\" por padrão avalia somente as features do tipo inteiro ou flutuante. Nesse caso ele está avaliando somente a coluna de \"Horas (UTC)\";\n",
        "*   Apesar de conseguirmos saber disso só visualizando a tabela inicial, aqui temos a certeza que o minimo é 00h e o máximo é 23h;"
      ],
      "metadata": {
        "id": "WZEfK8sC5KRQ"
      }
    },
    {
      "cell_type": "code",
      "source": [
        "# Para dados de objetos (por exemplo, strings ou timestamps), o índice do resultado incluirá count, unique, top e freq.\n",
        "\n",
        "# count =  Quantos indices naquela coluna.\n",
        "# unique =  Quantos valores diferentes aquela coluna possui.\n",
        "# top =  o valor que mais si repete. \n",
        "# freq = a frequência que esse valor si repetiu\n",
        "\n",
        "dataframe.describe(include='object')"
      ],
      "metadata": {
        "colab": {
          "base_uri": "https://localhost:8080/",
          "height": 239
        },
        "id": "k_2xbwifcdTt",
        "outputId": "3c051bef-3510-4c74-9d6e-c18dcc74fb0c"
      },
      "execution_count": 7,
      "outputs": [
        {
          "output_type": "execute_result",
          "data": {
            "text/plain": [
              "              Data Temp. Ins. (C) Temp. Max. (C) Temp. Min. (C) Umi. Ins. (%)  \\\n",
              "count         8760           4110           4096           4096          4110   \n",
              "unique         365             92             99             88            47   \n",
              "top     01/01/2021           28,6           29,4           28,8          69,0   \n",
              "freq            24            128            121            138           300   \n",
              "\n",
              "       Umi. Max. (%) Umi. Min. (%) Pto Orvalho Ins. (C) Pto Orvalho Max. (C)  \\\n",
              "count           4096          4096                 4110                 4096   \n",
              "unique            43            49                   76                   76   \n",
              "top             72,0          67,0                 23,4                 24,0   \n",
              "freq             325           292                  183                  193   \n",
              "\n",
              "       Pto Orvalho Min. (C) Pressao Ins. (hPa) Pressao Max. (hPa)  \\\n",
              "count                  4096               4110               4096   \n",
              "unique                   75                128                127   \n",
              "top                    22,6             1006,6             1006,6   \n",
              "freq                    200                 98                 91   \n",
              "\n",
              "       Pressao Min. (hPa) Vel. Vento (m/s) Dir. Vento (m/s) Raj. Vento (m/s)  \\\n",
              "count                4096             4110             4110             4043   \n",
              "unique                130               83              167              137   \n",
              "top                1006,2              4,9            134,0              9,1   \n",
              "freq                   99              160              110              101   \n",
              "\n",
              "       Radiacao (KJ/m²) Chuva (mm)  \n",
              "count              4080       4110  \n",
              "unique             3871          9  \n",
              "top              246,90        0,0  \n",
              "freq                  3       4016  "
            ],
            "text/html": [
              "\n",
              "  <div id=\"df-60569bdb-a95f-4f0b-9c91-0dfc77dfc32b\">\n",
              "    <div class=\"colab-df-container\">\n",
              "      <div>\n",
              "<style scoped>\n",
              "    .dataframe tbody tr th:only-of-type {\n",
              "        vertical-align: middle;\n",
              "    }\n",
              "\n",
              "    .dataframe tbody tr th {\n",
              "        vertical-align: top;\n",
              "    }\n",
              "\n",
              "    .dataframe thead th {\n",
              "        text-align: right;\n",
              "    }\n",
              "</style>\n",
              "<table border=\"1\" class=\"dataframe\">\n",
              "  <thead>\n",
              "    <tr style=\"text-align: right;\">\n",
              "      <th></th>\n",
              "      <th>Data</th>\n",
              "      <th>Temp. Ins. (C)</th>\n",
              "      <th>Temp. Max. (C)</th>\n",
              "      <th>Temp. Min. (C)</th>\n",
              "      <th>Umi. Ins. (%)</th>\n",
              "      <th>Umi. Max. (%)</th>\n",
              "      <th>Umi. Min. (%)</th>\n",
              "      <th>Pto Orvalho Ins. (C)</th>\n",
              "      <th>Pto Orvalho Max. (C)</th>\n",
              "      <th>Pto Orvalho Min. (C)</th>\n",
              "      <th>Pressao Ins. (hPa)</th>\n",
              "      <th>Pressao Max. (hPa)</th>\n",
              "      <th>Pressao Min. (hPa)</th>\n",
              "      <th>Vel. Vento (m/s)</th>\n",
              "      <th>Dir. Vento (m/s)</th>\n",
              "      <th>Raj. Vento (m/s)</th>\n",
              "      <th>Radiacao (KJ/m²)</th>\n",
              "      <th>Chuva (mm)</th>\n",
              "    </tr>\n",
              "  </thead>\n",
              "  <tbody>\n",
              "    <tr>\n",
              "      <th>count</th>\n",
              "      <td>8760</td>\n",
              "      <td>4110</td>\n",
              "      <td>4096</td>\n",
              "      <td>4096</td>\n",
              "      <td>4110</td>\n",
              "      <td>4096</td>\n",
              "      <td>4096</td>\n",
              "      <td>4110</td>\n",
              "      <td>4096</td>\n",
              "      <td>4096</td>\n",
              "      <td>4110</td>\n",
              "      <td>4096</td>\n",
              "      <td>4096</td>\n",
              "      <td>4110</td>\n",
              "      <td>4110</td>\n",
              "      <td>4043</td>\n",
              "      <td>4080</td>\n",
              "      <td>4110</td>\n",
              "    </tr>\n",
              "    <tr>\n",
              "      <th>unique</th>\n",
              "      <td>365</td>\n",
              "      <td>92</td>\n",
              "      <td>99</td>\n",
              "      <td>88</td>\n",
              "      <td>47</td>\n",
              "      <td>43</td>\n",
              "      <td>49</td>\n",
              "      <td>76</td>\n",
              "      <td>76</td>\n",
              "      <td>75</td>\n",
              "      <td>128</td>\n",
              "      <td>127</td>\n",
              "      <td>130</td>\n",
              "      <td>83</td>\n",
              "      <td>167</td>\n",
              "      <td>137</td>\n",
              "      <td>3871</td>\n",
              "      <td>9</td>\n",
              "    </tr>\n",
              "    <tr>\n",
              "      <th>top</th>\n",
              "      <td>01/01/2021</td>\n",
              "      <td>28,6</td>\n",
              "      <td>29,4</td>\n",
              "      <td>28,8</td>\n",
              "      <td>69,0</td>\n",
              "      <td>72,0</td>\n",
              "      <td>67,0</td>\n",
              "      <td>23,4</td>\n",
              "      <td>24,0</td>\n",
              "      <td>22,6</td>\n",
              "      <td>1006,6</td>\n",
              "      <td>1006,6</td>\n",
              "      <td>1006,2</td>\n",
              "      <td>4,9</td>\n",
              "      <td>134,0</td>\n",
              "      <td>9,1</td>\n",
              "      <td>246,90</td>\n",
              "      <td>0,0</td>\n",
              "    </tr>\n",
              "    <tr>\n",
              "      <th>freq</th>\n",
              "      <td>24</td>\n",
              "      <td>128</td>\n",
              "      <td>121</td>\n",
              "      <td>138</td>\n",
              "      <td>300</td>\n",
              "      <td>325</td>\n",
              "      <td>292</td>\n",
              "      <td>183</td>\n",
              "      <td>193</td>\n",
              "      <td>200</td>\n",
              "      <td>98</td>\n",
              "      <td>91</td>\n",
              "      <td>99</td>\n",
              "      <td>160</td>\n",
              "      <td>110</td>\n",
              "      <td>101</td>\n",
              "      <td>3</td>\n",
              "      <td>4016</td>\n",
              "    </tr>\n",
              "  </tbody>\n",
              "</table>\n",
              "</div>\n",
              "      <button class=\"colab-df-convert\" onclick=\"convertToInteractive('df-60569bdb-a95f-4f0b-9c91-0dfc77dfc32b')\"\n",
              "              title=\"Convert this dataframe to an interactive table.\"\n",
              "              style=\"display:none;\">\n",
              "        \n",
              "  <svg xmlns=\"http://www.w3.org/2000/svg\" height=\"24px\"viewBox=\"0 0 24 24\"\n",
              "       width=\"24px\">\n",
              "    <path d=\"M0 0h24v24H0V0z\" fill=\"none\"/>\n",
              "    <path d=\"M18.56 5.44l.94 2.06.94-2.06 2.06-.94-2.06-.94-.94-2.06-.94 2.06-2.06.94zm-11 1L8.5 8.5l.94-2.06 2.06-.94-2.06-.94L8.5 2.5l-.94 2.06-2.06.94zm10 10l.94 2.06.94-2.06 2.06-.94-2.06-.94-.94-2.06-.94 2.06-2.06.94z\"/><path d=\"M17.41 7.96l-1.37-1.37c-.4-.4-.92-.59-1.43-.59-.52 0-1.04.2-1.43.59L10.3 9.45l-7.72 7.72c-.78.78-.78 2.05 0 2.83L4 21.41c.39.39.9.59 1.41.59.51 0 1.02-.2 1.41-.59l7.78-7.78 2.81-2.81c.8-.78.8-2.07 0-2.86zM5.41 20L4 18.59l7.72-7.72 1.47 1.35L5.41 20z\"/>\n",
              "  </svg>\n",
              "      </button>\n",
              "      \n",
              "  <style>\n",
              "    .colab-df-container {\n",
              "      display:flex;\n",
              "      flex-wrap:wrap;\n",
              "      gap: 12px;\n",
              "    }\n",
              "\n",
              "    .colab-df-convert {\n",
              "      background-color: #E8F0FE;\n",
              "      border: none;\n",
              "      border-radius: 50%;\n",
              "      cursor: pointer;\n",
              "      display: none;\n",
              "      fill: #1967D2;\n",
              "      height: 32px;\n",
              "      padding: 0 0 0 0;\n",
              "      width: 32px;\n",
              "    }\n",
              "\n",
              "    .colab-df-convert:hover {\n",
              "      background-color: #E2EBFA;\n",
              "      box-shadow: 0px 1px 2px rgba(60, 64, 67, 0.3), 0px 1px 3px 1px rgba(60, 64, 67, 0.15);\n",
              "      fill: #174EA6;\n",
              "    }\n",
              "\n",
              "    [theme=dark] .colab-df-convert {\n",
              "      background-color: #3B4455;\n",
              "      fill: #D2E3FC;\n",
              "    }\n",
              "\n",
              "    [theme=dark] .colab-df-convert:hover {\n",
              "      background-color: #434B5C;\n",
              "      box-shadow: 0px 1px 3px 1px rgba(0, 0, 0, 0.15);\n",
              "      filter: drop-shadow(0px 1px 2px rgba(0, 0, 0, 0.3));\n",
              "      fill: #FFFFFF;\n",
              "    }\n",
              "  </style>\n",
              "\n",
              "      <script>\n",
              "        const buttonEl =\n",
              "          document.querySelector('#df-60569bdb-a95f-4f0b-9c91-0dfc77dfc32b button.colab-df-convert');\n",
              "        buttonEl.style.display =\n",
              "          google.colab.kernel.accessAllowed ? 'block' : 'none';\n",
              "\n",
              "        async function convertToInteractive(key) {\n",
              "          const element = document.querySelector('#df-60569bdb-a95f-4f0b-9c91-0dfc77dfc32b');\n",
              "          const dataTable =\n",
              "            await google.colab.kernel.invokeFunction('convertToInteractive',\n",
              "                                                     [key], {});\n",
              "          if (!dataTable) return;\n",
              "\n",
              "          const docLinkHtml = 'Like what you see? Visit the ' +\n",
              "            '<a target=\"_blank\" href=https://colab.research.google.com/notebooks/data_table.ipynb>data table notebook</a>'\n",
              "            + ' to learn more about interactive tables.';\n",
              "          element.innerHTML = '';\n",
              "          dataTable['output_type'] = 'display_data';\n",
              "          await google.colab.output.renderOutput(dataTable, element);\n",
              "          const docLink = document.createElement('div');\n",
              "          docLink.innerHTML = docLinkHtml;\n",
              "          element.appendChild(docLink);\n",
              "        }\n",
              "      </script>\n",
              "    </div>\n",
              "  </div>\n",
              "  "
            ]
          },
          "metadata": {},
          "execution_count": 7
        }
      ]
    },
    {
      "cell_type": "markdown",
      "source": [
        "***Análise:***\n",
        "\n",
        "*   O atributo \"Chuva (mm)\" só possui 9 valores unicos, desses 9 valores o atributo \"0\" si repetiu 4016x;\n",
        "*   O atributo \"Radiação' é o que menos possui repetições de valores;\n",
        "*   O atributo \"Umi.Max.' é o que menos possui menos valores únicos, o que implica que a frequência de repetição desses valores está bem distribuido;"
      ],
      "metadata": {
        "id": "2TKtFhBM9jnA"
      }
    },
    {
      "cell_type": "markdown",
      "source": [
        "***Conclusão Preliminar:***\n",
        "\n",
        "*   A frequência de chuvas indicam que durante a maior parte do ano de 2021 Natal passou por um grande periodo de estiagem;\n",
        "*   Podemos considerar que essas metricas são efetuadas durante o periodo diurno e talvez alguns registros podem não ter sido contabilizados;"
      ],
      "metadata": {
        "id": "bmnBMaLJHnDA"
      }
    },
    {
      "cell_type": "markdown",
      "source": [
        "***Questionamento Gerados:***\n",
        "\n",
        "*   Pode ocorrer valores diferentes de chuva ao decorrer de um mesmo dia?\n",
        "*   Essas quantidades estão sendo contabilizadas?\n",
        "\n"
      ],
      "metadata": {
        "id": "WOAOc_YVJr9p"
      }
    },
    {
      "cell_type": "markdown",
      "source": [
        "***Pensamento:***\n",
        "\n",
        "*   Desenvolver tabela e gráficos baseado nos valores unicos do atributo Data (Dia; Mês; Ano) e a quantidade de chuva que ocorreu em relação a:\n",
        "    + Quantas chuvas ocorreram em determinado mês:\n",
        "    + Qual mês possui chuvas mais intensas:"
      ],
      "metadata": {
        "id": "YE6JQssdLfWO"
      }
    },
    {
      "cell_type": "markdown",
      "source": [
        "## Limpando o Dataset:"
      ],
      "metadata": {
        "id": "N0bYZeSQfnpD"
      }
    },
    {
      "cell_type": "code",
      "source": [
        "#verifica quantas amostras possuem valor NaN por coluna\n",
        "dataframe.isna().sum()"
      ],
      "metadata": {
        "colab": {
          "base_uri": "https://localhost:8080/"
        },
        "id": "FcOdS1pIbg39",
        "outputId": "3568bdac-459d-4f9e-da7a-cda6c88a5837"
      },
      "execution_count": 8,
      "outputs": [
        {
          "output_type": "execute_result",
          "data": {
            "text/plain": [
              "Data                       0\n",
              "Hora (UTC)                 0\n",
              "Temp. Ins. (C)          4650\n",
              "Temp. Max. (C)          4664\n",
              "Temp. Min. (C)          4664\n",
              "Umi. Ins. (%)           4650\n",
              "Umi. Max. (%)           4664\n",
              "Umi. Min. (%)           4664\n",
              "Pto Orvalho Ins. (C)    4650\n",
              "Pto Orvalho Max. (C)    4664\n",
              "Pto Orvalho Min. (C)    4664\n",
              "Pressao Ins. (hPa)      4650\n",
              "Pressao Max. (hPa)      4664\n",
              "Pressao Min. (hPa)      4664\n",
              "Vel. Vento (m/s)        4650\n",
              "Dir. Vento (m/s)        4650\n",
              "Raj. Vento (m/s)        4717\n",
              "Radiacao (KJ/m²)        4680\n",
              "Chuva (mm)              4650\n",
              "dtype: int64"
            ]
          },
          "metadata": {},
          "execution_count": 8
        }
      ]
    },
    {
      "cell_type": "code",
      "source": [
        "# Porcentagem dos valores ausentes\n",
        "dataframe.isna().mean()"
      ],
      "metadata": {
        "id": "YWNlw8S1-XbB",
        "outputId": "295ae508-826b-4e84-a793-8cf8b3a80ae4",
        "colab": {
          "base_uri": "https://localhost:8080/"
        }
      },
      "execution_count": 9,
      "outputs": [
        {
          "output_type": "execute_result",
          "data": {
            "text/plain": [
              "Data                    0.000000\n",
              "Hora (UTC)              0.000000\n",
              "Temp. Ins. (C)          0.530822\n",
              "Temp. Max. (C)          0.532420\n",
              "Temp. Min. (C)          0.532420\n",
              "Umi. Ins. (%)           0.530822\n",
              "Umi. Max. (%)           0.532420\n",
              "Umi. Min. (%)           0.532420\n",
              "Pto Orvalho Ins. (C)    0.530822\n",
              "Pto Orvalho Max. (C)    0.532420\n",
              "Pto Orvalho Min. (C)    0.532420\n",
              "Pressao Ins. (hPa)      0.530822\n",
              "Pressao Max. (hPa)      0.532420\n",
              "Pressao Min. (hPa)      0.532420\n",
              "Vel. Vento (m/s)        0.530822\n",
              "Dir. Vento (m/s)        0.530822\n",
              "Raj. Vento (m/s)        0.538470\n",
              "Radiacao (KJ/m²)        0.534247\n",
              "Chuva (mm)              0.530822\n",
              "dtype: float64"
            ]
          },
          "metadata": {},
          "execution_count": 9
        }
      ]
    },
    {
      "cell_type": "code",
      "source": [
        "# Remoção dos valores nulos\n",
        "dataframe.dropna(inplace=True) # o default do dropna é axis = 0 (linhas) / axis = 1 apagaria colunas"
      ],
      "metadata": {
        "id": "czsW1K7Ift-0"
      },
      "execution_count": 10,
      "outputs": []
    },
    {
      "cell_type": "code",
      "source": [
        "#verificação de quantas amostras com valor NaN sobraram em cada coluna\n",
        "dataframe.isna().sum()"
      ],
      "metadata": {
        "colab": {
          "base_uri": "https://localhost:8080/"
        },
        "id": "3bt4cjzWgfkK",
        "outputId": "b3fa3d3f-133f-421e-fa8f-a28427e4b654"
      },
      "execution_count": 11,
      "outputs": [
        {
          "output_type": "execute_result",
          "data": {
            "text/plain": [
              "Data                    0\n",
              "Hora (UTC)              0\n",
              "Temp. Ins. (C)          0\n",
              "Temp. Max. (C)          0\n",
              "Temp. Min. (C)          0\n",
              "Umi. Ins. (%)           0\n",
              "Umi. Max. (%)           0\n",
              "Umi. Min. (%)           0\n",
              "Pto Orvalho Ins. (C)    0\n",
              "Pto Orvalho Max. (C)    0\n",
              "Pto Orvalho Min. (C)    0\n",
              "Pressao Ins. (hPa)      0\n",
              "Pressao Max. (hPa)      0\n",
              "Pressao Min. (hPa)      0\n",
              "Vel. Vento (m/s)        0\n",
              "Dir. Vento (m/s)        0\n",
              "Raj. Vento (m/s)        0\n",
              "Radiacao (KJ/m²)        0\n",
              "Chuva (mm)              0\n",
              "dtype: int64"
            ]
          },
          "metadata": {},
          "execution_count": 11
        }
      ]
    },
    {
      "cell_type": "code",
      "source": [
        "# mostra tipo de dados das colunas \n",
        "dataframe.info()"
      ],
      "metadata": {
        "colab": {
          "base_uri": "https://localhost:8080/"
        },
        "id": "z8TU9O1Cgq7S",
        "outputId": "d5124892-4c4b-450a-cd4c-c6bb03abc1f8"
      },
      "execution_count": 12,
      "outputs": [
        {
          "output_type": "stream",
          "name": "stdout",
          "text": [
            "<class 'pandas.core.frame.DataFrame'>\n",
            "Int64Index: 4013 entries, 10 to 8755\n",
            "Data columns (total 19 columns):\n",
            " #   Column                Non-Null Count  Dtype \n",
            "---  ------                --------------  ----- \n",
            " 0   Data                  4013 non-null   object\n",
            " 1   Hora (UTC)            4013 non-null   int64 \n",
            " 2   Temp. Ins. (C)        4013 non-null   object\n",
            " 3   Temp. Max. (C)        4013 non-null   object\n",
            " 4   Temp. Min. (C)        4013 non-null   object\n",
            " 5   Umi. Ins. (%)         4013 non-null   object\n",
            " 6   Umi. Max. (%)         4013 non-null   object\n",
            " 7   Umi. Min. (%)         4013 non-null   object\n",
            " 8   Pto Orvalho Ins. (C)  4013 non-null   object\n",
            " 9   Pto Orvalho Max. (C)  4013 non-null   object\n",
            " 10  Pto Orvalho Min. (C)  4013 non-null   object\n",
            " 11  Pressao Ins. (hPa)    4013 non-null   object\n",
            " 12  Pressao Max. (hPa)    4013 non-null   object\n",
            " 13  Pressao Min. (hPa)    4013 non-null   object\n",
            " 14  Vel. Vento (m/s)      4013 non-null   object\n",
            " 15  Dir. Vento (m/s)      4013 non-null   object\n",
            " 16  Raj. Vento (m/s)      4013 non-null   object\n",
            " 17  Radiacao (KJ/m²)      4013 non-null   object\n",
            " 18  Chuva (mm)            4013 non-null   object\n",
            "dtypes: int64(1), object(18)\n",
            "memory usage: 627.0+ KB\n"
          ]
        }
      ]
    },
    {
      "cell_type": "markdown",
      "source": [
        "## Foco no atributo Chuva:"
      ],
      "metadata": {
        "id": "FjLhI_qKeGil"
      }
    },
    {
      "cell_type": "code",
      "source": [
        "#mostra os valores únicos\n",
        "dataframe['Chuva (mm)'].unique()"
      ],
      "metadata": {
        "colab": {
          "base_uri": "https://localhost:8080/"
        },
        "id": "BLQWeyA3cvx0",
        "outputId": "eb4319f3-aee6-40ab-87c4-877f1c2a87f4"
      },
      "execution_count": 13,
      "outputs": [
        {
          "output_type": "execute_result",
          "data": {
            "text/plain": [
              "array(['0,0', '0,2', '1,0', '0,6', '0,4', '1,4', '0,8', '1,8', '1,2'],\n",
              "      dtype=object)"
            ]
          },
          "metadata": {},
          "execution_count": 13
        }
      ]
    },
    {
      "cell_type": "code",
      "source": [
        "#conta quantas amostras em cada valor\n",
        "dataframe['Chuva (mm)'].value_counts()"
      ],
      "metadata": {
        "colab": {
          "base_uri": "https://localhost:8080/"
        },
        "id": "HmqRDxqfc8WV",
        "outputId": "914e1607-6e9f-43fb-b335-abb6e2ffec9f"
      },
      "execution_count": 14,
      "outputs": [
        {
          "output_type": "execute_result",
          "data": {
            "text/plain": [
              "0,0    3921\n",
              "0,2      70\n",
              "0,4      11\n",
              "0,6       4\n",
              "1,4       2\n",
              "0,8       2\n",
              "1,0       1\n",
              "1,8       1\n",
              "1,2       1\n",
              "Name: Chuva (mm), dtype: int64"
            ]
          },
          "metadata": {},
          "execution_count": 14
        }
      ]
    },
    {
      "cell_type": "markdown",
      "source": [
        "## Tranformando Object's em float's:"
      ],
      "metadata": {
        "id": "qVzRDMOjdpPb"
      }
    },
    {
      "cell_type": "code",
      "source": [
        "# Quantidade de linhas em um dataset\n",
        "# len(dataframe.index)"
      ],
      "metadata": {
        "id": "sN8_Or038-g0"
      },
      "execution_count": 15,
      "outputs": []
    },
    {
      "cell_type": "code",
      "source": [
        "# Quantidade de colunas em um dataset\n",
        "# len(dataframe.columns)"
      ],
      "metadata": {
        "id": "d8Oomp_G_9NA"
      },
      "execution_count": 16,
      "outputs": []
    },
    {
      "cell_type": "code",
      "source": [
        "auxiliar = dataframe\n",
        "datacrono = dataframe[['Data', 'Hora (UTC)']]"
      ],
      "metadata": {
        "id": "nAq5NxnoFa4Y"
      },
      "execution_count": 17,
      "outputs": []
    },
    {
      "cell_type": "code",
      "source": [
        "auxiliar = auxiliar.drop(columns=['Data'])\n",
        "auxiliar = auxiliar.drop(columns=['Hora (UTC)'])"
      ],
      "metadata": {
        "id": "lppXiJqzEedZ"
      },
      "execution_count": 18,
      "outputs": []
    },
    {
      "cell_type": "code",
      "source": [
        "# Laço responsável por trocar as virgulas por pontos\n",
        "for colunas in auxiliar:\n",
        "  auxiliar[colunas] = auxiliar[colunas].str.replace(',', '.')"
      ],
      "metadata": {
        "id": "IDhaWJu3Bess"
      },
      "execution_count": 19,
      "outputs": []
    },
    {
      "cell_type": "code",
      "source": [
        "# Função responsável por trocar os tipos de dados: String -> Float\n",
        "auxiliar = auxiliar.astype(float) "
      ],
      "metadata": {
        "id": "pAos98Mfj63L"
      },
      "execution_count": 20,
      "outputs": []
    },
    {
      "cell_type": "code",
      "source": [
        "# Mostra o tipo de dados das colunas \n",
        "auxiliar.info()"
      ],
      "metadata": {
        "id": "NKxNz7hw48iW",
        "outputId": "b3e52679-e5fc-4634-dcbb-d7d1b7c97e70",
        "colab": {
          "base_uri": "https://localhost:8080/"
        }
      },
      "execution_count": 21,
      "outputs": [
        {
          "output_type": "stream",
          "name": "stdout",
          "text": [
            "<class 'pandas.core.frame.DataFrame'>\n",
            "Int64Index: 4013 entries, 10 to 8755\n",
            "Data columns (total 17 columns):\n",
            " #   Column                Non-Null Count  Dtype  \n",
            "---  ------                --------------  -----  \n",
            " 0   Temp. Ins. (C)        4013 non-null   float64\n",
            " 1   Temp. Max. (C)        4013 non-null   float64\n",
            " 2   Temp. Min. (C)        4013 non-null   float64\n",
            " 3   Umi. Ins. (%)         4013 non-null   float64\n",
            " 4   Umi. Max. (%)         4013 non-null   float64\n",
            " 5   Umi. Min. (%)         4013 non-null   float64\n",
            " 6   Pto Orvalho Ins. (C)  4013 non-null   float64\n",
            " 7   Pto Orvalho Max. (C)  4013 non-null   float64\n",
            " 8   Pto Orvalho Min. (C)  4013 non-null   float64\n",
            " 9   Pressao Ins. (hPa)    4013 non-null   float64\n",
            " 10  Pressao Max. (hPa)    4013 non-null   float64\n",
            " 11  Pressao Min. (hPa)    4013 non-null   float64\n",
            " 12  Vel. Vento (m/s)      4013 non-null   float64\n",
            " 13  Dir. Vento (m/s)      4013 non-null   float64\n",
            " 14  Raj. Vento (m/s)      4013 non-null   float64\n",
            " 15  Radiacao (KJ/m²)      4013 non-null   float64\n",
            " 16  Chuva (mm)            4013 non-null   float64\n",
            "dtypes: float64(17)\n",
            "memory usage: 564.3 KB\n"
          ]
        }
      ]
    },
    {
      "cell_type": "markdown",
      "source": [
        "## Aglutinação de Tabelas:"
      ],
      "metadata": {
        "id": "x78wcyg5bPn9"
      }
    },
    {
      "cell_type": "code",
      "source": [
        "#result = pd.concat([datacrono, auxiliar])"
      ],
      "metadata": {
        "id": "h3Ng_S1nbUNj"
      },
      "execution_count": 22,
      "outputs": []
    },
    {
      "cell_type": "code",
      "source": [
        "# Convertendo o valor da data para o tipo DateTime\n",
        "data = pd.to_datetime(datacrono['Data'])\n",
        "\n",
        "# Concatenando DataFrames\n",
        "result = pd.concat([data, datacrono['Hora (UTC)'], auxiliar], axis=1)\n",
        "# Definindo coluna Data como indice para linhas\n",
        "result = result.set_index(['Data'])\n",
        "result"
      ],
      "metadata": {
        "id": "9YUnCo8NGab6",
        "outputId": "8bd5c0a7-6a06-4314-85fc-d7b78bcbf8a0",
        "colab": {
          "base_uri": "https://localhost:8080/",
          "height": 686
        }
      },
      "execution_count": 37,
      "outputs": [
        {
          "output_type": "execute_result",
          "data": {
            "text/plain": [
              "            Hora (UTC)  Temp. Ins. (C)  Temp. Max. (C)  Temp. Min. (C)  \\\n",
              "Data                                                                     \n",
              "2021-01-01        1000            27.6            27.8            26.6   \n",
              "2021-01-01        1100            28.2            28.8            27.5   \n",
              "2021-01-01        1200            29.2            29.3            28.2   \n",
              "2021-01-01        1300            29.9            30.5            28.9   \n",
              "2021-01-01        1400            29.5            30.5            28.8   \n",
              "...                ...             ...             ...             ...   \n",
              "2021-12-31        1500            30.9            31.2            29.0   \n",
              "2021-12-31        1600            30.3            31.1            29.6   \n",
              "2021-12-31        1700            29.9            30.8            29.2   \n",
              "2021-12-31        1800            29.7            30.8            29.0   \n",
              "2021-12-31        1900            29.0            30.1            28.7   \n",
              "\n",
              "            Umi. Ins. (%)  Umi. Max. (%)  Umi. Min. (%)  Pto Orvalho Ins. (C)  \\\n",
              "Data                                                                            \n",
              "2021-01-01           74.0           77.0           73.0                  22.5   \n",
              "2021-01-01           71.0           75.0           70.0                  22.5   \n",
              "2021-01-01           69.0           73.0           68.0                  22.9   \n",
              "2021-01-01           64.0           69.0           63.0                  22.5   \n",
              "2021-01-01           67.0           69.0           60.0                  22.7   \n",
              "...                   ...            ...            ...                   ...   \n",
              "2021-12-31           65.0           74.0           65.0                  23.5   \n",
              "2021-12-31           65.0           70.0           64.0                  23.1   \n",
              "2021-12-31           68.0           70.0           65.0                  23.5   \n",
              "2021-12-31           68.0           71.0           67.0                  23.2   \n",
              "2021-12-31           71.0           73.0           68.0                  23.2   \n",
              "\n",
              "            Pto Orvalho Max. (C)  Pto Orvalho Min. (C)  Pressao Ins. (hPa)  \\\n",
              "Data                                                                         \n",
              "2021-01-01                  22.8                  22.2              1007.9   \n",
              "2021-01-01                  23.1                  22.3              1008.5   \n",
              "2021-01-01                  23.3                  22.3              1008.6   \n",
              "2021-01-01                  23.2                  21.8              1008.4   \n",
              "2021-01-01                  23.3                  21.7              1007.9   \n",
              "...                          ...                   ...                 ...   \n",
              "2021-12-31                  24.3                  23.0              1004.4   \n",
              "2021-12-31                  24.1                  23.0              1004.0   \n",
              "2021-12-31                  24.0                  22.7              1003.3   \n",
              "2021-12-31                  24.1                  22.9              1003.2   \n",
              "2021-12-31                  23.8                  22.9              1003.1   \n",
              "\n",
              "            Pressao Max. (hPa)  Pressao Min. (hPa)  Vel. Vento (m/s)  \\\n",
              "Data                                                                   \n",
              "2021-01-01              1007.9              1007.3               4.9   \n",
              "2021-01-01              1008.5              1007.8               4.9   \n",
              "2021-01-01              1008.6              1008.4               5.2   \n",
              "2021-01-01              1008.6              1008.3               4.5   \n",
              "2021-01-01              1008.4              1007.9               4.8   \n",
              "...                        ...                 ...               ...   \n",
              "2021-12-31              1005.2              1004.4               5.2   \n",
              "2021-12-31              1004.5              1004.0               4.8   \n",
              "2021-12-31              1004.0              1003.3               4.7   \n",
              "2021-12-31              1003.4              1003.1               4.2   \n",
              "2021-12-31              1003.3              1003.0               4.5   \n",
              "\n",
              "            Dir. Vento (m/s)  Raj. Vento (m/s)  Radiacao (KJ/m²)  Chuva (mm)  \n",
              "Data                                                                          \n",
              "2021-01-01             135.0               9.0             809.4         0.0  \n",
              "2021-01-01             132.0               9.1            1720.3         0.0  \n",
              "2021-01-01             139.0              10.0            2418.4         0.0  \n",
              "2021-01-01             123.0              10.3            3078.8         0.0  \n",
              "2021-01-01             127.0               9.3            3370.5         0.0  \n",
              "...                      ...               ...               ...         ...  \n",
              "2021-12-31             125.0               9.5            2957.2         0.0  \n",
              "2021-12-31             117.0               9.5            3150.5         0.0  \n",
              "2021-12-31             109.0               9.0            2640.3         0.0  \n",
              "2021-12-31             116.0              10.3            1960.5         0.0  \n",
              "2021-12-31             110.0               9.8            1300.5         0.0  \n",
              "\n",
              "[4013 rows x 18 columns]"
            ],
            "text/html": [
              "\n",
              "  <div id=\"df-dd9766ac-b005-4a4d-b628-fb8db8dab5d0\">\n",
              "    <div class=\"colab-df-container\">\n",
              "      <div>\n",
              "<style scoped>\n",
              "    .dataframe tbody tr th:only-of-type {\n",
              "        vertical-align: middle;\n",
              "    }\n",
              "\n",
              "    .dataframe tbody tr th {\n",
              "        vertical-align: top;\n",
              "    }\n",
              "\n",
              "    .dataframe thead th {\n",
              "        text-align: right;\n",
              "    }\n",
              "</style>\n",
              "<table border=\"1\" class=\"dataframe\">\n",
              "  <thead>\n",
              "    <tr style=\"text-align: right;\">\n",
              "      <th></th>\n",
              "      <th>Hora (UTC)</th>\n",
              "      <th>Temp. Ins. (C)</th>\n",
              "      <th>Temp. Max. (C)</th>\n",
              "      <th>Temp. Min. (C)</th>\n",
              "      <th>Umi. Ins. (%)</th>\n",
              "      <th>Umi. Max. (%)</th>\n",
              "      <th>Umi. Min. (%)</th>\n",
              "      <th>Pto Orvalho Ins. (C)</th>\n",
              "      <th>Pto Orvalho Max. (C)</th>\n",
              "      <th>Pto Orvalho Min. (C)</th>\n",
              "      <th>Pressao Ins. (hPa)</th>\n",
              "      <th>Pressao Max. (hPa)</th>\n",
              "      <th>Pressao Min. (hPa)</th>\n",
              "      <th>Vel. Vento (m/s)</th>\n",
              "      <th>Dir. Vento (m/s)</th>\n",
              "      <th>Raj. Vento (m/s)</th>\n",
              "      <th>Radiacao (KJ/m²)</th>\n",
              "      <th>Chuva (mm)</th>\n",
              "    </tr>\n",
              "    <tr>\n",
              "      <th>Data</th>\n",
              "      <th></th>\n",
              "      <th></th>\n",
              "      <th></th>\n",
              "      <th></th>\n",
              "      <th></th>\n",
              "      <th></th>\n",
              "      <th></th>\n",
              "      <th></th>\n",
              "      <th></th>\n",
              "      <th></th>\n",
              "      <th></th>\n",
              "      <th></th>\n",
              "      <th></th>\n",
              "      <th></th>\n",
              "      <th></th>\n",
              "      <th></th>\n",
              "      <th></th>\n",
              "      <th></th>\n",
              "    </tr>\n",
              "  </thead>\n",
              "  <tbody>\n",
              "    <tr>\n",
              "      <th>2021-01-01</th>\n",
              "      <td>1000</td>\n",
              "      <td>27.6</td>\n",
              "      <td>27.8</td>\n",
              "      <td>26.6</td>\n",
              "      <td>74.0</td>\n",
              "      <td>77.0</td>\n",
              "      <td>73.0</td>\n",
              "      <td>22.5</td>\n",
              "      <td>22.8</td>\n",
              "      <td>22.2</td>\n",
              "      <td>1007.9</td>\n",
              "      <td>1007.9</td>\n",
              "      <td>1007.3</td>\n",
              "      <td>4.9</td>\n",
              "      <td>135.0</td>\n",
              "      <td>9.0</td>\n",
              "      <td>809.4</td>\n",
              "      <td>0.0</td>\n",
              "    </tr>\n",
              "    <tr>\n",
              "      <th>2021-01-01</th>\n",
              "      <td>1100</td>\n",
              "      <td>28.2</td>\n",
              "      <td>28.8</td>\n",
              "      <td>27.5</td>\n",
              "      <td>71.0</td>\n",
              "      <td>75.0</td>\n",
              "      <td>70.0</td>\n",
              "      <td>22.5</td>\n",
              "      <td>23.1</td>\n",
              "      <td>22.3</td>\n",
              "      <td>1008.5</td>\n",
              "      <td>1008.5</td>\n",
              "      <td>1007.8</td>\n",
              "      <td>4.9</td>\n",
              "      <td>132.0</td>\n",
              "      <td>9.1</td>\n",
              "      <td>1720.3</td>\n",
              "      <td>0.0</td>\n",
              "    </tr>\n",
              "    <tr>\n",
              "      <th>2021-01-01</th>\n",
              "      <td>1200</td>\n",
              "      <td>29.2</td>\n",
              "      <td>29.3</td>\n",
              "      <td>28.2</td>\n",
              "      <td>69.0</td>\n",
              "      <td>73.0</td>\n",
              "      <td>68.0</td>\n",
              "      <td>22.9</td>\n",
              "      <td>23.3</td>\n",
              "      <td>22.3</td>\n",
              "      <td>1008.6</td>\n",
              "      <td>1008.6</td>\n",
              "      <td>1008.4</td>\n",
              "      <td>5.2</td>\n",
              "      <td>139.0</td>\n",
              "      <td>10.0</td>\n",
              "      <td>2418.4</td>\n",
              "      <td>0.0</td>\n",
              "    </tr>\n",
              "    <tr>\n",
              "      <th>2021-01-01</th>\n",
              "      <td>1300</td>\n",
              "      <td>29.9</td>\n",
              "      <td>30.5</td>\n",
              "      <td>28.9</td>\n",
              "      <td>64.0</td>\n",
              "      <td>69.0</td>\n",
              "      <td>63.0</td>\n",
              "      <td>22.5</td>\n",
              "      <td>23.2</td>\n",
              "      <td>21.8</td>\n",
              "      <td>1008.4</td>\n",
              "      <td>1008.6</td>\n",
              "      <td>1008.3</td>\n",
              "      <td>4.5</td>\n",
              "      <td>123.0</td>\n",
              "      <td>10.3</td>\n",
              "      <td>3078.8</td>\n",
              "      <td>0.0</td>\n",
              "    </tr>\n",
              "    <tr>\n",
              "      <th>2021-01-01</th>\n",
              "      <td>1400</td>\n",
              "      <td>29.5</td>\n",
              "      <td>30.5</td>\n",
              "      <td>28.8</td>\n",
              "      <td>67.0</td>\n",
              "      <td>69.0</td>\n",
              "      <td>60.0</td>\n",
              "      <td>22.7</td>\n",
              "      <td>23.3</td>\n",
              "      <td>21.7</td>\n",
              "      <td>1007.9</td>\n",
              "      <td>1008.4</td>\n",
              "      <td>1007.9</td>\n",
              "      <td>4.8</td>\n",
              "      <td>127.0</td>\n",
              "      <td>9.3</td>\n",
              "      <td>3370.5</td>\n",
              "      <td>0.0</td>\n",
              "    </tr>\n",
              "    <tr>\n",
              "      <th>...</th>\n",
              "      <td>...</td>\n",
              "      <td>...</td>\n",
              "      <td>...</td>\n",
              "      <td>...</td>\n",
              "      <td>...</td>\n",
              "      <td>...</td>\n",
              "      <td>...</td>\n",
              "      <td>...</td>\n",
              "      <td>...</td>\n",
              "      <td>...</td>\n",
              "      <td>...</td>\n",
              "      <td>...</td>\n",
              "      <td>...</td>\n",
              "      <td>...</td>\n",
              "      <td>...</td>\n",
              "      <td>...</td>\n",
              "      <td>...</td>\n",
              "      <td>...</td>\n",
              "    </tr>\n",
              "    <tr>\n",
              "      <th>2021-12-31</th>\n",
              "      <td>1500</td>\n",
              "      <td>30.9</td>\n",
              "      <td>31.2</td>\n",
              "      <td>29.0</td>\n",
              "      <td>65.0</td>\n",
              "      <td>74.0</td>\n",
              "      <td>65.0</td>\n",
              "      <td>23.5</td>\n",
              "      <td>24.3</td>\n",
              "      <td>23.0</td>\n",
              "      <td>1004.4</td>\n",
              "      <td>1005.2</td>\n",
              "      <td>1004.4</td>\n",
              "      <td>5.2</td>\n",
              "      <td>125.0</td>\n",
              "      <td>9.5</td>\n",
              "      <td>2957.2</td>\n",
              "      <td>0.0</td>\n",
              "    </tr>\n",
              "    <tr>\n",
              "      <th>2021-12-31</th>\n",
              "      <td>1600</td>\n",
              "      <td>30.3</td>\n",
              "      <td>31.1</td>\n",
              "      <td>29.6</td>\n",
              "      <td>65.0</td>\n",
              "      <td>70.0</td>\n",
              "      <td>64.0</td>\n",
              "      <td>23.1</td>\n",
              "      <td>24.1</td>\n",
              "      <td>23.0</td>\n",
              "      <td>1004.0</td>\n",
              "      <td>1004.5</td>\n",
              "      <td>1004.0</td>\n",
              "      <td>4.8</td>\n",
              "      <td>117.0</td>\n",
              "      <td>9.5</td>\n",
              "      <td>3150.5</td>\n",
              "      <td>0.0</td>\n",
              "    </tr>\n",
              "    <tr>\n",
              "      <th>2021-12-31</th>\n",
              "      <td>1700</td>\n",
              "      <td>29.9</td>\n",
              "      <td>30.8</td>\n",
              "      <td>29.2</td>\n",
              "      <td>68.0</td>\n",
              "      <td>70.0</td>\n",
              "      <td>65.0</td>\n",
              "      <td>23.5</td>\n",
              "      <td>24.0</td>\n",
              "      <td>22.7</td>\n",
              "      <td>1003.3</td>\n",
              "      <td>1004.0</td>\n",
              "      <td>1003.3</td>\n",
              "      <td>4.7</td>\n",
              "      <td>109.0</td>\n",
              "      <td>9.0</td>\n",
              "      <td>2640.3</td>\n",
              "      <td>0.0</td>\n",
              "    </tr>\n",
              "    <tr>\n",
              "      <th>2021-12-31</th>\n",
              "      <td>1800</td>\n",
              "      <td>29.7</td>\n",
              "      <td>30.8</td>\n",
              "      <td>29.0</td>\n",
              "      <td>68.0</td>\n",
              "      <td>71.0</td>\n",
              "      <td>67.0</td>\n",
              "      <td>23.2</td>\n",
              "      <td>24.1</td>\n",
              "      <td>22.9</td>\n",
              "      <td>1003.2</td>\n",
              "      <td>1003.4</td>\n",
              "      <td>1003.1</td>\n",
              "      <td>4.2</td>\n",
              "      <td>116.0</td>\n",
              "      <td>10.3</td>\n",
              "      <td>1960.5</td>\n",
              "      <td>0.0</td>\n",
              "    </tr>\n",
              "    <tr>\n",
              "      <th>2021-12-31</th>\n",
              "      <td>1900</td>\n",
              "      <td>29.0</td>\n",
              "      <td>30.1</td>\n",
              "      <td>28.7</td>\n",
              "      <td>71.0</td>\n",
              "      <td>73.0</td>\n",
              "      <td>68.0</td>\n",
              "      <td>23.2</td>\n",
              "      <td>23.8</td>\n",
              "      <td>22.9</td>\n",
              "      <td>1003.1</td>\n",
              "      <td>1003.3</td>\n",
              "      <td>1003.0</td>\n",
              "      <td>4.5</td>\n",
              "      <td>110.0</td>\n",
              "      <td>9.8</td>\n",
              "      <td>1300.5</td>\n",
              "      <td>0.0</td>\n",
              "    </tr>\n",
              "  </tbody>\n",
              "</table>\n",
              "<p>4013 rows × 18 columns</p>\n",
              "</div>\n",
              "      <button class=\"colab-df-convert\" onclick=\"convertToInteractive('df-dd9766ac-b005-4a4d-b628-fb8db8dab5d0')\"\n",
              "              title=\"Convert this dataframe to an interactive table.\"\n",
              "              style=\"display:none;\">\n",
              "        \n",
              "  <svg xmlns=\"http://www.w3.org/2000/svg\" height=\"24px\"viewBox=\"0 0 24 24\"\n",
              "       width=\"24px\">\n",
              "    <path d=\"M0 0h24v24H0V0z\" fill=\"none\"/>\n",
              "    <path d=\"M18.56 5.44l.94 2.06.94-2.06 2.06-.94-2.06-.94-.94-2.06-.94 2.06-2.06.94zm-11 1L8.5 8.5l.94-2.06 2.06-.94-2.06-.94L8.5 2.5l-.94 2.06-2.06.94zm10 10l.94 2.06.94-2.06 2.06-.94-2.06-.94-.94-2.06-.94 2.06-2.06.94z\"/><path d=\"M17.41 7.96l-1.37-1.37c-.4-.4-.92-.59-1.43-.59-.52 0-1.04.2-1.43.59L10.3 9.45l-7.72 7.72c-.78.78-.78 2.05 0 2.83L4 21.41c.39.39.9.59 1.41.59.51 0 1.02-.2 1.41-.59l7.78-7.78 2.81-2.81c.8-.78.8-2.07 0-2.86zM5.41 20L4 18.59l7.72-7.72 1.47 1.35L5.41 20z\"/>\n",
              "  </svg>\n",
              "      </button>\n",
              "      \n",
              "  <style>\n",
              "    .colab-df-container {\n",
              "      display:flex;\n",
              "      flex-wrap:wrap;\n",
              "      gap: 12px;\n",
              "    }\n",
              "\n",
              "    .colab-df-convert {\n",
              "      background-color: #E8F0FE;\n",
              "      border: none;\n",
              "      border-radius: 50%;\n",
              "      cursor: pointer;\n",
              "      display: none;\n",
              "      fill: #1967D2;\n",
              "      height: 32px;\n",
              "      padding: 0 0 0 0;\n",
              "      width: 32px;\n",
              "    }\n",
              "\n",
              "    .colab-df-convert:hover {\n",
              "      background-color: #E2EBFA;\n",
              "      box-shadow: 0px 1px 2px rgba(60, 64, 67, 0.3), 0px 1px 3px 1px rgba(60, 64, 67, 0.15);\n",
              "      fill: #174EA6;\n",
              "    }\n",
              "\n",
              "    [theme=dark] .colab-df-convert {\n",
              "      background-color: #3B4455;\n",
              "      fill: #D2E3FC;\n",
              "    }\n",
              "\n",
              "    [theme=dark] .colab-df-convert:hover {\n",
              "      background-color: #434B5C;\n",
              "      box-shadow: 0px 1px 3px 1px rgba(0, 0, 0, 0.15);\n",
              "      filter: drop-shadow(0px 1px 2px rgba(0, 0, 0, 0.3));\n",
              "      fill: #FFFFFF;\n",
              "    }\n",
              "  </style>\n",
              "\n",
              "      <script>\n",
              "        const buttonEl =\n",
              "          document.querySelector('#df-dd9766ac-b005-4a4d-b628-fb8db8dab5d0 button.colab-df-convert');\n",
              "        buttonEl.style.display =\n",
              "          google.colab.kernel.accessAllowed ? 'block' : 'none';\n",
              "\n",
              "        async function convertToInteractive(key) {\n",
              "          const element = document.querySelector('#df-dd9766ac-b005-4a4d-b628-fb8db8dab5d0');\n",
              "          const dataTable =\n",
              "            await google.colab.kernel.invokeFunction('convertToInteractive',\n",
              "                                                     [key], {});\n",
              "          if (!dataTable) return;\n",
              "\n",
              "          const docLinkHtml = 'Like what you see? Visit the ' +\n",
              "            '<a target=\"_blank\" href=https://colab.research.google.com/notebooks/data_table.ipynb>data table notebook</a>'\n",
              "            + ' to learn more about interactive tables.';\n",
              "          element.innerHTML = '';\n",
              "          dataTable['output_type'] = 'display_data';\n",
              "          await google.colab.output.renderOutput(dataTable, element);\n",
              "          const docLink = document.createElement('div');\n",
              "          docLink.innerHTML = docLinkHtml;\n",
              "          element.appendChild(docLink);\n",
              "        }\n",
              "      </script>\n",
              "    </div>\n",
              "  </div>\n",
              "  "
            ]
          },
          "metadata": {},
          "execution_count": 37
        }
      ]
    },
    {
      "cell_type": "code",
      "source": [
        "result.info()"
      ],
      "metadata": {
        "id": "Vf5WZwyIb6i-",
        "outputId": "5724b78b-0138-4c49-fec6-1279d4d61d31",
        "colab": {
          "base_uri": "https://localhost:8080/"
        }
      },
      "execution_count": 24,
      "outputs": [
        {
          "output_type": "stream",
          "name": "stdout",
          "text": [
            "<class 'pandas.core.frame.DataFrame'>\n",
            "DatetimeIndex: 4013 entries, 2021-01-01 to 2021-12-31\n",
            "Data columns (total 18 columns):\n",
            " #   Column                Non-Null Count  Dtype  \n",
            "---  ------                --------------  -----  \n",
            " 0   Hora (UTC)            4013 non-null   int64  \n",
            " 1   Temp. Ins. (C)        4013 non-null   float64\n",
            " 2   Temp. Max. (C)        4013 non-null   float64\n",
            " 3   Temp. Min. (C)        4013 non-null   float64\n",
            " 4   Umi. Ins. (%)         4013 non-null   float64\n",
            " 5   Umi. Max. (%)         4013 non-null   float64\n",
            " 6   Umi. Min. (%)         4013 non-null   float64\n",
            " 7   Pto Orvalho Ins. (C)  4013 non-null   float64\n",
            " 8   Pto Orvalho Max. (C)  4013 non-null   float64\n",
            " 9   Pto Orvalho Min. (C)  4013 non-null   float64\n",
            " 10  Pressao Ins. (hPa)    4013 non-null   float64\n",
            " 11  Pressao Max. (hPa)    4013 non-null   float64\n",
            " 12  Pressao Min. (hPa)    4013 non-null   float64\n",
            " 13  Vel. Vento (m/s)      4013 non-null   float64\n",
            " 14  Dir. Vento (m/s)      4013 non-null   float64\n",
            " 15  Raj. Vento (m/s)      4013 non-null   float64\n",
            " 16  Radiacao (KJ/m²)      4013 non-null   float64\n",
            " 17  Chuva (mm)            4013 non-null   float64\n",
            "dtypes: float64(17), int64(1)\n",
            "memory usage: 595.7 KB\n"
          ]
        }
      ]
    },
    {
      "cell_type": "code",
      "source": [
        "result.describe()"
      ],
      "metadata": {
        "id": "I4VFTWZJcjqd",
        "outputId": "009a7e7a-edeb-4573-cf70-ecb9cba82251",
        "colab": {
          "base_uri": "https://localhost:8080/",
          "height": 383
        }
      },
      "execution_count": 25,
      "outputs": [
        {
          "output_type": "execute_result",
          "data": {
            "text/plain": [
              "        Hora (UTC)  Temp. Ins. (C)  Temp. Max. (C)  Temp. Min. (C)  \\\n",
              "count  4013.000000     4013.000000     4013.000000     4013.000000   \n",
              "mean   1504.634936       28.171567       28.853202       27.424470   \n",
              "std     321.664489        1.556204        1.708390        1.686755   \n",
              "min     900.000000       22.300000       22.400000       21.500000   \n",
              "25%    1200.000000       27.400000       28.000000       26.700000   \n",
              "50%    1500.000000       28.400000       29.100000       27.900000   \n",
              "75%    1800.000000       29.300000       30.100000       28.700000   \n",
              "max    2100.000000       31.800000       32.600000       30.400000   \n",
              "\n",
              "       Umi. Ins. (%)  Umi. Max. (%)  Umi. Min. (%)  Pto Orvalho Ins. (C)  \\\n",
              "count    4013.000000    4013.000000    4013.000000           4013.000000   \n",
              "mean       73.253426      76.608522      70.474956             22.844007   \n",
              "std         7.270984       7.653090       7.616178              1.044091   \n",
              "min        46.000000      52.000000      46.000000             17.500000   \n",
              "25%        68.000000      71.000000      65.000000             22.200000   \n",
              "50%        72.000000      75.000000      69.000000             23.000000   \n",
              "75%        76.000000      80.000000      74.000000             23.600000   \n",
              "max        98.000000      99.000000      98.000000             25.700000   \n",
              "\n",
              "       Pto Orvalho Max. (C)  Pto Orvalho Min. (C)  Pressao Ins. (hPa)  \\\n",
              "count           4013.000000           4013.000000         4013.000000   \n",
              "mean              23.462746             22.265637         1006.962846   \n",
              "std                1.059063              1.037717            2.137601   \n",
              "min               18.700000             16.600000         1000.900000   \n",
              "25%               22.900000             21.700000         1005.400000   \n",
              "50%               23.600000             22.400000         1006.800000   \n",
              "75%               24.200000             23.000000         1008.300000   \n",
              "max               26.700000             24.700000         1014.500000   \n",
              "\n",
              "       Pressao Max. (hPa)  Pressao Min. (hPa)  Vel. Vento (m/s)  \\\n",
              "count         4013.000000         4013.000000       4013.000000   \n",
              "mean          1007.265088         1006.768004          4.664989   \n",
              "std              2.122030            2.116009          1.210857   \n",
              "min           1001.100000         1000.900000          0.700000   \n",
              "25%           1005.800000         1005.200000          3.900000   \n",
              "50%           1007.100000         1006.600000          4.700000   \n",
              "75%           1008.600000         1008.100000          5.500000   \n",
              "max           1014.600000         1014.400000          9.100000   \n",
              "\n",
              "       Dir. Vento (m/s)  Raj. Vento (m/s)  Radiacao (KJ/m²)   Chuva (mm)  \n",
              "count       4013.000000       4013.000000       4013.000000  4013.000000  \n",
              "mean         134.728134          9.127660       1924.678021     0.007276  \n",
              "std           24.966999          2.102335       1058.828379     0.064455  \n",
              "min           37.000000          1.700000         15.100000     0.000000  \n",
              "25%          121.000000          7.700000        958.700000     0.000000  \n",
              "50%          133.000000          9.100000       1992.600000     0.000000  \n",
              "75%          145.000000         10.400000       2857.500000     0.000000  \n",
              "max          330.000000         17.200000       3959.300000     1.800000  "
            ],
            "text/html": [
              "\n",
              "  <div id=\"df-cc0ca897-c6cd-4ad1-8688-b5dab0cff32f\">\n",
              "    <div class=\"colab-df-container\">\n",
              "      <div>\n",
              "<style scoped>\n",
              "    .dataframe tbody tr th:only-of-type {\n",
              "        vertical-align: middle;\n",
              "    }\n",
              "\n",
              "    .dataframe tbody tr th {\n",
              "        vertical-align: top;\n",
              "    }\n",
              "\n",
              "    .dataframe thead th {\n",
              "        text-align: right;\n",
              "    }\n",
              "</style>\n",
              "<table border=\"1\" class=\"dataframe\">\n",
              "  <thead>\n",
              "    <tr style=\"text-align: right;\">\n",
              "      <th></th>\n",
              "      <th>Hora (UTC)</th>\n",
              "      <th>Temp. Ins. (C)</th>\n",
              "      <th>Temp. Max. (C)</th>\n",
              "      <th>Temp. Min. (C)</th>\n",
              "      <th>Umi. Ins. (%)</th>\n",
              "      <th>Umi. Max. (%)</th>\n",
              "      <th>Umi. Min. (%)</th>\n",
              "      <th>Pto Orvalho Ins. (C)</th>\n",
              "      <th>Pto Orvalho Max. (C)</th>\n",
              "      <th>Pto Orvalho Min. (C)</th>\n",
              "      <th>Pressao Ins. (hPa)</th>\n",
              "      <th>Pressao Max. (hPa)</th>\n",
              "      <th>Pressao Min. (hPa)</th>\n",
              "      <th>Vel. Vento (m/s)</th>\n",
              "      <th>Dir. Vento (m/s)</th>\n",
              "      <th>Raj. Vento (m/s)</th>\n",
              "      <th>Radiacao (KJ/m²)</th>\n",
              "      <th>Chuva (mm)</th>\n",
              "    </tr>\n",
              "  </thead>\n",
              "  <tbody>\n",
              "    <tr>\n",
              "      <th>count</th>\n",
              "      <td>4013.000000</td>\n",
              "      <td>4013.000000</td>\n",
              "      <td>4013.000000</td>\n",
              "      <td>4013.000000</td>\n",
              "      <td>4013.000000</td>\n",
              "      <td>4013.000000</td>\n",
              "      <td>4013.000000</td>\n",
              "      <td>4013.000000</td>\n",
              "      <td>4013.000000</td>\n",
              "      <td>4013.000000</td>\n",
              "      <td>4013.000000</td>\n",
              "      <td>4013.000000</td>\n",
              "      <td>4013.000000</td>\n",
              "      <td>4013.000000</td>\n",
              "      <td>4013.000000</td>\n",
              "      <td>4013.000000</td>\n",
              "      <td>4013.000000</td>\n",
              "      <td>4013.000000</td>\n",
              "    </tr>\n",
              "    <tr>\n",
              "      <th>mean</th>\n",
              "      <td>1504.634936</td>\n",
              "      <td>28.171567</td>\n",
              "      <td>28.853202</td>\n",
              "      <td>27.424470</td>\n",
              "      <td>73.253426</td>\n",
              "      <td>76.608522</td>\n",
              "      <td>70.474956</td>\n",
              "      <td>22.844007</td>\n",
              "      <td>23.462746</td>\n",
              "      <td>22.265637</td>\n",
              "      <td>1006.962846</td>\n",
              "      <td>1007.265088</td>\n",
              "      <td>1006.768004</td>\n",
              "      <td>4.664989</td>\n",
              "      <td>134.728134</td>\n",
              "      <td>9.127660</td>\n",
              "      <td>1924.678021</td>\n",
              "      <td>0.007276</td>\n",
              "    </tr>\n",
              "    <tr>\n",
              "      <th>std</th>\n",
              "      <td>321.664489</td>\n",
              "      <td>1.556204</td>\n",
              "      <td>1.708390</td>\n",
              "      <td>1.686755</td>\n",
              "      <td>7.270984</td>\n",
              "      <td>7.653090</td>\n",
              "      <td>7.616178</td>\n",
              "      <td>1.044091</td>\n",
              "      <td>1.059063</td>\n",
              "      <td>1.037717</td>\n",
              "      <td>2.137601</td>\n",
              "      <td>2.122030</td>\n",
              "      <td>2.116009</td>\n",
              "      <td>1.210857</td>\n",
              "      <td>24.966999</td>\n",
              "      <td>2.102335</td>\n",
              "      <td>1058.828379</td>\n",
              "      <td>0.064455</td>\n",
              "    </tr>\n",
              "    <tr>\n",
              "      <th>min</th>\n",
              "      <td>900.000000</td>\n",
              "      <td>22.300000</td>\n",
              "      <td>22.400000</td>\n",
              "      <td>21.500000</td>\n",
              "      <td>46.000000</td>\n",
              "      <td>52.000000</td>\n",
              "      <td>46.000000</td>\n",
              "      <td>17.500000</td>\n",
              "      <td>18.700000</td>\n",
              "      <td>16.600000</td>\n",
              "      <td>1000.900000</td>\n",
              "      <td>1001.100000</td>\n",
              "      <td>1000.900000</td>\n",
              "      <td>0.700000</td>\n",
              "      <td>37.000000</td>\n",
              "      <td>1.700000</td>\n",
              "      <td>15.100000</td>\n",
              "      <td>0.000000</td>\n",
              "    </tr>\n",
              "    <tr>\n",
              "      <th>25%</th>\n",
              "      <td>1200.000000</td>\n",
              "      <td>27.400000</td>\n",
              "      <td>28.000000</td>\n",
              "      <td>26.700000</td>\n",
              "      <td>68.000000</td>\n",
              "      <td>71.000000</td>\n",
              "      <td>65.000000</td>\n",
              "      <td>22.200000</td>\n",
              "      <td>22.900000</td>\n",
              "      <td>21.700000</td>\n",
              "      <td>1005.400000</td>\n",
              "      <td>1005.800000</td>\n",
              "      <td>1005.200000</td>\n",
              "      <td>3.900000</td>\n",
              "      <td>121.000000</td>\n",
              "      <td>7.700000</td>\n",
              "      <td>958.700000</td>\n",
              "      <td>0.000000</td>\n",
              "    </tr>\n",
              "    <tr>\n",
              "      <th>50%</th>\n",
              "      <td>1500.000000</td>\n",
              "      <td>28.400000</td>\n",
              "      <td>29.100000</td>\n",
              "      <td>27.900000</td>\n",
              "      <td>72.000000</td>\n",
              "      <td>75.000000</td>\n",
              "      <td>69.000000</td>\n",
              "      <td>23.000000</td>\n",
              "      <td>23.600000</td>\n",
              "      <td>22.400000</td>\n",
              "      <td>1006.800000</td>\n",
              "      <td>1007.100000</td>\n",
              "      <td>1006.600000</td>\n",
              "      <td>4.700000</td>\n",
              "      <td>133.000000</td>\n",
              "      <td>9.100000</td>\n",
              "      <td>1992.600000</td>\n",
              "      <td>0.000000</td>\n",
              "    </tr>\n",
              "    <tr>\n",
              "      <th>75%</th>\n",
              "      <td>1800.000000</td>\n",
              "      <td>29.300000</td>\n",
              "      <td>30.100000</td>\n",
              "      <td>28.700000</td>\n",
              "      <td>76.000000</td>\n",
              "      <td>80.000000</td>\n",
              "      <td>74.000000</td>\n",
              "      <td>23.600000</td>\n",
              "      <td>24.200000</td>\n",
              "      <td>23.000000</td>\n",
              "      <td>1008.300000</td>\n",
              "      <td>1008.600000</td>\n",
              "      <td>1008.100000</td>\n",
              "      <td>5.500000</td>\n",
              "      <td>145.000000</td>\n",
              "      <td>10.400000</td>\n",
              "      <td>2857.500000</td>\n",
              "      <td>0.000000</td>\n",
              "    </tr>\n",
              "    <tr>\n",
              "      <th>max</th>\n",
              "      <td>2100.000000</td>\n",
              "      <td>31.800000</td>\n",
              "      <td>32.600000</td>\n",
              "      <td>30.400000</td>\n",
              "      <td>98.000000</td>\n",
              "      <td>99.000000</td>\n",
              "      <td>98.000000</td>\n",
              "      <td>25.700000</td>\n",
              "      <td>26.700000</td>\n",
              "      <td>24.700000</td>\n",
              "      <td>1014.500000</td>\n",
              "      <td>1014.600000</td>\n",
              "      <td>1014.400000</td>\n",
              "      <td>9.100000</td>\n",
              "      <td>330.000000</td>\n",
              "      <td>17.200000</td>\n",
              "      <td>3959.300000</td>\n",
              "      <td>1.800000</td>\n",
              "    </tr>\n",
              "  </tbody>\n",
              "</table>\n",
              "</div>\n",
              "      <button class=\"colab-df-convert\" onclick=\"convertToInteractive('df-cc0ca897-c6cd-4ad1-8688-b5dab0cff32f')\"\n",
              "              title=\"Convert this dataframe to an interactive table.\"\n",
              "              style=\"display:none;\">\n",
              "        \n",
              "  <svg xmlns=\"http://www.w3.org/2000/svg\" height=\"24px\"viewBox=\"0 0 24 24\"\n",
              "       width=\"24px\">\n",
              "    <path d=\"M0 0h24v24H0V0z\" fill=\"none\"/>\n",
              "    <path d=\"M18.56 5.44l.94 2.06.94-2.06 2.06-.94-2.06-.94-.94-2.06-.94 2.06-2.06.94zm-11 1L8.5 8.5l.94-2.06 2.06-.94-2.06-.94L8.5 2.5l-.94 2.06-2.06.94zm10 10l.94 2.06.94-2.06 2.06-.94-2.06-.94-.94-2.06-.94 2.06-2.06.94z\"/><path d=\"M17.41 7.96l-1.37-1.37c-.4-.4-.92-.59-1.43-.59-.52 0-1.04.2-1.43.59L10.3 9.45l-7.72 7.72c-.78.78-.78 2.05 0 2.83L4 21.41c.39.39.9.59 1.41.59.51 0 1.02-.2 1.41-.59l7.78-7.78 2.81-2.81c.8-.78.8-2.07 0-2.86zM5.41 20L4 18.59l7.72-7.72 1.47 1.35L5.41 20z\"/>\n",
              "  </svg>\n",
              "      </button>\n",
              "      \n",
              "  <style>\n",
              "    .colab-df-container {\n",
              "      display:flex;\n",
              "      flex-wrap:wrap;\n",
              "      gap: 12px;\n",
              "    }\n",
              "\n",
              "    .colab-df-convert {\n",
              "      background-color: #E8F0FE;\n",
              "      border: none;\n",
              "      border-radius: 50%;\n",
              "      cursor: pointer;\n",
              "      display: none;\n",
              "      fill: #1967D2;\n",
              "      height: 32px;\n",
              "      padding: 0 0 0 0;\n",
              "      width: 32px;\n",
              "    }\n",
              "\n",
              "    .colab-df-convert:hover {\n",
              "      background-color: #E2EBFA;\n",
              "      box-shadow: 0px 1px 2px rgba(60, 64, 67, 0.3), 0px 1px 3px 1px rgba(60, 64, 67, 0.15);\n",
              "      fill: #174EA6;\n",
              "    }\n",
              "\n",
              "    [theme=dark] .colab-df-convert {\n",
              "      background-color: #3B4455;\n",
              "      fill: #D2E3FC;\n",
              "    }\n",
              "\n",
              "    [theme=dark] .colab-df-convert:hover {\n",
              "      background-color: #434B5C;\n",
              "      box-shadow: 0px 1px 3px 1px rgba(0, 0, 0, 0.15);\n",
              "      filter: drop-shadow(0px 1px 2px rgba(0, 0, 0, 0.3));\n",
              "      fill: #FFFFFF;\n",
              "    }\n",
              "  </style>\n",
              "\n",
              "      <script>\n",
              "        const buttonEl =\n",
              "          document.querySelector('#df-cc0ca897-c6cd-4ad1-8688-b5dab0cff32f button.colab-df-convert');\n",
              "        buttonEl.style.display =\n",
              "          google.colab.kernel.accessAllowed ? 'block' : 'none';\n",
              "\n",
              "        async function convertToInteractive(key) {\n",
              "          const element = document.querySelector('#df-cc0ca897-c6cd-4ad1-8688-b5dab0cff32f');\n",
              "          const dataTable =\n",
              "            await google.colab.kernel.invokeFunction('convertToInteractive',\n",
              "                                                     [key], {});\n",
              "          if (!dataTable) return;\n",
              "\n",
              "          const docLinkHtml = 'Like what you see? Visit the ' +\n",
              "            '<a target=\"_blank\" href=https://colab.research.google.com/notebooks/data_table.ipynb>data table notebook</a>'\n",
              "            + ' to learn more about interactive tables.';\n",
              "          element.innerHTML = '';\n",
              "          dataTable['output_type'] = 'display_data';\n",
              "          await google.colab.output.renderOutput(dataTable, element);\n",
              "          const docLink = document.createElement('div');\n",
              "          docLink.innerHTML = docLinkHtml;\n",
              "          element.appendChild(docLink);\n",
              "        }\n",
              "      </script>\n",
              "    </div>\n",
              "  </div>\n",
              "  "
            ]
          },
          "metadata": {},
          "execution_count": 25
        }
      ]
    },
    {
      "cell_type": "markdown",
      "source": [
        "# ***Análise Exploratoria Visual:***"
      ],
      "metadata": {
        "id": "bhaUOSrMdo7E"
      }
    },
    {
      "cell_type": "markdown",
      "source": [
        "## Gráfico Pizza:"
      ],
      "metadata": {
        "id": "bqHOX88FODnH"
      }
    },
    {
      "cell_type": "markdown",
      "source": [
        "### Chuva:"
      ],
      "metadata": {
        "id": "XYHI0fFDOWcX"
      }
    },
    {
      "cell_type": "code",
      "source": [
        "dataframe['Chuva (mm)'].value_counts().head().plot.pie(autopct='%.0f%%')"
      ],
      "metadata": {
        "id": "ihNGfYT8OHaP",
        "outputId": "994b9bf3-8c7e-49cd-b6d6-07ee8acbcbc8",
        "colab": {
          "base_uri": "https://localhost:8080/",
          "height": 265
        }
      },
      "execution_count": 26,
      "outputs": [
        {
          "output_type": "execute_result",
          "data": {
            "text/plain": [
              "<matplotlib.axes._subplots.AxesSubplot at 0x7f0b5d072050>"
            ]
          },
          "metadata": {},
          "execution_count": 26
        },
        {
          "output_type": "display_data",
          "data": {
            "text/plain": [
              "<Figure size 432x288 with 1 Axes>"
            ],
            "image/png": "[encoded data removed]"
          },
          "metadata": {}
        }
      ]
    },
    {
      "cell_type": "code",
      "source": [
        "teste = dataframe.copy()\n",
        "teste.drop(teste.index[teste['Chuva (mm)'] == '0,0'], inplace = True)\n",
        "teste['Chuva (mm)'].value_counts().head().plot.pie(autopct='%.0f%%')"
      ],
      "metadata": {
        "id": "lspHBHsFOa0X",
        "outputId": "a4ef9947-148e-4ae8-94bc-3cea2b2a130f",
        "colab": {
          "base_uri": "https://localhost:8080/",
          "height": 265
        }
      },
      "execution_count": 27,
      "outputs": [
        {
          "output_type": "execute_result",
          "data": {
            "text/plain": [
              "<matplotlib.axes._subplots.AxesSubplot at 0x7f0b5b6c0990>"
            ]
          },
          "metadata": {},
          "execution_count": 27
        },
        {
          "output_type": "display_data",
          "data": {
            "text/plain": [
              "<Figure size 432x288 with 1 Axes>"
            ],
            "image/png": "[encoded data removed]"
          },
          "metadata": {}
        }
      ]
    },
    {
      "cell_type": "markdown",
      "source": [
        "## Identificação de Outliers:"
      ],
      "metadata": {
        "id": "At-Yl5k8l9qu"
      }
    },
    {
      "cell_type": "code",
      "source": [
        "# result['Radiacao (KJ/m²)'].plot.box(grid = True, figsize=(6,4))"
      ],
      "metadata": {
        "id": "xleLYdjzQGOO"
      },
      "execution_count": 28,
      "outputs": []
    },
    {
      "cell_type": "code",
      "source": [
        "result['Vel. Vento (m/s)'].plot.box(grid = True, figsize=(12,8))"
      ],
      "metadata": {
        "id": "UsIRvPkQRn7G",
        "outputId": "3d4bd56d-d50f-4f03-b99b-ebd8749f1ece",
        "colab": {
          "base_uri": "https://localhost:8080/",
          "height": 500
        }
      },
      "execution_count": 29,
      "outputs": [
        {
          "output_type": "execute_result",
          "data": {
            "text/plain": [
              "<matplotlib.axes._subplots.AxesSubplot at 0x7f0b5b7745d0>"
            ]
          },
          "metadata": {},
          "execution_count": 29
        },
        {
          "output_type": "display_data",
          "data": {
            "text/plain": [
              "<Figure size 864x576 with 1 Axes>"
            ],
            "image/png": "[encoded data removed]"
          },
          "metadata": {
            "needs_background": "light"
          }
        }
      ]
    },
    {
      "cell_type": "code",
      "source": [
        "result['Dir. Vento (m/s)'].plot.box(grid = True, figsize=(12,8))"
      ],
      "metadata": {
        "id": "BEmE5WhKRKiP",
        "outputId": "41d7bda2-e5f1-4721-ae33-4884a097611b",
        "colab": {
          "base_uri": "https://localhost:8080/",
          "height": 500
        }
      },
      "execution_count": 30,
      "outputs": [
        {
          "output_type": "execute_result",
          "data": {
            "text/plain": [
              "<matplotlib.axes._subplots.AxesSubplot at 0x7f0b5b7ac590>"
            ]
          },
          "metadata": {},
          "execution_count": 30
        },
        {
          "output_type": "display_data",
          "data": {
            "text/plain": [
              "<Figure size 864x576 with 1 Axes>"
            ],
            "image/png": "[encoded data removed]"
          },
          "metadata": {
            "needs_background": "light"
          }
        }
      ]
    },
    {
      "cell_type": "code",
      "source": [
        "result['Raj. Vento (m/s)'].plot.box(grid = True, figsize=(12,8))"
      ],
      "metadata": {
        "id": "quV1j-TdR37F",
        "outputId": "e0312866-35d9-4d6e-d4d1-c799f95640ef",
        "colab": {
          "base_uri": "https://localhost:8080/",
          "height": 500
        }
      },
      "execution_count": 31,
      "outputs": [
        {
          "output_type": "execute_result",
          "data": {
            "text/plain": [
              "<matplotlib.axes._subplots.AxesSubplot at 0x7f0b5d072110>"
            ]
          },
          "metadata": {},
          "execution_count": 31
        },
        {
          "output_type": "display_data",
          "data": {
            "text/plain": [
              "<Figure size 864x576 with 1 Axes>"
            ],
            "image/png": "[encoded data removed]"
          },
          "metadata": {
            "needs_background": "light"
          }
        }
      ]
    },
    {
      "cell_type": "code",
      "source": [
        "colunas = ['Temp. Ins. (C)', 'Temp. Max. (C)', 'Temp. Min. (C)']\n",
        "result[colunas].plot.box(grid = True, figsize=(12,8))"
      ],
      "metadata": {
        "id": "J64R1VfVetfS",
        "outputId": "4dc019d9-1e74-4d5f-adf1-2983ae351e2a",
        "colab": {
          "base_uri": "https://localhost:8080/",
          "height": 500
        }
      },
      "execution_count": 32,
      "outputs": [
        {
          "output_type": "execute_result",
          "data": {
            "text/plain": [
              "<matplotlib.axes._subplots.AxesSubplot at 0x7f0b5bb6e610>"
            ]
          },
          "metadata": {},
          "execution_count": 32
        },
        {
          "output_type": "display_data",
          "data": {
            "text/plain": [
              "<Figure size 864x576 with 1 Axes>"
            ],
            "image/png": "[encoded data removed]"
          },
          "metadata": {
            "needs_background": "light"
          }
        }
      ]
    },
    {
      "cell_type": "code",
      "source": [
        "colunas = ['Umi. Ins. (%)', 'Umi. Max. (%)', 'Umi. Min. (%)']\n",
        "result[colunas].plot.box(grid = True, figsize=(12,8))"
      ],
      "metadata": {
        "id": "aq9XSH6Slc0d",
        "outputId": "f1a9e229-9e68-4299-8271-2c63a7a75f1e",
        "colab": {
          "base_uri": "https://localhost:8080/",
          "height": 500
        }
      },
      "execution_count": 33,
      "outputs": [
        {
          "output_type": "execute_result",
          "data": {
            "text/plain": [
              "<matplotlib.axes._subplots.AxesSubplot at 0x7f0b5ba500d0>"
            ]
          },
          "metadata": {},
          "execution_count": 33
        },
        {
          "output_type": "display_data",
          "data": {
            "text/plain": [
              "<Figure size 864x576 with 1 Axes>"
            ],
            "image/png": "[encoded data removed]"
          },
          "metadata": {
            "needs_background": "light"
          }
        }
      ]
    },
    {
      "cell_type": "code",
      "source": [
        "colunas = ['Pto Orvalho Ins. (C)', 'Pto Orvalho Max. (C)', 'Pto Orvalho Min. (C)']\n",
        "result[colunas].plot.box(grid = True, figsize=(12,8))"
      ],
      "metadata": {
        "id": "QChHKnAKldSm",
        "outputId": "66db2a46-dc24-4d22-fe4a-d028568dd4a9",
        "colab": {
          "base_uri": "https://localhost:8080/",
          "height": 500
        }
      },
      "execution_count": 34,
      "outputs": [
        {
          "output_type": "execute_result",
          "data": {
            "text/plain": [
              "<matplotlib.axes._subplots.AxesSubplot at 0x7f0b5b9c2c90>"
            ]
          },
          "metadata": {},
          "execution_count": 34
        },
        {
          "output_type": "display_data",
          "data": {
            "text/plain": [
              "<Figure size 864x576 with 1 Axes>"
            ],
            "image/png": "[encoded data removed]"
          },
          "metadata": {
            "needs_background": "light"
          }
        }
      ]
    },
    {
      "cell_type": "code",
      "source": [
        "colunas = ['Pressao Ins. (hPa)', 'Pressao Max. (hPa)', 'Pressao Min. (hPa)']\n",
        "result[colunas].plot.box(grid = True, figsize=(12,8))"
      ],
      "metadata": {
        "id": "meEIXRb8ldGS",
        "outputId": "c2a7999e-b517-402b-b096-04e4f46b2608",
        "colab": {
          "base_uri": "https://localhost:8080/",
          "height": 500
        }
      },
      "execution_count": 35,
      "outputs": [
        {
          "output_type": "execute_result",
          "data": {
            "text/plain": [
              "<matplotlib.axes._subplots.AxesSubplot at 0x7f0b5b248950>"
            ]
          },
          "metadata": {},
          "execution_count": 35
        },
        {
          "output_type": "display_data",
          "data": {
            "text/plain": [
              "<Figure size 864x576 with 1 Axes>"
            ],
            "image/png": "[encoded data removed]"
          },
          "metadata": {
            "needs_background": "light"
          }
        }
      ]
    },
    {
      "cell_type": "markdown",
      "source": [
        "## Gráfico de Dispersão:"
      ],
      "metadata": {
        "id": "Aw1Tw7bYmMck"
      }
    },
    {
      "cell_type": "code",
      "source": [
        "#sb.pairplot(data=result[['Temp. Ins. (C)', 'Umi. Ins. (%)', 'Pto Orvalho Ins. (C)', 'Pressao Ins. (hPa)']])"
      ],
      "metadata": {
        "id": "92vchzTFmQa7"
      },
      "execution_count": 40,
      "outputs": []
    },
    {
      "cell_type": "markdown",
      "source": [
        "## Mapa de Calor:"
      ],
      "metadata": {
        "id": "m6-zFGlZmnwI"
      }
    },
    {
      "cell_type": "code",
      "source": [
        "relação = result[['Temp. Ins. (C)', 'Umi. Ins. (%)', 'Pto Orvalho Ins. (C)', 'Pressao Ins. (hPa)']]"
      ],
      "metadata": {
        "id": "tr2t2VBAm20r"
      },
      "execution_count": 38,
      "outputs": []
    },
    {
      "cell_type": "markdown",
      "source": [
        "* 1 significa uma correlação perfeita positiva entre as duas variáveis; \n",
        "* -1 significa uma correlação perfeita negativa entre as duas variáveis. \n",
        "Uma correlação negativa é uma relação entre duas variáveis ​​que se movem em direções opostas.\n",
        "* 0 significa que as duas variáveis não dependem linearmente uma da outra \n",
        "\n",
        "* Pode-se dizer ainda que, considerando os valores positivos ou negativos:\n",
        "    0 < corr < 0.3 significa fraca correlação;\n",
        "    0.3 < corr < 0.7 significa correlação moderada;\n",
        "    0.7 < corr < 1 significa correlação forte."
      ],
      "metadata": {
        "id": "yZZPLyhNnPj_"
      }
    },
    {
      "cell_type": "code",
      "source": [
        "corr = relação.select_dtypes(exclude='object').corr()\n",
        "sb.heatmap(corr, annot=True, fmt=\".1f\")"
      ],
      "metadata": {
        "id": "4cuj50itmrx2",
        "outputId": "94f32d33-ee8a-4849-ec4e-912672fb66d5",
        "colab": {
          "base_uri": "https://localhost:8080/",
          "height": 373
        }
      },
      "execution_count": 39,
      "outputs": [
        {
          "output_type": "execute_result",
          "data": {
            "text/plain": [
              "<matplotlib.axes._subplots.AxesSubplot at 0x7f0b584f3ad0>"
            ]
          },
          "metadata": {},
          "execution_count": 39
        },
        {
          "output_type": "display_data",
          "data": {
            "text/plain": [
              "<Figure size 432x288 with 2 Axes>"
            ],
            "image/png": "[encoded data removed]"
          },
          "metadata": {
            "needs_background": "light"
          }
        }
      ]
    },
    {
      "cell_type": "markdown",
      "source": [
        "# GEORGE:"
      ],
      "metadata": {
        "id": "NvC3XMcyHyzy"
      }
    },
    {
      "cell_type": "code",
      "source": [
        "#Questão B) Série precipitação mensal.\n",
        "meses = [\n",
        "  result.loc['2021-1-1':'2021-2-1'],\n",
        "  result.loc['2021-2-1':'2021-3-1'],\n",
        "  result.loc['2021-3-1':'2021-4-1'],\n",
        "  result.loc['2021-4-1':'2021-5-1'],\n",
        "  result.loc['2021-5-1':'2021-6-1'],\n",
        "  result.loc['2021-6-1':'2021-7-1'],\n",
        "  result.loc['2021-7-1':'2021-8-1'],\n",
        "  result.loc['2021-8-1':'2021-9-1'],\n",
        "  result.loc['2021-9-1':'2021-10-1'],\n",
        "  result.loc['2021-10-1':'2021-11-1'],\n",
        "  result.loc['2021-11-1':'2021-12-1'],\n",
        "  result.loc['2021-12-1':'2021-12-31']\n",
        "]\n",
        "\n",
        "dados_chuva = []\n",
        "\n",
        "for mes in meses:\n",
        "  dados_chuva.append([\n",
        "    mes[\"Chuva (mm)\"].max(),\n",
        "    mes[\"Chuva (mm)\"].mean(),\n",
        "    mes[\"Chuva (mm)\"].min()\n",
        "  ])\n",
        "\n",
        "df_chuvas = pd.DataFrame(dados_chuva,columns=['Maxima', 'Media', 'Minima'])\n",
        "\n",
        "df_chuvas\n",
        "\n",
        "meses[0]"
      ],
      "metadata": {
        "id": "v4OzCCrIHr3q"
      },
      "execution_count": null,
      "outputs": []
    },
    {
      "cell_type": "code",
      "source": [
        "meses[0].describe()"
      ],
      "metadata": {
        "id": "nB2pB6y2K-QQ",
        "outputId": "4c90f5a6-decf-4ca4-cf4a-1268cd7d8bce",
        "colab": {
          "base_uri": "https://localhost:8080/",
          "height": 383
        }
      },
      "execution_count": 50,
      "outputs": [
        {
          "output_type": "execute_result",
          "data": {
            "text/plain": [
              "        Hora (UTC)  Temp. Ins. (C)  Temp. Max. (C)  Temp. Min. (C)  \\\n",
              "count   369.000000      369.000000      369.000000      369.000000   \n",
              "mean   1537.127371       28.401355       29.126016       27.670461   \n",
              "std     336.144035        1.236459        1.357117        1.323007   \n",
              "min     900.000000       23.900000       23.900000       22.700000   \n",
              "25%    1200.000000       27.700000       28.300000       27.100000   \n",
              "50%    1500.000000       28.600000       29.300000       28.000000   \n",
              "75%    1800.000000       29.300000       30.200000       28.600000   \n",
              "max    2100.000000       31.000000       31.900000       29.700000   \n",
              "\n",
              "       Umi. Ins. (%)  Umi. Max. (%)  Umi. Min. (%)  Pto Orvalho Ins. (C)  \\\n",
              "count     369.000000     369.000000     369.000000            369.000000   \n",
              "mean       71.699187      74.945799      68.788618             22.722222   \n",
              "std         6.221808       6.599349       6.409807              0.784493   \n",
              "min        60.000000      63.000000      57.000000             19.500000   \n",
              "25%        68.000000      70.000000      64.000000             22.400000   \n",
              "50%        71.000000      74.000000      68.000000             22.800000   \n",
              "75%        75.000000      78.000000      72.000000             23.200000   \n",
              "max        95.000000      95.000000      91.000000             24.600000   \n",
              "\n",
              "       Pto Orvalho Max. (C)  Pto Orvalho Min. (C)  Pressao Ins. (hPa)  \\\n",
              "count            369.000000            369.000000          369.000000   \n",
              "mean              23.349593             22.125745         1006.097561   \n",
              "std                0.776003              0.738398            1.965510   \n",
              "min               19.800000             18.900000         1000.900000   \n",
              "25%               22.900000             21.800000         1004.900000   \n",
              "50%               23.400000             22.200000         1006.000000   \n",
              "75%               23.800000             22.600000         1007.100000   \n",
              "max               25.300000             24.100000         1013.200000   \n",
              "\n",
              "       Pressao Max. (hPa)  Pressao Min. (hPa)  Vel. Vento (m/s)  \\\n",
              "count          369.000000          369.000000        369.000000   \n",
              "mean          1006.358266         1005.902710          4.778049   \n",
              "std              1.955745            1.956037          1.041649   \n",
              "min           1001.100000         1000.900000          1.800000   \n",
              "25%           1005.200000         1004.700000          4.100000   \n",
              "50%           1006.300000         1005.800000          4.900000   \n",
              "75%           1007.400000         1006.900000          5.400000   \n",
              "max           1013.200000         1013.000000          9.000000   \n",
              "\n",
              "       Dir. Vento (m/s)  Raj. Vento (m/s)  Radiacao (KJ/m²)  Chuva (mm)  \n",
              "count        369.000000        369.000000        369.000000  369.000000  \n",
              "mean         129.300813          9.275881       1910.866396    0.034146  \n",
              "std           18.630533          1.760724       1085.460403    0.150450  \n",
              "min           76.000000          3.900000         32.600000    0.000000  \n",
              "25%          121.000000          8.400000        940.600000    0.000000  \n",
              "50%          129.000000          9.300000       1971.100000    0.000000  \n",
              "75%          137.000000         10.100000       2890.700000    0.000000  \n",
              "max          198.000000         17.200000       3894.100000    1.800000  "
            ],
            "text/html": [
              "\n",
              "  <div id=\"df-b25171f5-6de7-4504-be14-048e68a63433\">\n",
              "    <div class=\"colab-df-container\">\n",
              "      <div>\n",
              "<style scoped>\n",
              "    .dataframe tbody tr th:only-of-type {\n",
              "        vertical-align: middle;\n",
              "    }\n",
              "\n",
              "    .dataframe tbody tr th {\n",
              "        vertical-align: top;\n",
              "    }\n",
              "\n",
              "    .dataframe thead th {\n",
              "        text-align: right;\n",
              "    }\n",
              "</style>\n",
              "<table border=\"1\" class=\"dataframe\">\n",
              "  <thead>\n",
              "    <tr style=\"text-align: right;\">\n",
              "      <th></th>\n",
              "      <th>Hora (UTC)</th>\n",
              "      <th>Temp. Ins. (C)</th>\n",
              "      <th>Temp. Max. (C)</th>\n",
              "      <th>Temp. Min. (C)</th>\n",
              "      <th>Umi. Ins. (%)</th>\n",
              "      <th>Umi. Max. (%)</th>\n",
              "      <th>Umi. Min. (%)</th>\n",
              "      <th>Pto Orvalho Ins. (C)</th>\n",
              "      <th>Pto Orvalho Max. (C)</th>\n",
              "      <th>Pto Orvalho Min. (C)</th>\n",
              "      <th>Pressao Ins. (hPa)</th>\n",
              "      <th>Pressao Max. (hPa)</th>\n",
              "      <th>Pressao Min. (hPa)</th>\n",
              "      <th>Vel. Vento (m/s)</th>\n",
              "      <th>Dir. Vento (m/s)</th>\n",
              "      <th>Raj. Vento (m/s)</th>\n",
              "      <th>Radiacao (KJ/m²)</th>\n",
              "      <th>Chuva (mm)</th>\n",
              "    </tr>\n",
              "  </thead>\n",
              "  <tbody>\n",
              "    <tr>\n",
              "      <th>count</th>\n",
              "      <td>369.000000</td>\n",
              "      <td>369.000000</td>\n",
              "      <td>369.000000</td>\n",
              "      <td>369.000000</td>\n",
              "      <td>369.000000</td>\n",
              "      <td>369.000000</td>\n",
              "      <td>369.000000</td>\n",
              "      <td>369.000000</td>\n",
              "      <td>369.000000</td>\n",
              "      <td>369.000000</td>\n",
              "      <td>369.000000</td>\n",
              "      <td>369.000000</td>\n",
              "      <td>369.000000</td>\n",
              "      <td>369.000000</td>\n",
              "      <td>369.000000</td>\n",
              "      <td>369.000000</td>\n",
              "      <td>369.000000</td>\n",
              "      <td>369.000000</td>\n",
              "    </tr>\n",
              "    <tr>\n",
              "      <th>mean</th>\n",
              "      <td>1537.127371</td>\n",
              "      <td>28.401355</td>\n",
              "      <td>29.126016</td>\n",
              "      <td>27.670461</td>\n",
              "      <td>71.699187</td>\n",
              "      <td>74.945799</td>\n",
              "      <td>68.788618</td>\n",
              "      <td>22.722222</td>\n",
              "      <td>23.349593</td>\n",
              "      <td>22.125745</td>\n",
              "      <td>1006.097561</td>\n",
              "      <td>1006.358266</td>\n",
              "      <td>1005.902710</td>\n",
              "      <td>4.778049</td>\n",
              "      <td>129.300813</td>\n",
              "      <td>9.275881</td>\n",
              "      <td>1910.866396</td>\n",
              "      <td>0.034146</td>\n",
              "    </tr>\n",
              "    <tr>\n",
              "      <th>std</th>\n",
              "      <td>336.144035</td>\n",
              "      <td>1.236459</td>\n",
              "      <td>1.357117</td>\n",
              "      <td>1.323007</td>\n",
              "      <td>6.221808</td>\n",
              "      <td>6.599349</td>\n",
              "      <td>6.409807</td>\n",
              "      <td>0.784493</td>\n",
              "      <td>0.776003</td>\n",
              "      <td>0.738398</td>\n",
              "      <td>1.965510</td>\n",
              "      <td>1.955745</td>\n",
              "      <td>1.956037</td>\n",
              "      <td>1.041649</td>\n",
              "      <td>18.630533</td>\n",
              "      <td>1.760724</td>\n",
              "      <td>1085.460403</td>\n",
              "      <td>0.150450</td>\n",
              "    </tr>\n",
              "    <tr>\n",
              "      <th>min</th>\n",
              "      <td>900.000000</td>\n",
              "      <td>23.900000</td>\n",
              "      <td>23.900000</td>\n",
              "      <td>22.700000</td>\n",
              "      <td>60.000000</td>\n",
              "      <td>63.000000</td>\n",
              "      <td>57.000000</td>\n",
              "      <td>19.500000</td>\n",
              "      <td>19.800000</td>\n",
              "      <td>18.900000</td>\n",
              "      <td>1000.900000</td>\n",
              "      <td>1001.100000</td>\n",
              "      <td>1000.900000</td>\n",
              "      <td>1.800000</td>\n",
              "      <td>76.000000</td>\n",
              "      <td>3.900000</td>\n",
              "      <td>32.600000</td>\n",
              "      <td>0.000000</td>\n",
              "    </tr>\n",
              "    <tr>\n",
              "      <th>25%</th>\n",
              "      <td>1200.000000</td>\n",
              "      <td>27.700000</td>\n",
              "      <td>28.300000</td>\n",
              "      <td>27.100000</td>\n",
              "      <td>68.000000</td>\n",
              "      <td>70.000000</td>\n",
              "      <td>64.000000</td>\n",
              "      <td>22.400000</td>\n",
              "      <td>22.900000</td>\n",
              "      <td>21.800000</td>\n",
              "      <td>1004.900000</td>\n",
              "      <td>1005.200000</td>\n",
              "      <td>1004.700000</td>\n",
              "      <td>4.100000</td>\n",
              "      <td>121.000000</td>\n",
              "      <td>8.400000</td>\n",
              "      <td>940.600000</td>\n",
              "      <td>0.000000</td>\n",
              "    </tr>\n",
              "    <tr>\n",
              "      <th>50%</th>\n",
              "      <td>1500.000000</td>\n",
              "      <td>28.600000</td>\n",
              "      <td>29.300000</td>\n",
              "      <td>28.000000</td>\n",
              "      <td>71.000000</td>\n",
              "      <td>74.000000</td>\n",
              "      <td>68.000000</td>\n",
              "      <td>22.800000</td>\n",
              "      <td>23.400000</td>\n",
              "      <td>22.200000</td>\n",
              "      <td>1006.000000</td>\n",
              "      <td>1006.300000</td>\n",
              "      <td>1005.800000</td>\n",
              "      <td>4.900000</td>\n",
              "      <td>129.000000</td>\n",
              "      <td>9.300000</td>\n",
              "      <td>1971.100000</td>\n",
              "      <td>0.000000</td>\n",
              "    </tr>\n",
              "    <tr>\n",
              "      <th>75%</th>\n",
              "      <td>1800.000000</td>\n",
              "      <td>29.300000</td>\n",
              "      <td>30.200000</td>\n",
              "      <td>28.600000</td>\n",
              "      <td>75.000000</td>\n",
              "      <td>78.000000</td>\n",
              "      <td>72.000000</td>\n",
              "      <td>23.200000</td>\n",
              "      <td>23.800000</td>\n",
              "      <td>22.600000</td>\n",
              "      <td>1007.100000</td>\n",
              "      <td>1007.400000</td>\n",
              "      <td>1006.900000</td>\n",
              "      <td>5.400000</td>\n",
              "      <td>137.000000</td>\n",
              "      <td>10.100000</td>\n",
              "      <td>2890.700000</td>\n",
              "      <td>0.000000</td>\n",
              "    </tr>\n",
              "    <tr>\n",
              "      <th>max</th>\n",
              "      <td>2100.000000</td>\n",
              "      <td>31.000000</td>\n",
              "      <td>31.900000</td>\n",
              "      <td>29.700000</td>\n",
              "      <td>95.000000</td>\n",
              "      <td>95.000000</td>\n",
              "      <td>91.000000</td>\n",
              "      <td>24.600000</td>\n",
              "      <td>25.300000</td>\n",
              "      <td>24.100000</td>\n",
              "      <td>1013.200000</td>\n",
              "      <td>1013.200000</td>\n",
              "      <td>1013.000000</td>\n",
              "      <td>9.000000</td>\n",
              "      <td>198.000000</td>\n",
              "      <td>17.200000</td>\n",
              "      <td>3894.100000</td>\n",
              "      <td>1.800000</td>\n",
              "    </tr>\n",
              "  </tbody>\n",
              "</table>\n",
              "</div>\n",
              "      <button class=\"colab-df-convert\" onclick=\"convertToInteractive('df-b25171f5-6de7-4504-be14-048e68a63433')\"\n",
              "              title=\"Convert this dataframe to an interactive table.\"\n",
              "              style=\"display:none;\">\n",
              "        \n",
              "  <svg xmlns=\"http://www.w3.org/2000/svg\" height=\"24px\"viewBox=\"0 0 24 24\"\n",
              "       width=\"24px\">\n",
              "    <path d=\"M0 0h24v24H0V0z\" fill=\"none\"/>\n",
              "    <path d=\"M18.56 5.44l.94 2.06.94-2.06 2.06-.94-2.06-.94-.94-2.06-.94 2.06-2.06.94zm-11 1L8.5 8.5l.94-2.06 2.06-.94-2.06-.94L8.5 2.5l-.94 2.06-2.06.94zm10 10l.94 2.06.94-2.06 2.06-.94-2.06-.94-.94-2.06-.94 2.06-2.06.94z\"/><path d=\"M17.41 7.96l-1.37-1.37c-.4-.4-.92-.59-1.43-.59-.52 0-1.04.2-1.43.59L10.3 9.45l-7.72 7.72c-.78.78-.78 2.05 0 2.83L4 21.41c.39.39.9.59 1.41.59.51 0 1.02-.2 1.41-.59l7.78-7.78 2.81-2.81c.8-.78.8-2.07 0-2.86zM5.41 20L4 18.59l7.72-7.72 1.47 1.35L5.41 20z\"/>\n",
              "  </svg>\n",
              "      </button>\n",
              "      \n",
              "  <style>\n",
              "    .colab-df-container {\n",
              "      display:flex;\n",
              "      flex-wrap:wrap;\n",
              "      gap: 12px;\n",
              "    }\n",
              "\n",
              "    .colab-df-convert {\n",
              "      background-color: #E8F0FE;\n",
              "      border: none;\n",
              "      border-radius: 50%;\n",
              "      cursor: pointer;\n",
              "      display: none;\n",
              "      fill: #1967D2;\n",
              "      height: 32px;\n",
              "      padding: 0 0 0 0;\n",
              "      width: 32px;\n",
              "    }\n",
              "\n",
              "    .colab-df-convert:hover {\n",
              "      background-color: #E2EBFA;\n",
              "      box-shadow: 0px 1px 2px rgba(60, 64, 67, 0.3), 0px 1px 3px 1px rgba(60, 64, 67, 0.15);\n",
              "      fill: #174EA6;\n",
              "    }\n",
              "\n",
              "    [theme=dark] .colab-df-convert {\n",
              "      background-color: #3B4455;\n",
              "      fill: #D2E3FC;\n",
              "    }\n",
              "\n",
              "    [theme=dark] .colab-df-convert:hover {\n",
              "      background-color: #434B5C;\n",
              "      box-shadow: 0px 1px 3px 1px rgba(0, 0, 0, 0.15);\n",
              "      filter: drop-shadow(0px 1px 2px rgba(0, 0, 0, 0.3));\n",
              "      fill: #FFFFFF;\n",
              "    }\n",
              "  </style>\n",
              "\n",
              "      <script>\n",
              "        const buttonEl =\n",
              "          document.querySelector('#df-b25171f5-6de7-4504-be14-048e68a63433 button.colab-df-convert');\n",
              "        buttonEl.style.display =\n",
              "          google.colab.kernel.accessAllowed ? 'block' : 'none';\n",
              "\n",
              "        async function convertToInteractive(key) {\n",
              "          const element = document.querySelector('#df-b25171f5-6de7-4504-be14-048e68a63433');\n",
              "          const dataTable =\n",
              "            await google.colab.kernel.invokeFunction('convertToInteractive',\n",
              "                                                     [key], {});\n",
              "          if (!dataTable) return;\n",
              "\n",
              "          const docLinkHtml = 'Like what you see? Visit the ' +\n",
              "            '<a target=\"_blank\" href=https://colab.research.google.com/notebooks/data_table.ipynb>data table notebook</a>'\n",
              "            + ' to learn more about interactive tables.';\n",
              "          element.innerHTML = '';\n",
              "          dataTable['output_type'] = 'display_data';\n",
              "          await google.colab.output.renderOutput(dataTable, element);\n",
              "          const docLink = document.createElement('div');\n",
              "          docLink.innerHTML = docLinkHtml;\n",
              "          element.appendChild(docLink);\n",
              "        }\n",
              "      </script>\n",
              "    </div>\n",
              "  </div>\n",
              "  "
            ]
          },
          "metadata": {},
          "execution_count": 50
        }
      ]
    },
    {
      "cell_type": "code",
      "source": [
        "#C) Serie de Temperatura mínima, media e máxima.\n",
        "dados_temperatura = []\n",
        "\n",
        "for mes in meses:\n",
        "  dados_temperatura.append([\n",
        "    mes[\"Temp. Max. (C)\"].max(),\n",
        "    mes[\"Temp. Max. (C)\"].mean(),\n",
        "    mes[\"Temp. Max. (C)\"].min(),\n",
        "    mes[\"Temp. Ins. (C)\"].max(),\n",
        "    mes[\"Temp. Ins. (C)\"].mean(),\n",
        "    mes[\"Temp. Ins. (C)\"].min(),\n",
        "    mes[\"Temp. Min. (C)\"].max(),\n",
        "    mes[\"Temp. Min. (C)\"].mean(),\n",
        "    mes[\"Temp. Min. (C)\"].min()\n",
        "  ])\n",
        "\n",
        "df_temperaturas = pd.DataFrame(dados_temperatura,\n",
        "                               columns=['Maxima_maxima', 'Maxima_media', 'Maxima_minima',\n",
        "                                        'Media_maxima', 'Media_media', 'Media_minima',\n",
        "                                        'Minima_maxima', 'Minima_media', 'Minima_minima'\n",
        "                                        ])\n",
        "\n",
        "df_temperaturas"
      ],
      "metadata": {
        "id": "E_tWCp1ZILvL",
        "outputId": "86ba67f5-c8a2-4e9b-f842-91cdab9a0248",
        "colab": {
          "base_uri": "https://localhost:8080/",
          "height": 421
        }
      },
      "execution_count": 42,
      "outputs": [
        {
          "output_type": "execute_result",
          "data": {
            "text/plain": [
              "    Maxima_maxima  Maxima_media  Maxima_minima  Media_maxima  Media_media  \\\n",
              "0            31.9     29.126016           23.9          31.0    28.401355   \n",
              "1            32.2     29.494562           23.4          31.6    28.740181   \n",
              "2            31.7     28.801644           22.5          30.9    28.121644   \n",
              "3            31.8     28.996784           23.2          30.9    28.363450   \n",
              "4            32.1     28.726301           23.7          30.7    28.117052   \n",
              "5            31.8     28.412979           23.3          30.9    27.795575   \n",
              "6            31.5     28.103198           22.9          30.7    27.480233   \n",
              "7            31.5     28.087069           22.4          30.9    27.432471   \n",
              "8            31.5     28.580415           22.7          30.9    27.903561   \n",
              "9            31.7     29.126171           23.1          31.1    28.398898   \n",
              "10           31.7     29.413235           23.2          31.1    28.676176   \n",
              "11           32.6     29.647352           23.6          31.8    28.850156   \n",
              "\n",
              "    Media_minima  Minima_maxima  Minima_media  Minima_minima  \n",
              "0           23.9           29.7     27.670461           22.7  \n",
              "1           23.4           29.8     28.029003           22.3  \n",
              "2           22.5           30.1     27.370137           22.1  \n",
              "3           23.2           29.7     27.569006           21.9  \n",
              "4           23.7           30.1     27.394798           22.1  \n",
              "5           23.2           29.7     27.012094           22.1  \n",
              "6           22.3           29.7     26.729651           21.5  \n",
              "7           22.4           29.6     26.668103           21.6  \n",
              "8           22.6           29.7     27.181306           22.3  \n",
              "9           23.1           29.8     27.666667           22.6  \n",
              "10          23.1           29.9     27.958235           22.3  \n",
              "11          23.6           30.4     28.101558           23.0  "
            ],
            "text/html": [
              "\n",
              "  <div id=\"df-90f27361-70c8-4fef-8295-4c8712d00246\">\n",
              "    <div class=\"colab-df-container\">\n",
              "      <div>\n",
              "<style scoped>\n",
              "    .dataframe tbody tr th:only-of-type {\n",
              "        vertical-align: middle;\n",
              "    }\n",
              "\n",
              "    .dataframe tbody tr th {\n",
              "        vertical-align: top;\n",
              "    }\n",
              "\n",
              "    .dataframe thead th {\n",
              "        text-align: right;\n",
              "    }\n",
              "</style>\n",
              "<table border=\"1\" class=\"dataframe\">\n",
              "  <thead>\n",
              "    <tr style=\"text-align: right;\">\n",
              "      <th></th>\n",
              "      <th>Maxima_maxima</th>\n",
              "      <th>Maxima_media</th>\n",
              "      <th>Maxima_minima</th>\n",
              "      <th>Media_maxima</th>\n",
              "      <th>Media_media</th>\n",
              "      <th>Media_minima</th>\n",
              "      <th>Minima_maxima</th>\n",
              "      <th>Minima_media</th>\n",
              "      <th>Minima_minima</th>\n",
              "    </tr>\n",
              "  </thead>\n",
              "  <tbody>\n",
              "    <tr>\n",
              "      <th>0</th>\n",
              "      <td>31.9</td>\n",
              "      <td>29.126016</td>\n",
              "      <td>23.9</td>\n",
              "      <td>31.0</td>\n",
              "      <td>28.401355</td>\n",
              "      <td>23.9</td>\n",
              "      <td>29.7</td>\n",
              "      <td>27.670461</td>\n",
              "      <td>22.7</td>\n",
              "    </tr>\n",
              "    <tr>\n",
              "      <th>1</th>\n",
              "      <td>32.2</td>\n",
              "      <td>29.494562</td>\n",
              "      <td>23.4</td>\n",
              "      <td>31.6</td>\n",
              "      <td>28.740181</td>\n",
              "      <td>23.4</td>\n",
              "      <td>29.8</td>\n",
              "      <td>28.029003</td>\n",
              "      <td>22.3</td>\n",
              "    </tr>\n",
              "    <tr>\n",
              "      <th>2</th>\n",
              "      <td>31.7</td>\n",
              "      <td>28.801644</td>\n",
              "      <td>22.5</td>\n",
              "      <td>30.9</td>\n",
              "      <td>28.121644</td>\n",
              "      <td>22.5</td>\n",
              "      <td>30.1</td>\n",
              "      <td>27.370137</td>\n",
              "      <td>22.1</td>\n",
              "    </tr>\n",
              "    <tr>\n",
              "      <th>3</th>\n",
              "      <td>31.8</td>\n",
              "      <td>28.996784</td>\n",
              "      <td>23.2</td>\n",
              "      <td>30.9</td>\n",
              "      <td>28.363450</td>\n",
              "      <td>23.2</td>\n",
              "      <td>29.7</td>\n",
              "      <td>27.569006</td>\n",
              "      <td>21.9</td>\n",
              "    </tr>\n",
              "    <tr>\n",
              "      <th>4</th>\n",
              "      <td>32.1</td>\n",
              "      <td>28.726301</td>\n",
              "      <td>23.7</td>\n",
              "      <td>30.7</td>\n",
              "      <td>28.117052</td>\n",
              "      <td>23.7</td>\n",
              "      <td>30.1</td>\n",
              "      <td>27.394798</td>\n",
              "      <td>22.1</td>\n",
              "    </tr>\n",
              "    <tr>\n",
              "      <th>5</th>\n",
              "      <td>31.8</td>\n",
              "      <td>28.412979</td>\n",
              "      <td>23.3</td>\n",
              "      <td>30.9</td>\n",
              "      <td>27.795575</td>\n",
              "      <td>23.2</td>\n",
              "      <td>29.7</td>\n",
              "      <td>27.012094</td>\n",
              "      <td>22.1</td>\n",
              "    </tr>\n",
              "    <tr>\n",
              "      <th>6</th>\n",
              "      <td>31.5</td>\n",
              "      <td>28.103198</td>\n",
              "      <td>22.9</td>\n",
              "      <td>30.7</td>\n",
              "      <td>27.480233</td>\n",
              "      <td>22.3</td>\n",
              "      <td>29.7</td>\n",
              "      <td>26.729651</td>\n",
              "      <td>21.5</td>\n",
              "    </tr>\n",
              "    <tr>\n",
              "      <th>7</th>\n",
              "      <td>31.5</td>\n",
              "      <td>28.087069</td>\n",
              "      <td>22.4</td>\n",
              "      <td>30.9</td>\n",
              "      <td>27.432471</td>\n",
              "      <td>22.4</td>\n",
              "      <td>29.6</td>\n",
              "      <td>26.668103</td>\n",
              "      <td>21.6</td>\n",
              "    </tr>\n",
              "    <tr>\n",
              "      <th>8</th>\n",
              "      <td>31.5</td>\n",
              "      <td>28.580415</td>\n",
              "      <td>22.7</td>\n",
              "      <td>30.9</td>\n",
              "      <td>27.903561</td>\n",
              "      <td>22.6</td>\n",
              "      <td>29.7</td>\n",
              "      <td>27.181306</td>\n",
              "      <td>22.3</td>\n",
              "    </tr>\n",
              "    <tr>\n",
              "      <th>9</th>\n",
              "      <td>31.7</td>\n",
              "      <td>29.126171</td>\n",
              "      <td>23.1</td>\n",
              "      <td>31.1</td>\n",
              "      <td>28.398898</td>\n",
              "      <td>23.1</td>\n",
              "      <td>29.8</td>\n",
              "      <td>27.666667</td>\n",
              "      <td>22.6</td>\n",
              "    </tr>\n",
              "    <tr>\n",
              "      <th>10</th>\n",
              "      <td>31.7</td>\n",
              "      <td>29.413235</td>\n",
              "      <td>23.2</td>\n",
              "      <td>31.1</td>\n",
              "      <td>28.676176</td>\n",
              "      <td>23.1</td>\n",
              "      <td>29.9</td>\n",
              "      <td>27.958235</td>\n",
              "      <td>22.3</td>\n",
              "    </tr>\n",
              "    <tr>\n",
              "      <th>11</th>\n",
              "      <td>32.6</td>\n",
              "      <td>29.647352</td>\n",
              "      <td>23.6</td>\n",
              "      <td>31.8</td>\n",
              "      <td>28.850156</td>\n",
              "      <td>23.6</td>\n",
              "      <td>30.4</td>\n",
              "      <td>28.101558</td>\n",
              "      <td>23.0</td>\n",
              "    </tr>\n",
              "  </tbody>\n",
              "</table>\n",
              "</div>\n",
              "      <button class=\"colab-df-convert\" onclick=\"convertToInteractive('df-90f27361-70c8-4fef-8295-4c8712d00246')\"\n",
              "              title=\"Convert this dataframe to an interactive table.\"\n",
              "              style=\"display:none;\">\n",
              "        \n",
              "  <svg xmlns=\"http://www.w3.org/2000/svg\" height=\"24px\"viewBox=\"0 0 24 24\"\n",
              "       width=\"24px\">\n",
              "    <path d=\"M0 0h24v24H0V0z\" fill=\"none\"/>\n",
              "    <path d=\"M18.56 5.44l.94 2.06.94-2.06 2.06-.94-2.06-.94-.94-2.06-.94 2.06-2.06.94zm-11 1L8.5 8.5l.94-2.06 2.06-.94-2.06-.94L8.5 2.5l-.94 2.06-2.06.94zm10 10l.94 2.06.94-2.06 2.06-.94-2.06-.94-.94-2.06-.94 2.06-2.06.94z\"/><path d=\"M17.41 7.96l-1.37-1.37c-.4-.4-.92-.59-1.43-.59-.52 0-1.04.2-1.43.59L10.3 9.45l-7.72 7.72c-.78.78-.78 2.05 0 2.83L4 21.41c.39.39.9.59 1.41.59.51 0 1.02-.2 1.41-.59l7.78-7.78 2.81-2.81c.8-.78.8-2.07 0-2.86zM5.41 20L4 18.59l7.72-7.72 1.47 1.35L5.41 20z\"/>\n",
              "  </svg>\n",
              "      </button>\n",
              "      \n",
              "  <style>\n",
              "    .colab-df-container {\n",
              "      display:flex;\n",
              "      flex-wrap:wrap;\n",
              "      gap: 12px;\n",
              "    }\n",
              "\n",
              "    .colab-df-convert {\n",
              "      background-color: #E8F0FE;\n",
              "      border: none;\n",
              "      border-radius: 50%;\n",
              "      cursor: pointer;\n",
              "      display: none;\n",
              "      fill: #1967D2;\n",
              "      height: 32px;\n",
              "      padding: 0 0 0 0;\n",
              "      width: 32px;\n",
              "    }\n",
              "\n",
              "    .colab-df-convert:hover {\n",
              "      background-color: #E2EBFA;\n",
              "      box-shadow: 0px 1px 2px rgba(60, 64, 67, 0.3), 0px 1px 3px 1px rgba(60, 64, 67, 0.15);\n",
              "      fill: #174EA6;\n",
              "    }\n",
              "\n",
              "    [theme=dark] .colab-df-convert {\n",
              "      background-color: #3B4455;\n",
              "      fill: #D2E3FC;\n",
              "    }\n",
              "\n",
              "    [theme=dark] .colab-df-convert:hover {\n",
              "      background-color: #434B5C;\n",
              "      box-shadow: 0px 1px 3px 1px rgba(0, 0, 0, 0.15);\n",
              "      filter: drop-shadow(0px 1px 2px rgba(0, 0, 0, 0.3));\n",
              "      fill: #FFFFFF;\n",
              "    }\n",
              "  </style>\n",
              "\n",
              "      <script>\n",
              "        const buttonEl =\n",
              "          document.querySelector('#df-90f27361-70c8-4fef-8295-4c8712d00246 button.colab-df-convert');\n",
              "        buttonEl.style.display =\n",
              "          google.colab.kernel.accessAllowed ? 'block' : 'none';\n",
              "\n",
              "        async function convertToInteractive(key) {\n",
              "          const element = document.querySelector('#df-90f27361-70c8-4fef-8295-4c8712d00246');\n",
              "          const dataTable =\n",
              "            await google.colab.kernel.invokeFunction('convertToInteractive',\n",
              "                                                     [key], {});\n",
              "          if (!dataTable) return;\n",
              "\n",
              "          const docLinkHtml = 'Like what you see? Visit the ' +\n",
              "            '<a target=\"_blank\" href=https://colab.research.google.com/notebooks/data_table.ipynb>data table notebook</a>'\n",
              "            + ' to learn more about interactive tables.';\n",
              "          element.innerHTML = '';\n",
              "          dataTable['output_type'] = 'display_data';\n",
              "          await google.colab.output.renderOutput(dataTable, element);\n",
              "          const docLink = document.createElement('div');\n",
              "          docLink.innerHTML = docLinkHtml;\n",
              "          element.appendChild(docLink);\n",
              "        }\n",
              "      </script>\n",
              "    </div>\n",
              "  </div>\n",
              "  "
            ]
          },
          "metadata": {},
          "execution_count": 42
        }
      ]
    },
    {
      "cell_type": "code",
      "source": [
        "#D) Correlação entre precipitação e temperatura.\n",
        "sb.relplot(data=result, x='Temp. Ins. (C)', y='Chuva (mm)')"
      ],
      "metadata": {
        "id": "Ta76f1GwJDd8",
        "outputId": "4b20c474-9cb8-4fa5-83e7-cd56391e603c",
        "colab": {
          "base_uri": "https://localhost:8080/",
          "height": 386
        }
      },
      "execution_count": 43,
      "outputs": [
        {
          "output_type": "execute_result",
          "data": {
            "text/plain": [
              "<seaborn.axisgrid.FacetGrid at 0x7f0b57f1e7d0>"
            ]
          },
          "metadata": {},
          "execution_count": 43
        },
        {
          "output_type": "display_data",
          "data": {
            "text/plain": [
              "<Figure size 360x360 with 1 Axes>"
            ],
            "image/png": "[encoded data removed]"
          },
          "metadata": {
            "needs_background": "light"
          }
        }
      ]
    },
    {
      "cell_type": "code",
      "source": [
        "#E) Correlação entre precipitação e vento. \n",
        "sb.relplot(data=result, x='Vel. Vento (m/s)', y='Chuva (mm)')"
      ],
      "metadata": {
        "id": "U5c0ReEHJH0r",
        "outputId": "57b07483-d0a3-40b9-a2d8-c0125218e490",
        "colab": {
          "base_uri": "https://localhost:8080/",
          "height": 386
        }
      },
      "execution_count": 44,
      "outputs": [
        {
          "output_type": "execute_result",
          "data": {
            "text/plain": [
              "<seaborn.axisgrid.FacetGrid at 0x7f0b57ee58d0>"
            ]
          },
          "metadata": {},
          "execution_count": 44
        },
        {
          "output_type": "display_data",
          "data": {
            "text/plain": [
              "<Figure size 360x360 with 1 Axes>"
            ],
            "image/png": "[encoded data removed]"
          },
          "metadata": {
            "needs_background": "light"
          }
        }
      ]
    },
    {
      "cell_type": "code",
      "source": [
        "#F) Correlação entre temperatura e vento.\n",
        "sb.relplot(data=result, x='Temp. Ins. (C)', y='Vel. Vento (m/s)')"
      ],
      "metadata": {
        "id": "vhi-0n8nJLjt",
        "outputId": "ae8b6d65-c835-4740-aa71-856524ea7a3d",
        "colab": {
          "base_uri": "https://localhost:8080/",
          "height": 386
        }
      },
      "execution_count": 45,
      "outputs": [
        {
          "output_type": "execute_result",
          "data": {
            "text/plain": [
              "<seaborn.axisgrid.FacetGrid at 0x7f0b57d28a10>"
            ]
          },
          "metadata": {},
          "execution_count": 45
        },
        {
          "output_type": "display_data",
          "data": {
            "text/plain": [
              "<Figure size 360x360 with 1 Axes>"
            ],
            "image/png": "[encoded data removed]"
          },
          "metadata": {
            "needs_background": "light"
          }
        }
      ]
    },
    {
      "cell_type": "code",
      "source": [
        "# Chuvas em natal acontecem na madrugada :(\n",
        "sb.relplot(data=result, x='Hora (UTC)', y='Chuva (mm)')"
      ],
      "metadata": {
        "id": "CNF-esvfJPBG",
        "outputId": "2bed79b3-c6fc-4a58-a175-b8f91490e692",
        "colab": {
          "base_uri": "https://localhost:8080/",
          "height": 386
        }
      },
      "execution_count": 46,
      "outputs": [
        {
          "output_type": "execute_result",
          "data": {
            "text/plain": [
              "<seaborn.axisgrid.FacetGrid at 0x7f0b57cecf50>"
            ]
          },
          "metadata": {},
          "execution_count": 46
        },
        {
          "output_type": "display_data",
          "data": {
            "text/plain": [
              "<Figure size 360x360 with 1 Axes>"
            ],
            "image/png": "[encoded data removed]"
          },
          "metadata": {
            "needs_background": "light"
          }
        }
      ]
    },
    {
      "cell_type": "code",
      "source": [
        "# Mapa de calor de correlações\n",
        "corr = result.corr()\n",
        "sb.heatmap(corr, annot=True, fmt=\".1f\")"
      ],
      "metadata": {
        "id": "c4_iaIwSJYfe",
        "outputId": "4d6eb652-fa14-4659-9dde-ca9d1d582d0d",
        "colab": {
          "base_uri": "https://localhost:8080/",
          "height": 379
        }
      },
      "execution_count": 52,
      "outputs": [
        {
          "output_type": "execute_result",
          "data": {
            "text/plain": [
              "<matplotlib.axes._subplots.AxesSubplot at 0x7f0b54168310>"
            ]
          },
          "metadata": {},
          "execution_count": 52
        },
        {
          "output_type": "display_data",
          "data": {
            "text/plain": [
              "<Figure size 432x288 with 2 Axes>"
            ],
            "image/png": "[encoded data removed]"
          },
          "metadata": {
            "needs_background": "light"
          }
        }
      ]
    }
  ]
}