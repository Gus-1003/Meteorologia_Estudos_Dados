{
  "nbformat": 4,
  "nbformat_minor": 0,
  "metadata": {
    "colab": {
      "name": "RepresentantesRegiões.ipynb",
      "provenance": [],
      "collapsed_sections": [],
      "toc_visible": true,
      "include_colab_link": true
    },
    "kernelspec": {
      "name": "python3",
      "display_name": "Python 3"
    },
    "language_info": {
      "name": "python"
    }
  },
  "cells": [
    {
      "cell_type": "markdown",
      "metadata": {
        "id": "view-in-github",
        "colab_type": "text"
      },
      "source": [
        "<a href=\"https://colab.research.google.com/github/Gus-1003/Meteorologia_Estudos_Dados/blob/main/Balan%C3%A7o_H%C3%ADdrico/RepresentantesRegi%C3%B5es.ipynb\" target=\"_parent\"><img src=\"https://colab.research.google.com/assets/colab-badge.svg\" alt=\"Open In Colab\"/></a>"
      ]
    },
    {
      "cell_type": "markdown",
      "source": [
        "# **Contexto:**"
      ],
      "metadata": {
        "id": "6eVwYf6WExVi"
      }
    },
    {
      "cell_type": "markdown",
      "source": [
        "## Fonte Teorica:"
      ],
      "metadata": {
        "id": "le1wkhtuE3LB"
      }
    },
    {
      "cell_type": "markdown",
      "source": [
        "*   Simplificando o Balanceamento Hidrico - Scielo: https://www.scielo.br/j/brag/a/x8tcTGb4PdPsghWjBNkw6rs/?lang=pt\n",
        "*   List item"
      ],
      "metadata": {
        "id": "mj0tuESIFBgx"
      }
    },
    {
      "cell_type": "markdown",
      "source": [
        "## Definições Base:"
      ],
      "metadata": {
        "id": "Ze1gWYFQE9Uk"
      }
    },
    {
      "cell_type": "markdown",
      "source": [
        "# **Bibliotecas Básicas**"
      ],
      "metadata": {
        "id": "JZGb73KbGTWC"
      }
    },
    {
      "cell_type": "code",
      "source": [
        "print(\"Importando e Instalando Bibliotecas básicas...\")\n",
        "import numpy as np\n",
        "import pandas as pd\n",
        "import matplotlib.pyplot as plt\n",
        "#import seaborn as sb\n"
      ],
      "metadata": {
        "id": "PJm7TzNpGlAk",
        "colab": {
          "base_uri": "https://localhost:8080/"
        },
        "outputId": "22c6bb31-da59-477f-ef4e-6e9092b20951"
      },
      "execution_count": 1,
      "outputs": [
        {
          "output_type": "stream",
          "name": "stdout",
          "text": [
            "Importando e Instalando Bibliotecas básicas...\n"
          ]
        }
      ]
    },
    {
      "cell_type": "markdown",
      "source": [
        "# **Pré - Processamento**"
      ],
      "metadata": {
        "id": "yN6-ZppqGy-T"
      }
    },
    {
      "cell_type": "markdown",
      "source": [
        "## Leitura dos dados da produção do RN"
      ],
      "metadata": {
        "id": "BlBfinKj9hEj"
      }
    },
    {
      "cell_type": "code",
      "source": [
        "# BARRETOS\n",
        "pd_1 = pd.read_csv('https://raw.githubusercontent.com/Gus-1003/GeoProcessamento_Estudos_Dados/main/Balan%C3%A7o_H%C3%ADdrico/dados_A748_D_2021-01-01_2021-12-31.csv',low_memory=False, encoding='utf-8', delimiter=';', skiprows=10)\n",
        "# GOIANESIA\n",
        "pd_2 = pd.read_csv('https://raw.githubusercontent.com/Gus-1003/GeoProcessamento_Estudos_Dados/main/Balan%C3%A7o_H%C3%ADdrico/dados_A022_D_2021-01-01_2021-12-31.csv',low_memory=False, encoding='utf-8', delimiter=';', skiprows=10)\n",
        "# MANAUS\n",
        "pd_3 = pd.read_csv('https://raw.githubusercontent.com/Gus-1003/GeoProcessamento_Estudos_Dados/main/Balan%C3%A7o_H%C3%ADdrico/dados_A101_D_2021-01-01_2021-12-31.csv',low_memory=False, encoding='utf-8', delimiter=';', skiprows=10)\n",
        "# MOSSORO\n",
        "pd_4 = pd.read_csv('https://raw.githubusercontent.com/Gus-1003/GeoProcessamento_Estudos_Dados/main/Balan%C3%A7o_H%C3%ADdrico/dados_A318_D_2021-01-01_2021-12-31.csv',low_memory=False, encoding='utf-8', delimiter=';', skiprows=10)\n",
        "# CHAPECO\n",
        "pd_5 = pd.read_csv('https://raw.githubusercontent.com/Gus-1003/GeoProcessamento_Estudos_Dados/main/Balan%C3%A7o_H%C3%ADdrico/dados_A895_D_2021-01-01_2021-12-31.csv',low_memory=False, encoding='utf-8', delimiter=';', skiprows=10)"
      ],
      "metadata": {
        "id": "cqM8pXxOrXyj"
      },
      "execution_count": 2,
      "outputs": []
    },
    {
      "cell_type": "markdown",
      "source": [
        "## Plot Dataframes:"
      ],
      "metadata": {
        "id": "Lbw9yAWo_CVa"
      }
    },
    {
      "cell_type": "code",
      "source": [
        "pd_1\n",
        "# pd_2\n",
        "# pd_3\n",
        "# pd_4\n",
        "# pd_5"
      ],
      "metadata": {
        "colab": {
          "base_uri": "https://localhost:8080/",
          "height": 485
        },
        "id": "C8aTpmNVzhnv",
        "outputId": "b6e3bd08-d7aa-4e1d-b18e-475087d9e0d3"
      },
      "execution_count": 3,
      "outputs": [
        {
          "output_type": "execute_result",
          "data": {
            "text/plain": [
              "    Data Medicao PRECIPITACAO TOTAL, DIARIO (AUT)(mm)  \\\n",
              "0     2021-01-01                                    3   \n",
              "1     2021-01-02                                 13,4   \n",
              "2     2021-01-03                                    0   \n",
              "3     2021-01-04                                   ,2   \n",
              "4     2021-01-05                                    0   \n",
              "..           ...                                  ...   \n",
              "360   2021-12-27                                    0   \n",
              "361   2021-12-28                                    0   \n",
              "362   2021-12-29                                    0   \n",
              "363   2021-12-30                                 18,8   \n",
              "364   2021-12-31                                  1,4   \n",
              "\n",
              "    TEMPERATURA MAXIMA, DIARIA (AUT)(°C) TEMPERATURA MINIMA, DIARIA (AUT)(°C)  \\\n",
              "0                                   30,4                                 19,3   \n",
              "1                                   30,5                                 18,6   \n",
              "2                                   32,5                                 18,2   \n",
              "3                                     32                                 17,1   \n",
              "4                                     32                                 19,8   \n",
              "..                                   ...                                  ...   \n",
              "360                                 34,5                                 17,8   \n",
              "361                                 34,2                                 18,6   \n",
              "362                                 31,4                                 19,1   \n",
              "363                                 27,7                                 19,7   \n",
              "364                                 28,6                                 18,4   \n",
              "\n",
              "     Unnamed: 4  \n",
              "0           NaN  \n",
              "1           NaN  \n",
              "2           NaN  \n",
              "3           NaN  \n",
              "4           NaN  \n",
              "..          ...  \n",
              "360         NaN  \n",
              "361         NaN  \n",
              "362         NaN  \n",
              "363         NaN  \n",
              "364         NaN  \n",
              "\n",
              "[365 rows x 5 columns]"
            ],
            "text/html": [
              "\n",
              "  <div id=\"df-7edae5cf-de71-46ab-b74c-7e591304117c\">\n",
              "    <div class=\"colab-df-container\">\n",
              "      <div>\n",
              "<style scoped>\n",
              "    .dataframe tbody tr th:only-of-type {\n",
              "        vertical-align: middle;\n",
              "    }\n",
              "\n",
              "    .dataframe tbody tr th {\n",
              "        vertical-align: top;\n",
              "    }\n",
              "\n",
              "    .dataframe thead th {\n",
              "        text-align: right;\n",
              "    }\n",
              "</style>\n",
              "<table border=\"1\" class=\"dataframe\">\n",
              "  <thead>\n",
              "    <tr style=\"text-align: right;\">\n",
              "      <th></th>\n",
              "      <th>Data Medicao</th>\n",
              "      <th>PRECIPITACAO TOTAL, DIARIO (AUT)(mm)</th>\n",
              "      <th>TEMPERATURA MAXIMA, DIARIA (AUT)(°C)</th>\n",
              "      <th>TEMPERATURA MINIMA, DIARIA (AUT)(°C)</th>\n",
              "      <th>Unnamed: 4</th>\n",
              "    </tr>\n",
              "  </thead>\n",
              "  <tbody>\n",
              "    <tr>\n",
              "      <th>0</th>\n",
              "      <td>2021-01-01</td>\n",
              "      <td>3</td>\n",
              "      <td>30,4</td>\n",
              "      <td>19,3</td>\n",
              "      <td>NaN</td>\n",
              "    </tr>\n",
              "    <tr>\n",
              "      <th>1</th>\n",
              "      <td>2021-01-02</td>\n",
              "      <td>13,4</td>\n",
              "      <td>30,5</td>\n",
              "      <td>18,6</td>\n",
              "      <td>NaN</td>\n",
              "    </tr>\n",
              "    <tr>\n",
              "      <th>2</th>\n",
              "      <td>2021-01-03</td>\n",
              "      <td>0</td>\n",
              "      <td>32,5</td>\n",
              "      <td>18,2</td>\n",
              "      <td>NaN</td>\n",
              "    </tr>\n",
              "    <tr>\n",
              "      <th>3</th>\n",
              "      <td>2021-01-04</td>\n",
              "      <td>,2</td>\n",
              "      <td>32</td>\n",
              "      <td>17,1</td>\n",
              "      <td>NaN</td>\n",
              "    </tr>\n",
              "    <tr>\n",
              "      <th>4</th>\n",
              "      <td>2021-01-05</td>\n",
              "      <td>0</td>\n",
              "      <td>32</td>\n",
              "      <td>19,8</td>\n",
              "      <td>NaN</td>\n",
              "    </tr>\n",
              "    <tr>\n",
              "      <th>...</th>\n",
              "      <td>...</td>\n",
              "      <td>...</td>\n",
              "      <td>...</td>\n",
              "      <td>...</td>\n",
              "      <td>...</td>\n",
              "    </tr>\n",
              "    <tr>\n",
              "      <th>360</th>\n",
              "      <td>2021-12-27</td>\n",
              "      <td>0</td>\n",
              "      <td>34,5</td>\n",
              "      <td>17,8</td>\n",
              "      <td>NaN</td>\n",
              "    </tr>\n",
              "    <tr>\n",
              "      <th>361</th>\n",
              "      <td>2021-12-28</td>\n",
              "      <td>0</td>\n",
              "      <td>34,2</td>\n",
              "      <td>18,6</td>\n",
              "      <td>NaN</td>\n",
              "    </tr>\n",
              "    <tr>\n",
              "      <th>362</th>\n",
              "      <td>2021-12-29</td>\n",
              "      <td>0</td>\n",
              "      <td>31,4</td>\n",
              "      <td>19,1</td>\n",
              "      <td>NaN</td>\n",
              "    </tr>\n",
              "    <tr>\n",
              "      <th>363</th>\n",
              "      <td>2021-12-30</td>\n",
              "      <td>18,8</td>\n",
              "      <td>27,7</td>\n",
              "      <td>19,7</td>\n",
              "      <td>NaN</td>\n",
              "    </tr>\n",
              "    <tr>\n",
              "      <th>364</th>\n",
              "      <td>2021-12-31</td>\n",
              "      <td>1,4</td>\n",
              "      <td>28,6</td>\n",
              "      <td>18,4</td>\n",
              "      <td>NaN</td>\n",
              "    </tr>\n",
              "  </tbody>\n",
              "</table>\n",
              "<p>365 rows × 5 columns</p>\n",
              "</div>\n",
              "      <button class=\"colab-df-convert\" onclick=\"convertToInteractive('df-7edae5cf-de71-46ab-b74c-7e591304117c')\"\n",
              "              title=\"Convert this dataframe to an interactive table.\"\n",
              "              style=\"display:none;\">\n",
              "        \n",
              "  <svg xmlns=\"http://www.w3.org/2000/svg\" height=\"24px\"viewBox=\"0 0 24 24\"\n",
              "       width=\"24px\">\n",
              "    <path d=\"M0 0h24v24H0V0z\" fill=\"none\"/>\n",
              "    <path d=\"M18.56 5.44l.94 2.06.94-2.06 2.06-.94-2.06-.94-.94-2.06-.94 2.06-2.06.94zm-11 1L8.5 8.5l.94-2.06 2.06-.94-2.06-.94L8.5 2.5l-.94 2.06-2.06.94zm10 10l.94 2.06.94-2.06 2.06-.94-2.06-.94-.94-2.06-.94 2.06-2.06.94z\"/><path d=\"M17.41 7.96l-1.37-1.37c-.4-.4-.92-.59-1.43-.59-.52 0-1.04.2-1.43.59L10.3 9.45l-7.72 7.72c-.78.78-.78 2.05 0 2.83L4 21.41c.39.39.9.59 1.41.59.51 0 1.02-.2 1.41-.59l7.78-7.78 2.81-2.81c.8-.78.8-2.07 0-2.86zM5.41 20L4 18.59l7.72-7.72 1.47 1.35L5.41 20z\"/>\n",
              "  </svg>\n",
              "      </button>\n",
              "      \n",
              "  <style>\n",
              "    .colab-df-container {\n",
              "      display:flex;\n",
              "      flex-wrap:wrap;\n",
              "      gap: 12px;\n",
              "    }\n",
              "\n",
              "    .colab-df-convert {\n",
              "      background-color: #E8F0FE;\n",
              "      border: none;\n",
              "      border-radius: 50%;\n",
              "      cursor: pointer;\n",
              "      display: none;\n",
              "      fill: #1967D2;\n",
              "      height: 32px;\n",
              "      padding: 0 0 0 0;\n",
              "      width: 32px;\n",
              "    }\n",
              "\n",
              "    .colab-df-convert:hover {\n",
              "      background-color: #E2EBFA;\n",
              "      box-shadow: 0px 1px 2px rgba(60, 64, 67, 0.3), 0px 1px 3px 1px rgba(60, 64, 67, 0.15);\n",
              "      fill: #174EA6;\n",
              "    }\n",
              "\n",
              "    [theme=dark] .colab-df-convert {\n",
              "      background-color: #3B4455;\n",
              "      fill: #D2E3FC;\n",
              "    }\n",
              "\n",
              "    [theme=dark] .colab-df-convert:hover {\n",
              "      background-color: #434B5C;\n",
              "      box-shadow: 0px 1px 3px 1px rgba(0, 0, 0, 0.15);\n",
              "      filter: drop-shadow(0px 1px 2px rgba(0, 0, 0, 0.3));\n",
              "      fill: #FFFFFF;\n",
              "    }\n",
              "  </style>\n",
              "\n",
              "      <script>\n",
              "        const buttonEl =\n",
              "          document.querySelector('#df-7edae5cf-de71-46ab-b74c-7e591304117c button.colab-df-convert');\n",
              "        buttonEl.style.display =\n",
              "          google.colab.kernel.accessAllowed ? 'block' : 'none';\n",
              "\n",
              "        async function convertToInteractive(key) {\n",
              "          const element = document.querySelector('#df-7edae5cf-de71-46ab-b74c-7e591304117c');\n",
              "          const dataTable =\n",
              "            await google.colab.kernel.invokeFunction('convertToInteractive',\n",
              "                                                     [key], {});\n",
              "          if (!dataTable) return;\n",
              "\n",
              "          const docLinkHtml = 'Like what you see? Visit the ' +\n",
              "            '<a target=\"_blank\" href=https://colab.research.google.com/notebooks/data_table.ipynb>data table notebook</a>'\n",
              "            + ' to learn more about interactive tables.';\n",
              "          element.innerHTML = '';\n",
              "          dataTable['output_type'] = 'display_data';\n",
              "          await google.colab.output.renderOutput(dataTable, element);\n",
              "          const docLink = document.createElement('div');\n",
              "          docLink.innerHTML = docLinkHtml;\n",
              "          element.appendChild(docLink);\n",
              "        }\n",
              "      </script>\n",
              "    </div>\n",
              "  </div>\n",
              "  "
            ]
          },
          "metadata": {},
          "execution_count": 3
        }
      ]
    },
    {
      "cell_type": "code",
      "source": [
        "pd_1.info"
      ],
      "metadata": {
        "colab": {
          "base_uri": "https://localhost:8080/"
        },
        "id": "MYyzW9ovneOv",
        "outputId": "b007fc1c-2a5d-4908-ff8f-33db790d4e04"
      },
      "execution_count": 4,
      "outputs": [
        {
          "output_type": "execute_result",
          "data": {
            "text/plain": [
              "<bound method DataFrame.info of     Data Medicao PRECIPITACAO TOTAL, DIARIO (AUT)(mm)  \\\n",
              "0     2021-01-01                                    3   \n",
              "1     2021-01-02                                 13,4   \n",
              "2     2021-01-03                                    0   \n",
              "3     2021-01-04                                   ,2   \n",
              "4     2021-01-05                                    0   \n",
              "..           ...                                  ...   \n",
              "360   2021-12-27                                    0   \n",
              "361   2021-12-28                                    0   \n",
              "362   2021-12-29                                    0   \n",
              "363   2021-12-30                                 18,8   \n",
              "364   2021-12-31                                  1,4   \n",
              "\n",
              "    TEMPERATURA MAXIMA, DIARIA (AUT)(°C) TEMPERATURA MINIMA, DIARIA (AUT)(°C)  \\\n",
              "0                                   30,4                                 19,3   \n",
              "1                                   30,5                                 18,6   \n",
              "2                                   32,5                                 18,2   \n",
              "3                                     32                                 17,1   \n",
              "4                                     32                                 19,8   \n",
              "..                                   ...                                  ...   \n",
              "360                                 34,5                                 17,8   \n",
              "361                                 34,2                                 18,6   \n",
              "362                                 31,4                                 19,1   \n",
              "363                                 27,7                                 19,7   \n",
              "364                                 28,6                                 18,4   \n",
              "\n",
              "     Unnamed: 4  \n",
              "0           NaN  \n",
              "1           NaN  \n",
              "2           NaN  \n",
              "3           NaN  \n",
              "4           NaN  \n",
              "..          ...  \n",
              "360         NaN  \n",
              "361         NaN  \n",
              "362         NaN  \n",
              "363         NaN  \n",
              "364         NaN  \n",
              "\n",
              "[365 rows x 5 columns]>"
            ]
          },
          "metadata": {},
          "execution_count": 4
        }
      ]
    },
    {
      "cell_type": "code",
      "source": [
        "type(pd_1)"
      ],
      "metadata": {
        "colab": {
          "base_uri": "https://localhost:8080/"
        },
        "id": "xrfHIDfkHjmJ",
        "outputId": "b621825e-3f0a-443e-85fd-4d20d91160c0"
      },
      "execution_count": 5,
      "outputs": [
        {
          "output_type": "execute_result",
          "data": {
            "text/plain": [
              "pandas.core.frame.DataFrame"
            ]
          },
          "metadata": {},
          "execution_count": 5
        }
      ]
    },
    {
      "cell_type": "markdown",
      "source": [
        "## Limpeza:"
      ],
      "metadata": {
        "id": "6ufDTaMQEEzB"
      }
    },
    {
      "cell_type": "code",
      "source": [
        "pd_1.pop('Unnamed: 4')\n",
        "pd_2.pop('Unnamed: 4')\n",
        "pd_3.pop('Unnamed: 4')\n",
        "pd_4.pop('Unnamed: 4')\n",
        "pd_5.pop('Unnamed: 4')\n",
        "\n",
        "pd_1"
      ],
      "metadata": {
        "colab": {
          "base_uri": "https://localhost:8080/",
          "height": 485
        },
        "id": "scEIn-19DNHD",
        "outputId": "b4e35fb2-a606-4677-a794-f606e5613765"
      },
      "execution_count": 6,
      "outputs": [
        {
          "output_type": "execute_result",
          "data": {
            "text/plain": [
              "    Data Medicao PRECIPITACAO TOTAL, DIARIO (AUT)(mm)  \\\n",
              "0     2021-01-01                                    3   \n",
              "1     2021-01-02                                 13,4   \n",
              "2     2021-01-03                                    0   \n",
              "3     2021-01-04                                   ,2   \n",
              "4     2021-01-05                                    0   \n",
              "..           ...                                  ...   \n",
              "360   2021-12-27                                    0   \n",
              "361   2021-12-28                                    0   \n",
              "362   2021-12-29                                    0   \n",
              "363   2021-12-30                                 18,8   \n",
              "364   2021-12-31                                  1,4   \n",
              "\n",
              "    TEMPERATURA MAXIMA, DIARIA (AUT)(°C) TEMPERATURA MINIMA, DIARIA (AUT)(°C)  \n",
              "0                                   30,4                                 19,3  \n",
              "1                                   30,5                                 18,6  \n",
              "2                                   32,5                                 18,2  \n",
              "3                                     32                                 17,1  \n",
              "4                                     32                                 19,8  \n",
              "..                                   ...                                  ...  \n",
              "360                                 34,5                                 17,8  \n",
              "361                                 34,2                                 18,6  \n",
              "362                                 31,4                                 19,1  \n",
              "363                                 27,7                                 19,7  \n",
              "364                                 28,6                                 18,4  \n",
              "\n",
              "[365 rows x 4 columns]"
            ],
            "text/html": [
              "\n",
              "  <div id=\"df-aecb4679-0b6e-43ad-9100-cea986199df9\">\n",
              "    <div class=\"colab-df-container\">\n",
              "      <div>\n",
              "<style scoped>\n",
              "    .dataframe tbody tr th:only-of-type {\n",
              "        vertical-align: middle;\n",
              "    }\n",
              "\n",
              "    .dataframe tbody tr th {\n",
              "        vertical-align: top;\n",
              "    }\n",
              "\n",
              "    .dataframe thead th {\n",
              "        text-align: right;\n",
              "    }\n",
              "</style>\n",
              "<table border=\"1\" class=\"dataframe\">\n",
              "  <thead>\n",
              "    <tr style=\"text-align: right;\">\n",
              "      <th></th>\n",
              "      <th>Data Medicao</th>\n",
              "      <th>PRECIPITACAO TOTAL, DIARIO (AUT)(mm)</th>\n",
              "      <th>TEMPERATURA MAXIMA, DIARIA (AUT)(°C)</th>\n",
              "      <th>TEMPERATURA MINIMA, DIARIA (AUT)(°C)</th>\n",
              "    </tr>\n",
              "  </thead>\n",
              "  <tbody>\n",
              "    <tr>\n",
              "      <th>0</th>\n",
              "      <td>2021-01-01</td>\n",
              "      <td>3</td>\n",
              "      <td>30,4</td>\n",
              "      <td>19,3</td>\n",
              "    </tr>\n",
              "    <tr>\n",
              "      <th>1</th>\n",
              "      <td>2021-01-02</td>\n",
              "      <td>13,4</td>\n",
              "      <td>30,5</td>\n",
              "      <td>18,6</td>\n",
              "    </tr>\n",
              "    <tr>\n",
              "      <th>2</th>\n",
              "      <td>2021-01-03</td>\n",
              "      <td>0</td>\n",
              "      <td>32,5</td>\n",
              "      <td>18,2</td>\n",
              "    </tr>\n",
              "    <tr>\n",
              "      <th>3</th>\n",
              "      <td>2021-01-04</td>\n",
              "      <td>,2</td>\n",
              "      <td>32</td>\n",
              "      <td>17,1</td>\n",
              "    </tr>\n",
              "    <tr>\n",
              "      <th>4</th>\n",
              "      <td>2021-01-05</td>\n",
              "      <td>0</td>\n",
              "      <td>32</td>\n",
              "      <td>19,8</td>\n",
              "    </tr>\n",
              "    <tr>\n",
              "      <th>...</th>\n",
              "      <td>...</td>\n",
              "      <td>...</td>\n",
              "      <td>...</td>\n",
              "      <td>...</td>\n",
              "    </tr>\n",
              "    <tr>\n",
              "      <th>360</th>\n",
              "      <td>2021-12-27</td>\n",
              "      <td>0</td>\n",
              "      <td>34,5</td>\n",
              "      <td>17,8</td>\n",
              "    </tr>\n",
              "    <tr>\n",
              "      <th>361</th>\n",
              "      <td>2021-12-28</td>\n",
              "      <td>0</td>\n",
              "      <td>34,2</td>\n",
              "      <td>18,6</td>\n",
              "    </tr>\n",
              "    <tr>\n",
              "      <th>362</th>\n",
              "      <td>2021-12-29</td>\n",
              "      <td>0</td>\n",
              "      <td>31,4</td>\n",
              "      <td>19,1</td>\n",
              "    </tr>\n",
              "    <tr>\n",
              "      <th>363</th>\n",
              "      <td>2021-12-30</td>\n",
              "      <td>18,8</td>\n",
              "      <td>27,7</td>\n",
              "      <td>19,7</td>\n",
              "    </tr>\n",
              "    <tr>\n",
              "      <th>364</th>\n",
              "      <td>2021-12-31</td>\n",
              "      <td>1,4</td>\n",
              "      <td>28,6</td>\n",
              "      <td>18,4</td>\n",
              "    </tr>\n",
              "  </tbody>\n",
              "</table>\n",
              "<p>365 rows × 4 columns</p>\n",
              "</div>\n",
              "      <button class=\"colab-df-convert\" onclick=\"convertToInteractive('df-aecb4679-0b6e-43ad-9100-cea986199df9')\"\n",
              "              title=\"Convert this dataframe to an interactive table.\"\n",
              "              style=\"display:none;\">\n",
              "        \n",
              "  <svg xmlns=\"http://www.w3.org/2000/svg\" height=\"24px\"viewBox=\"0 0 24 24\"\n",
              "       width=\"24px\">\n",
              "    <path d=\"M0 0h24v24H0V0z\" fill=\"none\"/>\n",
              "    <path d=\"M18.56 5.44l.94 2.06.94-2.06 2.06-.94-2.06-.94-.94-2.06-.94 2.06-2.06.94zm-11 1L8.5 8.5l.94-2.06 2.06-.94-2.06-.94L8.5 2.5l-.94 2.06-2.06.94zm10 10l.94 2.06.94-2.06 2.06-.94-2.06-.94-.94-2.06-.94 2.06-2.06.94z\"/><path d=\"M17.41 7.96l-1.37-1.37c-.4-.4-.92-.59-1.43-.59-.52 0-1.04.2-1.43.59L10.3 9.45l-7.72 7.72c-.78.78-.78 2.05 0 2.83L4 21.41c.39.39.9.59 1.41.59.51 0 1.02-.2 1.41-.59l7.78-7.78 2.81-2.81c.8-.78.8-2.07 0-2.86zM5.41 20L4 18.59l7.72-7.72 1.47 1.35L5.41 20z\"/>\n",
              "  </svg>\n",
              "      </button>\n",
              "      \n",
              "  <style>\n",
              "    .colab-df-container {\n",
              "      display:flex;\n",
              "      flex-wrap:wrap;\n",
              "      gap: 12px;\n",
              "    }\n",
              "\n",
              "    .colab-df-convert {\n",
              "      background-color: #E8F0FE;\n",
              "      border: none;\n",
              "      border-radius: 50%;\n",
              "      cursor: pointer;\n",
              "      display: none;\n",
              "      fill: #1967D2;\n",
              "      height: 32px;\n",
              "      padding: 0 0 0 0;\n",
              "      width: 32px;\n",
              "    }\n",
              "\n",
              "    .colab-df-convert:hover {\n",
              "      background-color: #E2EBFA;\n",
              "      box-shadow: 0px 1px 2px rgba(60, 64, 67, 0.3), 0px 1px 3px 1px rgba(60, 64, 67, 0.15);\n",
              "      fill: #174EA6;\n",
              "    }\n",
              "\n",
              "    [theme=dark] .colab-df-convert {\n",
              "      background-color: #3B4455;\n",
              "      fill: #D2E3FC;\n",
              "    }\n",
              "\n",
              "    [theme=dark] .colab-df-convert:hover {\n",
              "      background-color: #434B5C;\n",
              "      box-shadow: 0px 1px 3px 1px rgba(0, 0, 0, 0.15);\n",
              "      filter: drop-shadow(0px 1px 2px rgba(0, 0, 0, 0.3));\n",
              "      fill: #FFFFFF;\n",
              "    }\n",
              "  </style>\n",
              "\n",
              "      <script>\n",
              "        const buttonEl =\n",
              "          document.querySelector('#df-aecb4679-0b6e-43ad-9100-cea986199df9 button.colab-df-convert');\n",
              "        buttonEl.style.display =\n",
              "          google.colab.kernel.accessAllowed ? 'block' : 'none';\n",
              "\n",
              "        async function convertToInteractive(key) {\n",
              "          const element = document.querySelector('#df-aecb4679-0b6e-43ad-9100-cea986199df9');\n",
              "          const dataTable =\n",
              "            await google.colab.kernel.invokeFunction('convertToInteractive',\n",
              "                                                     [key], {});\n",
              "          if (!dataTable) return;\n",
              "\n",
              "          const docLinkHtml = 'Like what you see? Visit the ' +\n",
              "            '<a target=\"_blank\" href=https://colab.research.google.com/notebooks/data_table.ipynb>data table notebook</a>'\n",
              "            + ' to learn more about interactive tables.';\n",
              "          element.innerHTML = '';\n",
              "          dataTable['output_type'] = 'display_data';\n",
              "          await google.colab.output.renderOutput(dataTable, element);\n",
              "          const docLink = document.createElement('div');\n",
              "          docLink.innerHTML = docLinkHtml;\n",
              "          element.appendChild(docLink);\n",
              "        }\n",
              "      </script>\n",
              "    </div>\n",
              "  </div>\n",
              "  "
            ]
          },
          "metadata": {},
          "execution_count": 6
        }
      ]
    },
    {
      "cell_type": "code",
      "source": [
        "# Verifica se tem NaN na database_inmet\n",
        "hasNan = pd_1.isnull().values.any() \n",
        "print(hasNan)"
      ],
      "metadata": {
        "colab": {
          "base_uri": "https://localhost:8080/"
        },
        "id": "NjPFdmu_QrEM",
        "outputId": "571aacc4-e837-4215-de84-8285b369be47"
      },
      "execution_count": 7,
      "outputs": [
        {
          "output_type": "stream",
          "name": "stdout",
          "text": [
            "True\n"
          ]
        }
      ]
    },
    {
      "cell_type": "markdown",
      "source": [
        "### NAN -> Zero"
      ],
      "metadata": {
        "id": "hVtWbwmzEI3B"
      }
    },
    {
      "cell_type": "code",
      "source": [
        "# Substituir NaN por ZEROS\n",
        "pd_1 = pd_1.fillna(0)"
      ],
      "metadata": {
        "id": "SaZ2y_ck23mS"
      },
      "execution_count": 8,
      "outputs": []
    },
    {
      "cell_type": "code",
      "source": [
        "# Verifica se tem NaN na database_inmet\n",
        "hasNan = pd_1.isnull().values.any() \n",
        "print(hasNan)"
      ],
      "metadata": {
        "colab": {
          "base_uri": "https://localhost:8080/"
        },
        "outputId": "f7cd1e99-2c09-4a1a-cc23-547b4ff29a3f",
        "id": "7ppc_e9t3PNK"
      },
      "execution_count": 9,
      "outputs": [
        {
          "output_type": "stream",
          "name": "stdout",
          "text": [
            "False\n"
          ]
        }
      ]
    },
    {
      "cell_type": "markdown",
      "source": [
        "## Coneverter String -> Float"
      ],
      "metadata": {
        "id": "L3oXLXQol3j2"
      }
    },
    {
      "cell_type": "code",
      "source": [
        "pd_1.replace(',', '.', regex=True, inplace=True)\n",
        "pd_2.replace(',', '.', regex=True, inplace=True)\n",
        "pd_3.replace(',', '.', regex=True, inplace=True)\n",
        "pd_4.replace(',', '.', regex=True, inplace=True)\n",
        "pd_5.replace(',', '.', regex=True, inplace=True)"
      ],
      "metadata": {
        "id": "5IJdIoZcmCB2"
      },
      "execution_count": 10,
      "outputs": []
    },
    {
      "cell_type": "code",
      "source": [
        "pd_1 = pd_1.iloc[:,2:].astype(float)\n",
        "pd_2 = pd_2.iloc[:,2:].astype(float)\n",
        "pd_3 = pd_3.iloc[:,2:].astype(float)\n",
        "pd_4 = pd_4.iloc[:,2:].astype(float)\n",
        "pd_5 = pd_5.iloc[:,2:].astype(float)"
      ],
      "metadata": {
        "id": "fzn2tGavmYU2"
      },
      "execution_count": 11,
      "outputs": []
    },
    {
      "cell_type": "code",
      "source": [
        "pd_1.DIARIO (AUT)(mm)"
      ],
      "metadata": {
        "colab": {
          "base_uri": "https://localhost:8080/",
          "height": 287
        },
        "id": "DDpeUkPpm8I9",
        "outputId": "bb8f0bbf-0d90-410c-bb69-c6054de273f1"
      },
      "execution_count": 12,
      "outputs": [
        {
          "output_type": "error",
          "ename": "AttributeError",
          "evalue": "ignored",
          "traceback": [
            "\u001b[0;31m---------------------------------------------------------------------------\u001b[0m",
            "\u001b[0;31mAttributeError\u001b[0m                            Traceback (most recent call last)",
            "\u001b[0;32m<ipython-input-12-f25373d0d9a0>\u001b[0m in \u001b[0;36m<module>\u001b[0;34m()\u001b[0m\n\u001b[0;32m----> 1\u001b[0;31m \u001b[0mpd_1\u001b[0m\u001b[0;34m.\u001b[0m\u001b[0mDIARIO\u001b[0m \u001b[0;34m(\u001b[0m\u001b[0mAUT\u001b[0m\u001b[0;34m)\u001b[0m\u001b[0;34m(\u001b[0m\u001b[0mmm\u001b[0m\u001b[0;34m)\u001b[0m\u001b[0;34m\u001b[0m\u001b[0;34m\u001b[0m\u001b[0m\n\u001b[0m",
            "\u001b[0;32m/usr/local/lib/python3.7/dist-packages/pandas/core/generic.py\u001b[0m in \u001b[0;36m__getattr__\u001b[0;34m(self, name)\u001b[0m\n\u001b[1;32m   5485\u001b[0m         ):\n\u001b[1;32m   5486\u001b[0m             \u001b[0;32mreturn\u001b[0m \u001b[0mself\u001b[0m\u001b[0;34m[\u001b[0m\u001b[0mname\u001b[0m\u001b[0;34m]\u001b[0m\u001b[0;34m\u001b[0m\u001b[0;34m\u001b[0m\u001b[0m\n\u001b[0;32m-> 5487\u001b[0;31m         \u001b[0;32mreturn\u001b[0m \u001b[0mobject\u001b[0m\u001b[0;34m.\u001b[0m\u001b[0m__getattribute__\u001b[0m\u001b[0;34m(\u001b[0m\u001b[0mself\u001b[0m\u001b[0;34m,\u001b[0m \u001b[0mname\u001b[0m\u001b[0;34m)\u001b[0m\u001b[0;34m\u001b[0m\u001b[0;34m\u001b[0m\u001b[0m\n\u001b[0m\u001b[1;32m   5488\u001b[0m \u001b[0;34m\u001b[0m\u001b[0m\n\u001b[1;32m   5489\u001b[0m     \u001b[0;32mdef\u001b[0m \u001b[0m__setattr__\u001b[0m\u001b[0;34m(\u001b[0m\u001b[0mself\u001b[0m\u001b[0;34m,\u001b[0m \u001b[0mname\u001b[0m\u001b[0;34m:\u001b[0m \u001b[0mstr\u001b[0m\u001b[0;34m,\u001b[0m \u001b[0mvalue\u001b[0m\u001b[0;34m)\u001b[0m \u001b[0;34m->\u001b[0m \u001b[0;32mNone\u001b[0m\u001b[0;34m:\u001b[0m\u001b[0;34m\u001b[0m\u001b[0;34m\u001b[0m\u001b[0m\n",
            "\u001b[0;31mAttributeError\u001b[0m: 'DataFrame' object has no attribute 'DIARIO'"
          ]
        }
      ]
    },
    {
      "cell_type": "markdown",
      "source": [
        "# Processamento - Calculo:"
      ],
      "metadata": {
        "id": "OrpEKLL0EgN5"
      }
    },
    {
      "cell_type": "code",
      "source": [
        ""
      ],
      "metadata": {
        "id": "FTRtOhY0EezZ"
      },
      "execution_count": null,
      "outputs": []
    }
  ]
}