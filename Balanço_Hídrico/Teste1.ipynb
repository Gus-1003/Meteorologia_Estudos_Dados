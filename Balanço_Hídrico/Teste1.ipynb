{
  "nbformat": 4,
  "nbformat_minor": 0,
  "metadata": {
    "colab": {
      "name": "Teste1.ipynb",
      "provenance": [],
      "collapsed_sections": [],
      "toc_visible": true,
      "include_colab_link": true
    },
    "kernelspec": {
      "name": "python3",
      "display_name": "Python 3"
    },
    "language_info": {
      "name": "python"
    }
  },
  "cells": [
    {
      "cell_type": "markdown",
      "metadata": {
        "id": "view-in-github",
        "colab_type": "text"
      },
      "source": [
        "<a href=\"https://colab.research.google.com/github/Gus-1003/Meteorologia_Estudos_Dados/blob/main/Balan%C3%A7o_H%C3%ADdrico/Teste1.ipynb\" target=\"_parent\"><img src=\"https://colab.research.google.com/assets/colab-badge.svg\" alt=\"Open In Colab\"/></a>"
      ]
    },
    {
      "cell_type": "markdown",
      "source": [
        "# **Contexto do Projeto:**"
      ],
      "metadata": {
        "id": "6eVwYf6WExVi"
      }
    },
    {
      "cell_type": "markdown",
      "source": [
        "# **Bibliotecas Básicas**"
      ],
      "metadata": {
        "id": "JZGb73KbGTWC"
      }
    },
    {
      "cell_type": "code",
      "source": [
        "print(\"Importando e Instalando Bibliotecas básicas...\")\n",
        "import numpy as np\n",
        "import pandas as pd\n",
        "import matplotlib.pyplot as plt\n",
        "#import seaborn as sb\n"
      ],
      "metadata": {
        "id": "PJm7TzNpGlAk",
        "colab": {
          "base_uri": "https://localhost:8080/"
        },
        "outputId": "89b80037-d0ec-442a-bd79-3a7eca8184e2"
      },
      "execution_count": 1,
      "outputs": [
        {
          "output_type": "stream",
          "name": "stdout",
          "text": [
            "Importando e Instalando Bibliotecas básicas...\n"
          ]
        }
      ]
    },
    {
      "cell_type": "markdown",
      "source": [
        "# **Pré - Processamento**"
      ],
      "metadata": {
        "id": "yN6-ZppqGy-T"
      }
    },
    {
      "cell_type": "markdown",
      "source": [
        "## Leitura dos dados da produção do RN"
      ],
      "metadata": {
        "id": "BlBfinKj9hEj"
      }
    },
    {
      "cell_type": "code",
      "source": [
        "# Nordeste - Paraiba - Campina Grande\n",
        "pd_1 = pd.read_csv('https://raw.githubusercontent.com/Gus-1003/Meteorologia_Estudos_Dados/main/Balan%C3%A7o_H%C3%ADdrico/dados_teste1/CAMPINA%20GRANDE%20(A313)_2021-01-01_2021-12-31.csv',encoding='utf-8', delimiter=';')\n",
        "# Centro_Oeste - Mato Grosso do Sul - Campo Grande\n",
        "pd_2 = pd.read_csv('https://raw.githubusercontent.com/Gus-1003/Meteorologia_Estudos_Dados/main/Balan%C3%A7o_H%C3%ADdrico/dados_teste1/CAMPO%20GRANDE%20(A702)_2021-01-01_2021-12-31.csv',encoding='utf-8', delimiter=';')\n",
        "# Norte - Acre - Feijo \n",
        "pd_3 = pd.read_csv('https://raw.githubusercontent.com/Gus-1003/Meteorologia_Estudos_Dados/main/Balan%C3%A7o_H%C3%ADdrico/dados_teste1/FEIJO%20(A138)_2021-01-01_2021-12-31.csv',encoding='utf-8', delimiter=';')\n",
        "# Sul - Paraná - Curitiba\n",
        "pd_4 = pd.read_csv('https://raw.githubusercontent.com/Gus-1003/Meteorologia_Estudos_Dados/main/Balan%C3%A7o_H%C3%ADdrico/dados_teste1/CURITIBA%20(A807)_2021-01-01_2021-12-31.csv',encoding='utf-8', delimiter=';')\n",
        "# Sudeste - Rio de Janeiro - Duque de Caxias / Xerem\n",
        "pd_5 = pd.read_csv('https://raw.githubusercontent.com/Gus-1003/Meteorologia_Estudos_Dados/main/Balan%C3%A7o_H%C3%ADdrico/dados_teste1/DUQUE%20DE%20CAXIAS%20-%20XEREM%20(A603)_2021-01-01_2021-12-31.csv',encoding='utf-8', delimiter=';')"
      ],
      "metadata": {
        "id": "cqM8pXxOrXyj"
      },
      "execution_count": 2,
      "outputs": []
    },
    {
      "cell_type": "markdown",
      "source": [
        "## Plot Dataframes:"
      ],
      "metadata": {
        "id": "Lbw9yAWo_CVa"
      }
    },
    {
      "cell_type": "code",
      "source": [
        "pd_1\n",
        "# pd_2\n",
        "# pd_3\n",
        "# pd_4\n",
        "# pd_5"
      ],
      "metadata": {
        "colab": {
          "base_uri": "https://localhost:8080/",
          "height": 540
        },
        "id": "C8aTpmNVzhnv",
        "outputId": "6ee36271-337c-426f-a1e8-a62862bdb6c3"
      },
      "execution_count": 3,
      "outputs": [
        {
          "output_type": "execute_result",
          "data": {
            "text/plain": [
              "            Data  Hora (UTC) Temp. Ins. (C) Temp. Max. (C) Temp. Min. (C)  \\\n",
              "0     01/01/2021           0           22,1           23,4           22,1   \n",
              "1     01/01/2021         100           21,7           22,2           21,6   \n",
              "2     01/01/2021         200           21,9           22,0           21,7   \n",
              "3     01/01/2021         300           21,9           22,0           21,8   \n",
              "4     01/01/2021         400           21,3           21,9           21,3   \n",
              "...          ...         ...            ...            ...            ...   \n",
              "8755  31/12/2021        1900           28,6           30,4           28,5   \n",
              "8756  31/12/2021        2000           27,1           28,9           27,1   \n",
              "8757  31/12/2021        2100           25,9           27,1           25,9   \n",
              "8758  31/12/2021        2200           24,7           25,9           24,7   \n",
              "8759  31/12/2021        2300           24,1           24,7           24,0   \n",
              "\n",
              "     Umi. Ins. (%) Umi. Max. (%) Umi. Min. (%) Pto Orvalho Ins. (C)  \\\n",
              "0             93,0          94,0          86,0                 21,0   \n",
              "1             96,0          96,0          93,0                 21,0   \n",
              "2             95,0          96,0          95,0                 21,1   \n",
              "3             95,0          95,0          94,0                 21,0   \n",
              "4             97,0          97,0          95,0                 20,8   \n",
              "...            ...           ...           ...                  ...   \n",
              "8755          58,0          58,0          51,0                 19,5   \n",
              "8756          65,0          65,0          57,0                 19,8   \n",
              "8757          70,0          70,0          65,0                 19,9   \n",
              "8758          79,0          79,0          70,0                 20,7   \n",
              "8759          82,0          82,0          79,0                 20,8   \n",
              "\n",
              "     Pto Orvalho Max. (C) Pto Orvalho Min. (C) Pressao Ins. (hPa)  \\\n",
              "0                    21,3                 20,8              953,1   \n",
              "1                    21,2                 20,9              952,9   \n",
              "2                    21,2                 21,0              952,6   \n",
              "3                    21,1                 20,9              952,2   \n",
              "4                    21,0                 20,7              952,0   \n",
              "...                   ...                  ...                ...   \n",
              "8755                 20,0                 19,2              947,7   \n",
              "8756                 20,0                 19,2              948,2   \n",
              "8757                 20,2                 19,8              949,1   \n",
              "8758                 20,8                 19,9              950,1   \n",
              "8759                 21,0                 20,7              951,3   \n",
              "\n",
              "     Pressao Max. (hPa) Pressao Min. (hPa) Vel. Vento (m/s) Dir. Vento (m/s)  \\\n",
              "0                 953,1              952,5              3,9            173,0   \n",
              "1                 953,1              952,9              3,7            179,0   \n",
              "2                 952,9              952,6              4,2            197,0   \n",
              "3                 952,7              952,1              4,8            194,0   \n",
              "4                 952,2              951,9              2,2            183,0   \n",
              "...                 ...                ...              ...              ...   \n",
              "8755              947,7              947,3              5,6            162,0   \n",
              "8756              948,3              947,7              5,4            177,0   \n",
              "8757              949,1              948,2              5,7            176,0   \n",
              "8758              950,1              949,1              5,5            160,0   \n",
              "8759              951,3              950,1              4,4            190,0   \n",
              "\n",
              "     Raj. Vento (m/s) Radiacao (KJ/m²) Chuva (mm)  \n",
              "0                 9,0              NaN        0,4  \n",
              "1                 9,0              NaN        0,2  \n",
              "2                 6,8              NaN        0,0  \n",
              "3                 8,3              NaN        0,0  \n",
              "4                 8,5              NaN        0,2  \n",
              "...               ...              ...        ...  \n",
              "8755             10,8          1290,70        0,0  \n",
              "8756             10,0           415,10        0,0  \n",
              "8757             10,5             5,80        0,0  \n",
              "8758             11,4              NaN        0,0  \n",
              "8759             11,0              NaN        0,0  \n",
              "\n",
              "[8760 rows x 19 columns]"
            ],
            "text/html": [
              "\n",
              "  <div id=\"df-7b9393b3-42da-425b-8d35-8fee6e1a7cb4\">\n",
              "    <div class=\"colab-df-container\">\n",
              "      <div>\n",
              "<style scoped>\n",
              "    .dataframe tbody tr th:only-of-type {\n",
              "        vertical-align: middle;\n",
              "    }\n",
              "\n",
              "    .dataframe tbody tr th {\n",
              "        vertical-align: top;\n",
              "    }\n",
              "\n",
              "    .dataframe thead th {\n",
              "        text-align: right;\n",
              "    }\n",
              "</style>\n",
              "<table border=\"1\" class=\"dataframe\">\n",
              "  <thead>\n",
              "    <tr style=\"text-align: right;\">\n",
              "      <th></th>\n",
              "      <th>Data</th>\n",
              "      <th>Hora (UTC)</th>\n",
              "      <th>Temp. Ins. (C)</th>\n",
              "      <th>Temp. Max. (C)</th>\n",
              "      <th>Temp. Min. (C)</th>\n",
              "      <th>Umi. Ins. (%)</th>\n",
              "      <th>Umi. Max. (%)</th>\n",
              "      <th>Umi. Min. (%)</th>\n",
              "      <th>Pto Orvalho Ins. (C)</th>\n",
              "      <th>Pto Orvalho Max. (C)</th>\n",
              "      <th>Pto Orvalho Min. (C)</th>\n",
              "      <th>Pressao Ins. (hPa)</th>\n",
              "      <th>Pressao Max. (hPa)</th>\n",
              "      <th>Pressao Min. (hPa)</th>\n",
              "      <th>Vel. Vento (m/s)</th>\n",
              "      <th>Dir. Vento (m/s)</th>\n",
              "      <th>Raj. Vento (m/s)</th>\n",
              "      <th>Radiacao (KJ/m²)</th>\n",
              "      <th>Chuva (mm)</th>\n",
              "    </tr>\n",
              "  </thead>\n",
              "  <tbody>\n",
              "    <tr>\n",
              "      <th>0</th>\n",
              "      <td>01/01/2021</td>\n",
              "      <td>0</td>\n",
              "      <td>22,1</td>\n",
              "      <td>23,4</td>\n",
              "      <td>22,1</td>\n",
              "      <td>93,0</td>\n",
              "      <td>94,0</td>\n",
              "      <td>86,0</td>\n",
              "      <td>21,0</td>\n",
              "      <td>21,3</td>\n",
              "      <td>20,8</td>\n",
              "      <td>953,1</td>\n",
              "      <td>953,1</td>\n",
              "      <td>952,5</td>\n",
              "      <td>3,9</td>\n",
              "      <td>173,0</td>\n",
              "      <td>9,0</td>\n",
              "      <td>NaN</td>\n",
              "      <td>0,4</td>\n",
              "    </tr>\n",
              "    <tr>\n",
              "      <th>1</th>\n",
              "      <td>01/01/2021</td>\n",
              "      <td>100</td>\n",
              "      <td>21,7</td>\n",
              "      <td>22,2</td>\n",
              "      <td>21,6</td>\n",
              "      <td>96,0</td>\n",
              "      <td>96,0</td>\n",
              "      <td>93,0</td>\n",
              "      <td>21,0</td>\n",
              "      <td>21,2</td>\n",
              "      <td>20,9</td>\n",
              "      <td>952,9</td>\n",
              "      <td>953,1</td>\n",
              "      <td>952,9</td>\n",
              "      <td>3,7</td>\n",
              "      <td>179,0</td>\n",
              "      <td>9,0</td>\n",
              "      <td>NaN</td>\n",
              "      <td>0,2</td>\n",
              "    </tr>\n",
              "    <tr>\n",
              "      <th>2</th>\n",
              "      <td>01/01/2021</td>\n",
              "      <td>200</td>\n",
              "      <td>21,9</td>\n",
              "      <td>22,0</td>\n",
              "      <td>21,7</td>\n",
              "      <td>95,0</td>\n",
              "      <td>96,0</td>\n",
              "      <td>95,0</td>\n",
              "      <td>21,1</td>\n",
              "      <td>21,2</td>\n",
              "      <td>21,0</td>\n",
              "      <td>952,6</td>\n",
              "      <td>952,9</td>\n",
              "      <td>952,6</td>\n",
              "      <td>4,2</td>\n",
              "      <td>197,0</td>\n",
              "      <td>6,8</td>\n",
              "      <td>NaN</td>\n",
              "      <td>0,0</td>\n",
              "    </tr>\n",
              "    <tr>\n",
              "      <th>3</th>\n",
              "      <td>01/01/2021</td>\n",
              "      <td>300</td>\n",
              "      <td>21,9</td>\n",
              "      <td>22,0</td>\n",
              "      <td>21,8</td>\n",
              "      <td>95,0</td>\n",
              "      <td>95,0</td>\n",
              "      <td>94,0</td>\n",
              "      <td>21,0</td>\n",
              "      <td>21,1</td>\n",
              "      <td>20,9</td>\n",
              "      <td>952,2</td>\n",
              "      <td>952,7</td>\n",
              "      <td>952,1</td>\n",
              "      <td>4,8</td>\n",
              "      <td>194,0</td>\n",
              "      <td>8,3</td>\n",
              "      <td>NaN</td>\n",
              "      <td>0,0</td>\n",
              "    </tr>\n",
              "    <tr>\n",
              "      <th>4</th>\n",
              "      <td>01/01/2021</td>\n",
              "      <td>400</td>\n",
              "      <td>21,3</td>\n",
              "      <td>21,9</td>\n",
              "      <td>21,3</td>\n",
              "      <td>97,0</td>\n",
              "      <td>97,0</td>\n",
              "      <td>95,0</td>\n",
              "      <td>20,8</td>\n",
              "      <td>21,0</td>\n",
              "      <td>20,7</td>\n",
              "      <td>952,0</td>\n",
              "      <td>952,2</td>\n",
              "      <td>951,9</td>\n",
              "      <td>2,2</td>\n",
              "      <td>183,0</td>\n",
              "      <td>8,5</td>\n",
              "      <td>NaN</td>\n",
              "      <td>0,2</td>\n",
              "    </tr>\n",
              "    <tr>\n",
              "      <th>...</th>\n",
              "      <td>...</td>\n",
              "      <td>...</td>\n",
              "      <td>...</td>\n",
              "      <td>...</td>\n",
              "      <td>...</td>\n",
              "      <td>...</td>\n",
              "      <td>...</td>\n",
              "      <td>...</td>\n",
              "      <td>...</td>\n",
              "      <td>...</td>\n",
              "      <td>...</td>\n",
              "      <td>...</td>\n",
              "      <td>...</td>\n",
              "      <td>...</td>\n",
              "      <td>...</td>\n",
              "      <td>...</td>\n",
              "      <td>...</td>\n",
              "      <td>...</td>\n",
              "      <td>...</td>\n",
              "    </tr>\n",
              "    <tr>\n",
              "      <th>8755</th>\n",
              "      <td>31/12/2021</td>\n",
              "      <td>1900</td>\n",
              "      <td>28,6</td>\n",
              "      <td>30,4</td>\n",
              "      <td>28,5</td>\n",
              "      <td>58,0</td>\n",
              "      <td>58,0</td>\n",
              "      <td>51,0</td>\n",
              "      <td>19,5</td>\n",
              "      <td>20,0</td>\n",
              "      <td>19,2</td>\n",
              "      <td>947,7</td>\n",
              "      <td>947,7</td>\n",
              "      <td>947,3</td>\n",
              "      <td>5,6</td>\n",
              "      <td>162,0</td>\n",
              "      <td>10,8</td>\n",
              "      <td>1290,70</td>\n",
              "      <td>0,0</td>\n",
              "    </tr>\n",
              "    <tr>\n",
              "      <th>8756</th>\n",
              "      <td>31/12/2021</td>\n",
              "      <td>2000</td>\n",
              "      <td>27,1</td>\n",
              "      <td>28,9</td>\n",
              "      <td>27,1</td>\n",
              "      <td>65,0</td>\n",
              "      <td>65,0</td>\n",
              "      <td>57,0</td>\n",
              "      <td>19,8</td>\n",
              "      <td>20,0</td>\n",
              "      <td>19,2</td>\n",
              "      <td>948,2</td>\n",
              "      <td>948,3</td>\n",
              "      <td>947,7</td>\n",
              "      <td>5,4</td>\n",
              "      <td>177,0</td>\n",
              "      <td>10,0</td>\n",
              "      <td>415,10</td>\n",
              "      <td>0,0</td>\n",
              "    </tr>\n",
              "    <tr>\n",
              "      <th>8757</th>\n",
              "      <td>31/12/2021</td>\n",
              "      <td>2100</td>\n",
              "      <td>25,9</td>\n",
              "      <td>27,1</td>\n",
              "      <td>25,9</td>\n",
              "      <td>70,0</td>\n",
              "      <td>70,0</td>\n",
              "      <td>65,0</td>\n",
              "      <td>19,9</td>\n",
              "      <td>20,2</td>\n",
              "      <td>19,8</td>\n",
              "      <td>949,1</td>\n",
              "      <td>949,1</td>\n",
              "      <td>948,2</td>\n",
              "      <td>5,7</td>\n",
              "      <td>176,0</td>\n",
              "      <td>10,5</td>\n",
              "      <td>5,80</td>\n",
              "      <td>0,0</td>\n",
              "    </tr>\n",
              "    <tr>\n",
              "      <th>8758</th>\n",
              "      <td>31/12/2021</td>\n",
              "      <td>2200</td>\n",
              "      <td>24,7</td>\n",
              "      <td>25,9</td>\n",
              "      <td>24,7</td>\n",
              "      <td>79,0</td>\n",
              "      <td>79,0</td>\n",
              "      <td>70,0</td>\n",
              "      <td>20,7</td>\n",
              "      <td>20,8</td>\n",
              "      <td>19,9</td>\n",
              "      <td>950,1</td>\n",
              "      <td>950,1</td>\n",
              "      <td>949,1</td>\n",
              "      <td>5,5</td>\n",
              "      <td>160,0</td>\n",
              "      <td>11,4</td>\n",
              "      <td>NaN</td>\n",
              "      <td>0,0</td>\n",
              "    </tr>\n",
              "    <tr>\n",
              "      <th>8759</th>\n",
              "      <td>31/12/2021</td>\n",
              "      <td>2300</td>\n",
              "      <td>24,1</td>\n",
              "      <td>24,7</td>\n",
              "      <td>24,0</td>\n",
              "      <td>82,0</td>\n",
              "      <td>82,0</td>\n",
              "      <td>79,0</td>\n",
              "      <td>20,8</td>\n",
              "      <td>21,0</td>\n",
              "      <td>20,7</td>\n",
              "      <td>951,3</td>\n",
              "      <td>951,3</td>\n",
              "      <td>950,1</td>\n",
              "      <td>4,4</td>\n",
              "      <td>190,0</td>\n",
              "      <td>11,0</td>\n",
              "      <td>NaN</td>\n",
              "      <td>0,0</td>\n",
              "    </tr>\n",
              "  </tbody>\n",
              "</table>\n",
              "<p>8760 rows × 19 columns</p>\n",
              "</div>\n",
              "      <button class=\"colab-df-convert\" onclick=\"convertToInteractive('df-7b9393b3-42da-425b-8d35-8fee6e1a7cb4')\"\n",
              "              title=\"Convert this dataframe to an interactive table.\"\n",
              "              style=\"display:none;\">\n",
              "        \n",
              "  <svg xmlns=\"http://www.w3.org/2000/svg\" height=\"24px\"viewBox=\"0 0 24 24\"\n",
              "       width=\"24px\">\n",
              "    <path d=\"M0 0h24v24H0V0z\" fill=\"none\"/>\n",
              "    <path d=\"M18.56 5.44l.94 2.06.94-2.06 2.06-.94-2.06-.94-.94-2.06-.94 2.06-2.06.94zm-11 1L8.5 8.5l.94-2.06 2.06-.94-2.06-.94L8.5 2.5l-.94 2.06-2.06.94zm10 10l.94 2.06.94-2.06 2.06-.94-2.06-.94-.94-2.06-.94 2.06-2.06.94z\"/><path d=\"M17.41 7.96l-1.37-1.37c-.4-.4-.92-.59-1.43-.59-.52 0-1.04.2-1.43.59L10.3 9.45l-7.72 7.72c-.78.78-.78 2.05 0 2.83L4 21.41c.39.39.9.59 1.41.59.51 0 1.02-.2 1.41-.59l7.78-7.78 2.81-2.81c.8-.78.8-2.07 0-2.86zM5.41 20L4 18.59l7.72-7.72 1.47 1.35L5.41 20z\"/>\n",
              "  </svg>\n",
              "      </button>\n",
              "      \n",
              "  <style>\n",
              "    .colab-df-container {\n",
              "      display:flex;\n",
              "      flex-wrap:wrap;\n",
              "      gap: 12px;\n",
              "    }\n",
              "\n",
              "    .colab-df-convert {\n",
              "      background-color: #E8F0FE;\n",
              "      border: none;\n",
              "      border-radius: 50%;\n",
              "      cursor: pointer;\n",
              "      display: none;\n",
              "      fill: #1967D2;\n",
              "      height: 32px;\n",
              "      padding: 0 0 0 0;\n",
              "      width: 32px;\n",
              "    }\n",
              "\n",
              "    .colab-df-convert:hover {\n",
              "      background-color: #E2EBFA;\n",
              "      box-shadow: 0px 1px 2px rgba(60, 64, 67, 0.3), 0px 1px 3px 1px rgba(60, 64, 67, 0.15);\n",
              "      fill: #174EA6;\n",
              "    }\n",
              "\n",
              "    [theme=dark] .colab-df-convert {\n",
              "      background-color: #3B4455;\n",
              "      fill: #D2E3FC;\n",
              "    }\n",
              "\n",
              "    [theme=dark] .colab-df-convert:hover {\n",
              "      background-color: #434B5C;\n",
              "      box-shadow: 0px 1px 3px 1px rgba(0, 0, 0, 0.15);\n",
              "      filter: drop-shadow(0px 1px 2px rgba(0, 0, 0, 0.3));\n",
              "      fill: #FFFFFF;\n",
              "    }\n",
              "  </style>\n",
              "\n",
              "      <script>\n",
              "        const buttonEl =\n",
              "          document.querySelector('#df-7b9393b3-42da-425b-8d35-8fee6e1a7cb4 button.colab-df-convert');\n",
              "        buttonEl.style.display =\n",
              "          google.colab.kernel.accessAllowed ? 'block' : 'none';\n",
              "\n",
              "        async function convertToInteractive(key) {\n",
              "          const element = document.querySelector('#df-7b9393b3-42da-425b-8d35-8fee6e1a7cb4');\n",
              "          const dataTable =\n",
              "            await google.colab.kernel.invokeFunction('convertToInteractive',\n",
              "                                                     [key], {});\n",
              "          if (!dataTable) return;\n",
              "\n",
              "          const docLinkHtml = 'Like what you see? Visit the ' +\n",
              "            '<a target=\"_blank\" href=https://colab.research.google.com/notebooks/data_table.ipynb>data table notebook</a>'\n",
              "            + ' to learn more about interactive tables.';\n",
              "          element.innerHTML = '';\n",
              "          dataTable['output_type'] = 'display_data';\n",
              "          await google.colab.output.renderOutput(dataTable, element);\n",
              "          const docLink = document.createElement('div');\n",
              "          docLink.innerHTML = docLinkHtml;\n",
              "          element.appendChild(docLink);\n",
              "        }\n",
              "      </script>\n",
              "    </div>\n",
              "  </div>\n",
              "  "
            ]
          },
          "metadata": {},
          "execution_count": 3
        }
      ]
    },
    {
      "cell_type": "code",
      "source": [
        "pd_1.info"
      ],
      "metadata": {
        "colab": {
          "base_uri": "https://localhost:8080/"
        },
        "id": "MYyzW9ovneOv",
        "outputId": "913ec61a-a404-481c-ab36-2c77b5bd9de5"
      },
      "execution_count": 4,
      "outputs": [
        {
          "output_type": "execute_result",
          "data": {
            "text/plain": [
              "<bound method DataFrame.info of             Data  Hora (UTC) Temp. Ins. (C) Temp. Max. (C) Temp. Min. (C)  \\\n",
              "0     01/01/2021           0           22,1           23,4           22,1   \n",
              "1     01/01/2021         100           21,7           22,2           21,6   \n",
              "2     01/01/2021         200           21,9           22,0           21,7   \n",
              "3     01/01/2021         300           21,9           22,0           21,8   \n",
              "4     01/01/2021         400           21,3           21,9           21,3   \n",
              "...          ...         ...            ...            ...            ...   \n",
              "8755  31/12/2021        1900           28,6           30,4           28,5   \n",
              "8756  31/12/2021        2000           27,1           28,9           27,1   \n",
              "8757  31/12/2021        2100           25,9           27,1           25,9   \n",
              "8758  31/12/2021        2200           24,7           25,9           24,7   \n",
              "8759  31/12/2021        2300           24,1           24,7           24,0   \n",
              "\n",
              "     Umi. Ins. (%) Umi. Max. (%) Umi. Min. (%) Pto Orvalho Ins. (C)  \\\n",
              "0             93,0          94,0          86,0                 21,0   \n",
              "1             96,0          96,0          93,0                 21,0   \n",
              "2             95,0          96,0          95,0                 21,1   \n",
              "3             95,0          95,0          94,0                 21,0   \n",
              "4             97,0          97,0          95,0                 20,8   \n",
              "...            ...           ...           ...                  ...   \n",
              "8755          58,0          58,0          51,0                 19,5   \n",
              "8756          65,0          65,0          57,0                 19,8   \n",
              "8757          70,0          70,0          65,0                 19,9   \n",
              "8758          79,0          79,0          70,0                 20,7   \n",
              "8759          82,0          82,0          79,0                 20,8   \n",
              "\n",
              "     Pto Orvalho Max. (C) Pto Orvalho Min. (C) Pressao Ins. (hPa)  \\\n",
              "0                    21,3                 20,8              953,1   \n",
              "1                    21,2                 20,9              952,9   \n",
              "2                    21,2                 21,0              952,6   \n",
              "3                    21,1                 20,9              952,2   \n",
              "4                    21,0                 20,7              952,0   \n",
              "...                   ...                  ...                ...   \n",
              "8755                 20,0                 19,2              947,7   \n",
              "8756                 20,0                 19,2              948,2   \n",
              "8757                 20,2                 19,8              949,1   \n",
              "8758                 20,8                 19,9              950,1   \n",
              "8759                 21,0                 20,7              951,3   \n",
              "\n",
              "     Pressao Max. (hPa) Pressao Min. (hPa) Vel. Vento (m/s) Dir. Vento (m/s)  \\\n",
              "0                 953,1              952,5              3,9            173,0   \n",
              "1                 953,1              952,9              3,7            179,0   \n",
              "2                 952,9              952,6              4,2            197,0   \n",
              "3                 952,7              952,1              4,8            194,0   \n",
              "4                 952,2              951,9              2,2            183,0   \n",
              "...                 ...                ...              ...              ...   \n",
              "8755              947,7              947,3              5,6            162,0   \n",
              "8756              948,3              947,7              5,4            177,0   \n",
              "8757              949,1              948,2              5,7            176,0   \n",
              "8758              950,1              949,1              5,5            160,0   \n",
              "8759              951,3              950,1              4,4            190,0   \n",
              "\n",
              "     Raj. Vento (m/s) Radiacao (KJ/m²) Chuva (mm)  \n",
              "0                 9,0              NaN        0,4  \n",
              "1                 9,0              NaN        0,2  \n",
              "2                 6,8              NaN        0,0  \n",
              "3                 8,3              NaN        0,0  \n",
              "4                 8,5              NaN        0,2  \n",
              "...               ...              ...        ...  \n",
              "8755             10,8          1290,70        0,0  \n",
              "8756             10,0           415,10        0,0  \n",
              "8757             10,5             5,80        0,0  \n",
              "8758             11,4              NaN        0,0  \n",
              "8759             11,0              NaN        0,0  \n",
              "\n",
              "[8760 rows x 19 columns]>"
            ]
          },
          "metadata": {},
          "execution_count": 4
        }
      ]
    },
    {
      "cell_type": "code",
      "source": [
        "type(pd_1)"
      ],
      "metadata": {
        "colab": {
          "base_uri": "https://localhost:8080/"
        },
        "id": "xrfHIDfkHjmJ",
        "outputId": "71ec3da0-92b8-4d47-ee61-5c28d77b598c"
      },
      "execution_count": 5,
      "outputs": [
        {
          "output_type": "execute_result",
          "data": {
            "text/plain": [
              "pandas.core.frame.DataFrame"
            ]
          },
          "metadata": {},
          "execution_count": 5
        }
      ]
    },
    {
      "cell_type": "markdown",
      "source": [
        "## Limpeza:"
      ],
      "metadata": {
        "id": "6ufDTaMQEEzB"
      }
    },
    {
      "cell_type": "code",
      "source": [
        "# Verifica se tem NaN na database_inmet\n",
        "hasNan = pd_1.isnull().values.any() \n",
        "print(hasNan)"
      ],
      "metadata": {
        "colab": {
          "base_uri": "https://localhost:8080/"
        },
        "id": "NjPFdmu_QrEM",
        "outputId": "ba7d6f01-8031-4641-d708-387a1d7c2f8f"
      },
      "execution_count": 7,
      "outputs": [
        {
          "output_type": "stream",
          "name": "stdout",
          "text": [
            "True\n"
          ]
        }
      ]
    },
    {
      "cell_type": "markdown",
      "source": [
        "### NAN -> Zero"
      ],
      "metadata": {
        "id": "hVtWbwmzEI3B"
      }
    },
    {
      "cell_type": "code",
      "source": [
        "# Substituir NaN por ZEROS\n",
        "pd_1 = pd_1.fillna(0)"
      ],
      "metadata": {
        "id": "SaZ2y_ck23mS"
      },
      "execution_count": 8,
      "outputs": []
    },
    {
      "cell_type": "code",
      "source": [
        "# Verifica se tem NaN na database_inmet\n",
        "hasNan = pd_1.isnull().values.any() \n",
        "print(hasNan)"
      ],
      "metadata": {
        "colab": {
          "base_uri": "https://localhost:8080/"
        },
        "outputId": "fbbd8d03-167c-49de-eb46-8f6d7c473224",
        "id": "7ppc_e9t3PNK"
      },
      "execution_count": 9,
      "outputs": [
        {
          "output_type": "stream",
          "name": "stdout",
          "text": [
            "False\n"
          ]
        }
      ]
    },
    {
      "cell_type": "markdown",
      "source": [
        "## Coneverter String -> Float"
      ],
      "metadata": {
        "id": "L3oXLXQol3j2"
      }
    },
    {
      "cell_type": "code",
      "source": [
        "pd_1.replace(',', '.', regex=True, inplace=True)\n",
        "pd_2.replace(',', '.', regex=True, inplace=True)\n",
        "pd_3.replace(',', '.', regex=True, inplace=True)\n",
        "pd_4.replace(',', '.', regex=True, inplace=True)\n",
        "pd_5.replace(',', '.', regex=True, inplace=True)"
      ],
      "metadata": {
        "id": "5IJdIoZcmCB2"
      },
      "execution_count": 10,
      "outputs": []
    },
    {
      "cell_type": "code",
      "source": [
        "pd_1 = pd_1.iloc[:,2:].astype(float)\n",
        "pd_2 = pd_2.iloc[:,2:].astype(float)\n",
        "pd_3 = pd_3.iloc[:,2:].astype(float)\n",
        "pd_4 = pd_4.iloc[:,2:].astype(float)\n",
        "pd_5 = pd_5.iloc[:,2:].astype(float)"
      ],
      "metadata": {
        "id": "fzn2tGavmYU2"
      },
      "execution_count": 11,
      "outputs": []
    },
    {
      "cell_type": "markdown",
      "source": [
        "# Processamento - Calculo:"
      ],
      "metadata": {
        "id": "OrpEKLL0EgN5"
      }
    },
    {
      "cell_type": "code",
      "source": [
        ""
      ],
      "metadata": {
        "id": "FTRtOhY0EezZ"
      },
      "execution_count": null,
      "outputs": []
    }
  ]
}